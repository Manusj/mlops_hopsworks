{
 "cells": [
  {
   "cell_type": "code",
   "execution_count": 1,
   "id": "84824703-2b3e-49b8-b9b5-bc89df9dae8b",
   "metadata": {},
   "outputs": [],
   "source": [
    "import pandas as pd\n",
    "import numpy as np\n",
    "import requests\n",
    "import hopsworks\n",
    "import joblib"
   ]
  },
  {
   "cell_type": "code",
   "execution_count": null,
   "id": "bca5e873-6e5f-4c0f-970c-3db857f49085",
   "metadata": {},
   "outputs": [],
   "source": [
    "%load_ext autoreload\n",
    "%autoreload 2"
   ]
  },
  {
   "cell_type": "markdown",
   "id": "4a2207db-37e3-468f-ac90-d6c912965779",
   "metadata": {},
   "source": [
    "# Importing Air Qualtiy Dataset for Gothenburg year 2023\n",
    "##### From https://goteborg.se/wps/portal/start/kommun-och-politik/sa-arbetar-goteborgs-stad-med/digitalisering/oppna-data/sok-oppna-data/oppna-data---datamangd#esc_entry=690&esc_context=6"
   ]
  },
  {
   "cell_type": "markdown",
   "id": "6de5ef7d-d3b1-4ed5-8aa8-28ceede52cdd",
   "metadata": {},
   "source": [
    "# EDA"
   ]
  },
  {
   "cell_type": "code",
   "execution_count": 5,
   "id": "f3095ed1-d229-45ad-8d7a-7a9d6e6b623d",
   "metadata": {},
   "outputs": [
    {
     "name": "stdout",
     "output_type": "stream",
     "text": [
      "/Users/manu/Desktop/Projects/ServerlessML/projects/air_quality\n",
      "Connected. Call `.close()` to terminate connection gracefully.\n",
      "\n",
      "Logged in to project, explore it here https://c.app.hopsworks.ai:443/p/140436\n",
      "Connected. Call `.close()` to terminate connection gracefully.\n"
     ]
    },
    {
     "name": "stderr",
     "output_type": "stream",
     "text": [
      "VersionWarning: No version provided for getting feature group `cleaned_air_quality_data`, defaulting to `1`.\n"
     ]
    }
   ],
   "source": [
    "import great_expectations as ge\n",
    "project = hopsworks.login(api_key_file=\"api_key\")\n",
    "fs = project.get_feature_store()\n",
    "fg = fs.get_feature_group(name=\"cleaned_air_quality_data\")"
   ]
  },
  {
   "cell_type": "code",
   "execution_count": 16,
   "id": "1391e823-1eb6-4f23-a7c1-d04c858c5819",
   "metadata": {},
   "outputs": [
    {
     "ename": "TypeError",
     "evalue": "__init__() got an unexpected keyword argument 'run_validation'",
     "output_type": "error",
     "traceback": [
      "\u001b[0;31m---------------------------------------------------------------------------\u001b[0m",
      "\u001b[0;31mTypeError\u001b[0m                                 Traceback (most recent call last)",
      "Cell \u001b[0;32mIn[16], line 1\u001b[0m\n\u001b[0;32m----> 1\u001b[0m expectation_suite \u001b[38;5;241m=\u001b[39m \u001b[43mge\u001b[49m\u001b[38;5;241;43m.\u001b[39;49m\u001b[43mcore\u001b[49m\u001b[38;5;241;43m.\u001b[39;49m\u001b[43mExpectationSuite\u001b[49m\u001b[43m(\u001b[49m\u001b[43mexpectation_suite_name\u001b[49m\u001b[38;5;241;43m=\u001b[39;49m\u001b[38;5;124;43m\"\u001b[39;49m\u001b[38;5;124;43mcleaned_air_quality_fg\u001b[39;49m\u001b[38;5;124;43m\"\u001b[39;49m\u001b[43m,\u001b[49m\u001b[43m \u001b[49m\u001b[43mrun_validation\u001b[49m\u001b[38;5;241;43m=\u001b[39;49m\u001b[38;5;28;43;01mTrue\u001b[39;49;00m\u001b[43m,\u001b[49m\u001b[43m \u001b[49m\u001b[43mvalidation_ingestion_policy\u001b[49m\u001b[38;5;241;43m=\u001b[39;49m\u001b[38;5;124;43m\"\u001b[39;49m\u001b[38;5;124;43mSTRICT\u001b[39;49m\u001b[38;5;124;43m\"\u001b[39;49m\u001b[43m)\u001b[49m\n\u001b[1;32m      2\u001b[0m \u001b[38;5;28;01mdef\u001b[39;00m \u001b[38;5;21mvalue_not_null\u001b[39m(expectation_suite, column_name):\n\u001b[1;32m      3\u001b[0m     expectation_suite\u001b[38;5;241m.\u001b[39madd_expectation(ge\u001b[38;5;241m.\u001b[39mcore\u001b[38;5;241m.\u001b[39mExpectationConfiguration(\n\u001b[1;32m      4\u001b[0m                                         expectation_type\u001b[38;5;241m=\u001b[39m\u001b[38;5;124m\"\u001b[39m\u001b[38;5;124mexpect_column_values_to_not_be_null\u001b[39m\u001b[38;5;124m\"\u001b[39m,\n\u001b[1;32m      5\u001b[0m                                         kwargs\u001b[38;5;241m=\u001b[39m{\n\u001b[1;32m      6\u001b[0m                                             \u001b[38;5;124m\"\u001b[39m\u001b[38;5;124mcolumn\u001b[39m\u001b[38;5;124m\"\u001b[39m: column_name,\n\u001b[1;32m      7\u001b[0m                                         }\n\u001b[1;32m      8\u001b[0m                                         ))\n",
      "\u001b[0;31mTypeError\u001b[0m: __init__() got an unexpected keyword argument 'run_validation'"
     ]
    }
   ],
   "source": [
    "expectation_suite = ge.core.ExpectationSuite(expectation_suite_name=\"cleaned_air_quality_fg\")\n",
    "def value_not_null(expectation_suite, column_name):\n",
    "    expectation_suite.add_expectation(ge.core.ExpectationConfiguration(\n",
    "                                        expectation_type=\"expect_column_values_to_not_be_null\",\n",
    "                                        kwargs={\n",
    "                                            \"column\": column_name,\n",
    "                                        }\n",
    "                                        ))\n",
    "for feature in fg.features:\n",
    "    value_not_null(expectation_suite, feature.name)\n",
    "try:\n",
    "    fg.save_expectation_suite(expectation_suite, run_validation=True, validation_ingestion_policy=\"STRICT\")\n",
    "except:\n",
    "    pass"
   ]
  },
  {
   "cell_type": "markdown",
   "id": "0659cd4e-03f1-4d50-a481-96fd83807bd2",
   "metadata": {},
   "source": [
    "# Errors"
   ]
  },
  {
   "cell_type": "code",
   "execution_count": null,
   "id": "7ae58006-ba0b-4037-b3de-8d1a8c2172fc",
   "metadata": {},
   "outputs": [],
   "source": [
    "project = hopsworks.login(api_key_file=\"api_key\")\n",
    "fs = project.get_feature_store()\n",
    "fg = fs.get_feature_group(\"cleaned_air_quality_data\")\n",
    "query = data_fg.select_all().\\\n",
    "            join(regression_prediction_fg.select(['predicted_femman_pm25']), on=\"date_time\", join_type = \"left\").\\\n",
    "            filter(regression_prediction_fg.predicted_femman_pm25 == None)\n",
    "transformations = {feature.name: fs.get_transformation_function(name=\"min_max_scaler\") \\\n",
    "                   for feature in fg.features if feature.name not in ['femman_pm25', \"date_time\", \"date_time_str\"]}\n",
    "fv = fs.get_or_create_feature_view(name=\"air_qaulity_baseline_fv_3\",\n",
    "                                   query=query,\n",
    "                                   version=1,\n",
    "                                    labels=['femman_pm25'],\n",
    "                                   transformation_functions=transformations\n",
    "                                  )"
   ]
  }
 ],
 "metadata": {
  "kernelspec": {
   "display_name": "Python 3 (ipykernel)",
   "language": "python",
   "name": "python3"
  },
  "language_info": {
   "codemirror_mode": {
    "name": "ipython",
    "version": 3
   },
   "file_extension": ".py",
   "mimetype": "text/x-python",
   "name": "python",
   "nbconvert_exporter": "python",
   "pygments_lexer": "ipython3",
   "version": "3.9.18"
  }
 },
 "nbformat": 4,
 "nbformat_minor": 5
}
