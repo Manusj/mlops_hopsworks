{
 "cells": [
  {
   "cell_type": "code",
   "execution_count": 1,
   "id": "84824703-2b3e-49b8-b9b5-bc89df9dae8b",
   "metadata": {},
   "outputs": [],
   "source": [
    "import pandas as pd\n",
    "import numpy as np\n",
    "import requests\n",
    "import hopsworks\n",
    "import joblib"
   ]
  },
  {
   "cell_type": "code",
   "execution_count": 2,
   "id": "bca5e873-6e5f-4c0f-970c-3db857f49085",
   "metadata": {},
   "outputs": [
    {
     "name": "stdout",
     "output_type": "stream",
     "text": [
      "/Users/manu/Desktop/Projects/ServerlessML/projects/air_quality\n"
     ]
    }
   ],
   "source": [
    "%load_ext autoreload\n",
    "%autoreload 2\n",
    "%cd .. "
   ]
  },
  {
   "cell_type": "markdown",
   "id": "4a2207db-37e3-468f-ac90-d6c912965779",
   "metadata": {},
   "source": [
    "# Importing Air Qualtiy Dataset for Gothenburg year 2023\n",
    "##### https://goteborg.se/wps/portal/start/kommun-och-politik/sa-arbetar-goteborgs-stad-med/digitalisering/oppna-data/sok-oppna-data/oppna-data---datamangd#esc_entry=690&esc_context=6"
   ]
  },
  {
   "cell_type": "code",
   "execution_count": 3,
   "id": "42107615-1c1e-481a-9e0e-35e9ce5c8d81",
   "metadata": {},
   "outputs": [],
   "source": [
    "df = pd.read_csv(\"air_quality_2023.csv\", skipinitialspace=True)"
   ]
  },
  {
   "cell_type": "code",
   "execution_count": 4,
   "id": "9806861c-6710-465c-973e-299e8955a997",
   "metadata": {},
   "outputs": [
    {
     "data": {
      "text/html": [
       "<div>\n",
       "<style scoped>\n",
       "    .dataframe tbody tr th:only-of-type {\n",
       "        vertical-align: middle;\n",
       "    }\n",
       "\n",
       "    .dataframe tbody tr th {\n",
       "        vertical-align: top;\n",
       "    }\n",
       "\n",
       "    .dataframe thead th {\n",
       "        text-align: right;\n",
       "    }\n",
       "</style>\n",
       "<table border=\"1\" class=\"dataframe\">\n",
       "  <thead>\n",
       "    <tr style=\"text-align: right;\">\n",
       "      <th></th>\n",
       "      <th>Date</th>\n",
       "      <th>Time</th>\n",
       "      <th>Femman_Temp</th>\n",
       "      <th>Femman_RH</th>\n",
       "      <th>Femman_GlobRad</th>\n",
       "      <th>Femman_AirPressure</th>\n",
       "      <th>Femman_WindSpeed</th>\n",
       "      <th>Femman_WindDir</th>\n",
       "      <th>Femman_Rain</th>\n",
       "      <th>Femman_NO2</th>\n",
       "      <th>...</th>\n",
       "      <th>Mobil1_NO2</th>\n",
       "      <th>Mobil1_NOx</th>\n",
       "      <th>Mobil1_PM10</th>\n",
       "      <th>Mobil2_NO2</th>\n",
       "      <th>Mobil2_NOx</th>\n",
       "      <th>Mobil2_PM10</th>\n",
       "      <th>Mobil3_NO2</th>\n",
       "      <th>Mobil3_NOx</th>\n",
       "      <th>Mobil3_PM10</th>\n",
       "      <th>Mobil2_PM25</th>\n",
       "    </tr>\n",
       "  </thead>\n",
       "  <tbody>\n",
       "    <tr>\n",
       "      <th>0</th>\n",
       "      <td>2023-01-01</td>\n",
       "      <td>01:00+01:00</td>\n",
       "      <td>5.481</td>\n",
       "      <td>98.0</td>\n",
       "      <td>0.0</td>\n",
       "      <td>997.474</td>\n",
       "      <td>1.639</td>\n",
       "      <td>207.9</td>\n",
       "      <td>0.0</td>\n",
       "      <td>14.10300</td>\n",
       "      <td>...</td>\n",
       "      <td>16.6152</td>\n",
       "      <td>15.8849</td>\n",
       "      <td>26.70540</td>\n",
       "      <td>7.78893</td>\n",
       "      <td>7.68050</td>\n",
       "      <td>15.21330</td>\n",
       "      <td>27.00530</td>\n",
       "      <td>32.40550</td>\n",
       "      <td>152.85600</td>\n",
       "      <td>10.89460</td>\n",
       "    </tr>\n",
       "    <tr>\n",
       "      <th>1</th>\n",
       "      <td>2023-01-01</td>\n",
       "      <td>02:00+01:00</td>\n",
       "      <td>5.529</td>\n",
       "      <td>99.3</td>\n",
       "      <td>0.0</td>\n",
       "      <td>997.362</td>\n",
       "      <td>2.309</td>\n",
       "      <td>191.2</td>\n",
       "      <td>0.0</td>\n",
       "      <td>10.47370</td>\n",
       "      <td>...</td>\n",
       "      <td>17.6177</td>\n",
       "      <td>16.5370</td>\n",
       "      <td>15.78380</td>\n",
       "      <td>11.03920</td>\n",
       "      <td>11.29170</td>\n",
       "      <td>15.00430</td>\n",
       "      <td>12.64720</td>\n",
       "      <td>14.52610</td>\n",
       "      <td>21.35180</td>\n",
       "      <td>11.82110</td>\n",
       "    </tr>\n",
       "    <tr>\n",
       "      <th>2</th>\n",
       "      <td>2023-01-01</td>\n",
       "      <td>03:00+01:00</td>\n",
       "      <td>5.545</td>\n",
       "      <td>100.0</td>\n",
       "      <td>0.0</td>\n",
       "      <td>997.512</td>\n",
       "      <td>1.552</td>\n",
       "      <td>194.6</td>\n",
       "      <td>0.0</td>\n",
       "      <td>9.72116</td>\n",
       "      <td>...</td>\n",
       "      <td>16.3276</td>\n",
       "      <td>15.4368</td>\n",
       "      <td>6.63315</td>\n",
       "      <td>9.16142</td>\n",
       "      <td>9.16124</td>\n",
       "      <td>8.64975</td>\n",
       "      <td>11.11030</td>\n",
       "      <td>12.27120</td>\n",
       "      <td>9.56303</td>\n",
       "      <td>6.21183</td>\n",
       "    </tr>\n",
       "    <tr>\n",
       "      <th>3</th>\n",
       "      <td>2023-01-01</td>\n",
       "      <td>04:00+01:00</td>\n",
       "      <td>5.488</td>\n",
       "      <td>99.8</td>\n",
       "      <td>0.0</td>\n",
       "      <td>997.548</td>\n",
       "      <td>1.245</td>\n",
       "      <td>185.3</td>\n",
       "      <td>0.0</td>\n",
       "      <td>7.69565</td>\n",
       "      <td>...</td>\n",
       "      <td>15.0220</td>\n",
       "      <td>14.3629</td>\n",
       "      <td>4.01427</td>\n",
       "      <td>6.72511</td>\n",
       "      <td>6.13341</td>\n",
       "      <td>8.64890</td>\n",
       "      <td>9.45273</td>\n",
       "      <td>12.31570</td>\n",
       "      <td>5.17778</td>\n",
       "      <td>6.42150</td>\n",
       "    </tr>\n",
       "    <tr>\n",
       "      <th>4</th>\n",
       "      <td>2023-01-01</td>\n",
       "      <td>05:00+01:00</td>\n",
       "      <td>5.459</td>\n",
       "      <td>93.6</td>\n",
       "      <td>0.0</td>\n",
       "      <td>997.622</td>\n",
       "      <td>1.385</td>\n",
       "      <td>198.4</td>\n",
       "      <td>0.0</td>\n",
       "      <td>5.33080</td>\n",
       "      <td>...</td>\n",
       "      <td>12.9767</td>\n",
       "      <td>13.5176</td>\n",
       "      <td>0.97035</td>\n",
       "      <td>4.11213</td>\n",
       "      <td>3.65649</td>\n",
       "      <td>7.76768</td>\n",
       "      <td>6.28138</td>\n",
       "      <td>6.25854</td>\n",
       "      <td>1.25138</td>\n",
       "      <td>4.60312</td>\n",
       "    </tr>\n",
       "  </tbody>\n",
       "</table>\n",
       "<p>5 rows × 35 columns</p>\n",
       "</div>"
      ],
      "text/plain": [
       "         Date         Time  Femman_Temp  Femman_RH  Femman_GlobRad  \\\n",
       "0  2023-01-01  01:00+01:00        5.481       98.0             0.0   \n",
       "1  2023-01-01  02:00+01:00        5.529       99.3             0.0   \n",
       "2  2023-01-01  03:00+01:00        5.545      100.0             0.0   \n",
       "3  2023-01-01  04:00+01:00        5.488       99.8             0.0   \n",
       "4  2023-01-01  05:00+01:00        5.459       93.6             0.0   \n",
       "\n",
       "   Femman_AirPressure  Femman_WindSpeed  Femman_WindDir  Femman_Rain  \\\n",
       "0             997.474             1.639           207.9          0.0   \n",
       "1             997.362             2.309           191.2          0.0   \n",
       "2             997.512             1.552           194.6          0.0   \n",
       "3             997.548             1.245           185.3          0.0   \n",
       "4             997.622             1.385           198.4          0.0   \n",
       "\n",
       "   Femman_NO2  ...  Mobil1_NO2  Mobil1_NOx  Mobil1_PM10  Mobil2_NO2  \\\n",
       "0    14.10300  ...     16.6152     15.8849     26.70540     7.78893   \n",
       "1    10.47370  ...     17.6177     16.5370     15.78380    11.03920   \n",
       "2     9.72116  ...     16.3276     15.4368      6.63315     9.16142   \n",
       "3     7.69565  ...     15.0220     14.3629      4.01427     6.72511   \n",
       "4     5.33080  ...     12.9767     13.5176      0.97035     4.11213   \n",
       "\n",
       "   Mobil2_NOx  Mobil2_PM10  Mobil3_NO2  Mobil3_NOx  Mobil3_PM10  Mobil2_PM25    \n",
       "0     7.68050     15.21330    27.00530    32.40550    152.85600       10.89460  \n",
       "1    11.29170     15.00430    12.64720    14.52610     21.35180       11.82110  \n",
       "2     9.16124      8.64975    11.11030    12.27120      9.56303        6.21183  \n",
       "3     6.13341      8.64890     9.45273    12.31570      5.17778        6.42150  \n",
       "4     3.65649      7.76768     6.28138     6.25854      1.25138        4.60312  \n",
       "\n",
       "[5 rows x 35 columns]"
      ]
     },
     "execution_count": 4,
     "metadata": {},
     "output_type": "execute_result"
    }
   ],
   "source": [
    "df.head()"
   ]
  },
  {
   "cell_type": "code",
   "execution_count": 5,
   "id": "27258152-811d-4768-a225-bbe433b69c3f",
   "metadata": {},
   "outputs": [
    {
     "data": {
      "text/plain": [
       "Index(['Date', 'Time', 'Femman_Temp', 'Femman_RH', 'Femman_GlobRad',\n",
       "       'Femman_AirPressure', 'Femman_WindSpeed', 'Femman_WindDir',\n",
       "       'Femman_Rain', 'Femman_NO2', 'Femman_O3', 'Femman_PM10', 'Femman_NOx',\n",
       "       'Femman_PM25', 'HagaNorra_NO2', 'HagaNorra_NOx', 'HagaSodra_PM10',\n",
       "       'HagaSodra_PM25', 'Lejonet_GlobRad', 'Lejonet_AirPressure',\n",
       "       'Lejonet_Rain', 'Lejonet_RH', 'Lejonet_Temp', 'Lejonet_WindDir',\n",
       "       'Lejonet_WindSpeed', 'Mobil1_NO2', 'Mobil1_NOx', 'Mobil1_PM10',\n",
       "       'Mobil2_NO2', 'Mobil2_NOx', 'Mobil2_PM10', 'Mobil3_NO2', 'Mobil3_NOx',\n",
       "       'Mobil3_PM10', 'Mobil2_PM25  '],\n",
       "      dtype='object')"
      ]
     },
     "execution_count": 5,
     "metadata": {},
     "output_type": "execute_result"
    }
   ],
   "source": [
    "df.columns"
   ]
  },
  {
   "cell_type": "markdown",
   "id": "6de5ef7d-d3b1-4ed5-8aa8-28ceede52cdd",
   "metadata": {},
   "source": [
    "# EDA\n",
    "\n",
    "#### Setting Femman_PM25 as the prediction variable"
   ]
  },
  {
   "cell_type": "code",
   "execution_count": 6,
   "id": "5436ea69-ff43-4d79-a72b-9dfc0825dd49",
   "metadata": {},
   "outputs": [
    {
     "data": {
      "text/plain": [
       "7089"
      ]
     },
     "execution_count": 6,
     "metadata": {},
     "output_type": "execute_result"
    }
   ],
   "source": [
    "len(df)"
   ]
  },
  {
   "cell_type": "code",
   "execution_count": 7,
   "id": "f8707ff5-5a56-472d-aed4-103f128286c2",
   "metadata": {},
   "outputs": [
    {
     "data": {
      "text/html": [
       "<div>\n",
       "<style scoped>\n",
       "    .dataframe tbody tr th:only-of-type {\n",
       "        vertical-align: middle;\n",
       "    }\n",
       "\n",
       "    .dataframe tbody tr th {\n",
       "        vertical-align: top;\n",
       "    }\n",
       "\n",
       "    .dataframe thead th {\n",
       "        text-align: right;\n",
       "    }\n",
       "</style>\n",
       "<table border=\"1\" class=\"dataframe\">\n",
       "  <thead>\n",
       "    <tr style=\"text-align: right;\">\n",
       "      <th></th>\n",
       "      <th>Femman_Temp</th>\n",
       "      <th>Femman_RH</th>\n",
       "      <th>Femman_GlobRad</th>\n",
       "      <th>Femman_AirPressure</th>\n",
       "      <th>Femman_WindSpeed</th>\n",
       "      <th>Femman_WindDir</th>\n",
       "      <th>Femman_Rain</th>\n",
       "      <th>Femman_NO2</th>\n",
       "      <th>Femman_O3</th>\n",
       "      <th>Femman_PM10</th>\n",
       "      <th>...</th>\n",
       "      <th>Mobil1_NO2</th>\n",
       "      <th>Mobil1_NOx</th>\n",
       "      <th>Mobil1_PM10</th>\n",
       "      <th>Mobil2_NO2</th>\n",
       "      <th>Mobil2_NOx</th>\n",
       "      <th>Mobil2_PM10</th>\n",
       "      <th>Mobil3_NO2</th>\n",
       "      <th>Mobil3_NOx</th>\n",
       "      <th>Mobil3_PM10</th>\n",
       "      <th>Mobil2_PM25</th>\n",
       "    </tr>\n",
       "  </thead>\n",
       "  <tbody>\n",
       "    <tr>\n",
       "      <th>count</th>\n",
       "      <td>7062.000000</td>\n",
       "      <td>7062.000000</td>\n",
       "      <td>7062.000000</td>\n",
       "      <td>7062.000000</td>\n",
       "      <td>7061.000000</td>\n",
       "      <td>7062.000000</td>\n",
       "      <td>7059.000000</td>\n",
       "      <td>7057.000000</td>\n",
       "      <td>1968.000000</td>\n",
       "      <td>7031.000000</td>\n",
       "      <td>...</td>\n",
       "      <td>6999.000000</td>\n",
       "      <td>6999.000000</td>\n",
       "      <td>6988.000000</td>\n",
       "      <td>5192.000000</td>\n",
       "      <td>5192.000000</td>\n",
       "      <td>5212.000000</td>\n",
       "      <td>6957.000000</td>\n",
       "      <td>6959.000000</td>\n",
       "      <td>6279.000000</td>\n",
       "      <td>5212.000000</td>\n",
       "    </tr>\n",
       "    <tr>\n",
       "      <th>mean</th>\n",
       "      <td>11.123717</td>\n",
       "      <td>72.886192</td>\n",
       "      <td>136.370605</td>\n",
       "      <td>1010.124582</td>\n",
       "      <td>3.481418</td>\n",
       "      <td>174.151901</td>\n",
       "      <td>0.101941</td>\n",
       "      <td>10.577004</td>\n",
       "      <td>57.345923</td>\n",
       "      <td>13.775425</td>\n",
       "      <td>...</td>\n",
       "      <td>14.058839</td>\n",
       "      <td>19.804184</td>\n",
       "      <td>14.444139</td>\n",
       "      <td>9.151443</td>\n",
       "      <td>11.719978</td>\n",
       "      <td>11.503529</td>\n",
       "      <td>12.775606</td>\n",
       "      <td>17.289357</td>\n",
       "      <td>15.390835</td>\n",
       "      <td>5.785804</td>\n",
       "    </tr>\n",
       "    <tr>\n",
       "      <th>std</th>\n",
       "      <td>6.933409</td>\n",
       "      <td>20.024597</td>\n",
       "      <td>214.063297</td>\n",
       "      <td>12.170520</td>\n",
       "      <td>1.786483</td>\n",
       "      <td>88.568515</td>\n",
       "      <td>0.471013</td>\n",
       "      <td>10.361669</td>\n",
       "      <td>25.301261</td>\n",
       "      <td>10.902743</td>\n",
       "      <td>...</td>\n",
       "      <td>11.706563</td>\n",
       "      <td>23.968551</td>\n",
       "      <td>15.785046</td>\n",
       "      <td>7.693551</td>\n",
       "      <td>15.297418</td>\n",
       "      <td>8.532280</td>\n",
       "      <td>10.469983</td>\n",
       "      <td>21.905406</td>\n",
       "      <td>12.841025</td>\n",
       "      <td>4.566387</td>\n",
       "    </tr>\n",
       "    <tr>\n",
       "      <th>min</th>\n",
       "      <td>-6.582000</td>\n",
       "      <td>15.640000</td>\n",
       "      <td>0.000000</td>\n",
       "      <td>970.752000</td>\n",
       "      <td>0.232000</td>\n",
       "      <td>0.122000</td>\n",
       "      <td>0.000000</td>\n",
       "      <td>0.379720</td>\n",
       "      <td>-15.185100</td>\n",
       "      <td>-33.534400</td>\n",
       "      <td>...</td>\n",
       "      <td>-2.025160</td>\n",
       "      <td>-3.251070</td>\n",
       "      <td>-20.398800</td>\n",
       "      <td>0.346224</td>\n",
       "      <td>-0.005478</td>\n",
       "      <td>0.129300</td>\n",
       "      <td>1.088640</td>\n",
       "      <td>1.073340</td>\n",
       "      <td>-74.443000</td>\n",
       "      <td>0.083850</td>\n",
       "    </tr>\n",
       "    <tr>\n",
       "      <th>25%</th>\n",
       "      <td>5.416250</td>\n",
       "      <td>59.282500</td>\n",
       "      <td>0.000000</td>\n",
       "      <td>1002.450000</td>\n",
       "      <td>2.074000</td>\n",
       "      <td>114.325000</td>\n",
       "      <td>0.000000</td>\n",
       "      <td>4.368820</td>\n",
       "      <td>44.958475</td>\n",
       "      <td>7.810340</td>\n",
       "      <td>...</td>\n",
       "      <td>6.448700</td>\n",
       "      <td>7.071930</td>\n",
       "      <td>5.297400</td>\n",
       "      <td>4.266223</td>\n",
       "      <td>4.777185</td>\n",
       "      <td>5.815070</td>\n",
       "      <td>6.094150</td>\n",
       "      <td>7.153770</td>\n",
       "      <td>7.750875</td>\n",
       "      <td>2.812387</td>\n",
       "    </tr>\n",
       "    <tr>\n",
       "      <th>50%</th>\n",
       "      <td>12.555000</td>\n",
       "      <td>75.950000</td>\n",
       "      <td>14.730000</td>\n",
       "      <td>1011.240000</td>\n",
       "      <td>3.299000</td>\n",
       "      <td>192.450000</td>\n",
       "      <td>0.000000</td>\n",
       "      <td>7.176500</td>\n",
       "      <td>60.310300</td>\n",
       "      <td>12.148000</td>\n",
       "      <td>...</td>\n",
       "      <td>10.713300</td>\n",
       "      <td>13.294500</td>\n",
       "      <td>11.244000</td>\n",
       "      <td>6.826105</td>\n",
       "      <td>7.758265</td>\n",
       "      <td>9.912265</td>\n",
       "      <td>9.576690</td>\n",
       "      <td>11.602200</td>\n",
       "      <td>13.212900</td>\n",
       "      <td>4.695700</td>\n",
       "    </tr>\n",
       "    <tr>\n",
       "      <th>75%</th>\n",
       "      <td>16.890000</td>\n",
       "      <td>89.200000</td>\n",
       "      <td>192.250000</td>\n",
       "      <td>1018.747500</td>\n",
       "      <td>4.581000</td>\n",
       "      <td>237.675000</td>\n",
       "      <td>0.000000</td>\n",
       "      <td>12.583400</td>\n",
       "      <td>73.156050</td>\n",
       "      <td>17.423650</td>\n",
       "      <td>...</td>\n",
       "      <td>17.500200</td>\n",
       "      <td>24.135500</td>\n",
       "      <td>19.365500</td>\n",
       "      <td>11.250950</td>\n",
       "      <td>13.174925</td>\n",
       "      <td>15.099825</td>\n",
       "      <td>15.698100</td>\n",
       "      <td>19.011850</td>\n",
       "      <td>19.825450</td>\n",
       "      <td>7.642527</td>\n",
       "    </tr>\n",
       "    <tr>\n",
       "      <th>max</th>\n",
       "      <td>27.720000</td>\n",
       "      <td>100.000000</td>\n",
       "      <td>893.000000</td>\n",
       "      <td>1038.320000</td>\n",
       "      <td>12.800000</td>\n",
       "      <td>359.900000</td>\n",
       "      <td>11.000000</td>\n",
       "      <td>122.918000</td>\n",
       "      <td>163.305000</td>\n",
       "      <td>361.687000</td>\n",
       "      <td>...</td>\n",
       "      <td>111.461000</td>\n",
       "      <td>359.182000</td>\n",
       "      <td>283.205000</td>\n",
       "      <td>67.284300</td>\n",
       "      <td>218.407000</td>\n",
       "      <td>230.407000</td>\n",
       "      <td>117.425000</td>\n",
       "      <td>399.201000</td>\n",
       "      <td>179.445000</td>\n",
       "      <td>67.581800</td>\n",
       "    </tr>\n",
       "  </tbody>\n",
       "</table>\n",
       "<p>8 rows × 33 columns</p>\n",
       "</div>"
      ],
      "text/plain": [
       "       Femman_Temp    Femman_RH  Femman_GlobRad  Femman_AirPressure  \\\n",
       "count  7062.000000  7062.000000     7062.000000         7062.000000   \n",
       "mean     11.123717    72.886192      136.370605         1010.124582   \n",
       "std       6.933409    20.024597      214.063297           12.170520   \n",
       "min      -6.582000    15.640000        0.000000          970.752000   \n",
       "25%       5.416250    59.282500        0.000000         1002.450000   \n",
       "50%      12.555000    75.950000       14.730000         1011.240000   \n",
       "75%      16.890000    89.200000      192.250000         1018.747500   \n",
       "max      27.720000   100.000000      893.000000         1038.320000   \n",
       "\n",
       "       Femman_WindSpeed  Femman_WindDir  Femman_Rain   Femman_NO2  \\\n",
       "count       7061.000000     7062.000000  7059.000000  7057.000000   \n",
       "mean           3.481418      174.151901     0.101941    10.577004   \n",
       "std            1.786483       88.568515     0.471013    10.361669   \n",
       "min            0.232000        0.122000     0.000000     0.379720   \n",
       "25%            2.074000      114.325000     0.000000     4.368820   \n",
       "50%            3.299000      192.450000     0.000000     7.176500   \n",
       "75%            4.581000      237.675000     0.000000    12.583400   \n",
       "max           12.800000      359.900000    11.000000   122.918000   \n",
       "\n",
       "         Femman_O3  Femman_PM10  ...   Mobil1_NO2   Mobil1_NOx  Mobil1_PM10  \\\n",
       "count  1968.000000  7031.000000  ...  6999.000000  6999.000000  6988.000000   \n",
       "mean     57.345923    13.775425  ...    14.058839    19.804184    14.444139   \n",
       "std      25.301261    10.902743  ...    11.706563    23.968551    15.785046   \n",
       "min     -15.185100   -33.534400  ...    -2.025160    -3.251070   -20.398800   \n",
       "25%      44.958475     7.810340  ...     6.448700     7.071930     5.297400   \n",
       "50%      60.310300    12.148000  ...    10.713300    13.294500    11.244000   \n",
       "75%      73.156050    17.423650  ...    17.500200    24.135500    19.365500   \n",
       "max     163.305000   361.687000  ...   111.461000   359.182000   283.205000   \n",
       "\n",
       "        Mobil2_NO2   Mobil2_NOx  Mobil2_PM10   Mobil3_NO2   Mobil3_NOx  \\\n",
       "count  5192.000000  5192.000000  5212.000000  6957.000000  6959.000000   \n",
       "mean      9.151443    11.719978    11.503529    12.775606    17.289357   \n",
       "std       7.693551    15.297418     8.532280    10.469983    21.905406   \n",
       "min       0.346224    -0.005478     0.129300     1.088640     1.073340   \n",
       "25%       4.266223     4.777185     5.815070     6.094150     7.153770   \n",
       "50%       6.826105     7.758265     9.912265     9.576690    11.602200   \n",
       "75%      11.250950    13.174925    15.099825    15.698100    19.011850   \n",
       "max      67.284300   218.407000   230.407000   117.425000   399.201000   \n",
       "\n",
       "       Mobil3_PM10  Mobil2_PM25    \n",
       "count  6279.000000    5212.000000  \n",
       "mean     15.390835       5.785804  \n",
       "std      12.841025       4.566387  \n",
       "min     -74.443000       0.083850  \n",
       "25%       7.750875       2.812387  \n",
       "50%      13.212900       4.695700  \n",
       "75%      19.825450       7.642527  \n",
       "max     179.445000      67.581800  \n",
       "\n",
       "[8 rows x 33 columns]"
      ]
     },
     "execution_count": 7,
     "metadata": {},
     "output_type": "execute_result"
    }
   ],
   "source": [
    "df.describe()"
   ]
  },
  {
   "cell_type": "code",
   "execution_count": 8,
   "id": "9b774892-bb9a-465b-b2c6-1bd64d48edc9",
   "metadata": {},
   "outputs": [
    {
     "data": {
      "text/plain": [
       "Date                    0.000000\n",
       "Time                    0.000000\n",
       "Femman_Temp             0.380872\n",
       "Femman_RH               0.380872\n",
       "Femman_GlobRad          0.380872\n",
       "Femman_AirPressure      0.380872\n",
       "Femman_WindSpeed        0.394978\n",
       "Femman_WindDir          0.380872\n",
       "Femman_Rain             0.423191\n",
       "Femman_NO2              0.451404\n",
       "Femman_O3              72.238680\n",
       "Femman_PM10             0.818169\n",
       "Femman_NOx              0.451404\n",
       "Femman_PM25             0.578361\n",
       "HagaNorra_NO2           0.380872\n",
       "HagaNorra_NOx           0.380872\n",
       "HagaSodra_PM10          7.095500\n",
       "HagaSodra_PM25         16.490337\n",
       "Lejonet_GlobRad         0.000000\n",
       "Lejonet_AirPressure     0.000000\n",
       "Lejonet_Rain            0.000000\n",
       "Lejonet_RH              0.000000\n",
       "Lejonet_Temp            0.000000\n",
       "Lejonet_WindDir         0.000000\n",
       "Lejonet_WindSpeed       0.000000\n",
       "Mobil1_NO2              1.269573\n",
       "Mobil1_NOx              1.269573\n",
       "Mobil1_PM10             1.424743\n",
       "Mobil2_NO2             26.759769\n",
       "Mobil2_NOx             26.759769\n",
       "Mobil2_PM10            26.477641\n",
       "Mobil3_NO2              1.862040\n",
       "Mobil3_NOx              1.833827\n",
       "Mobil3_PM10            11.426153\n",
       "Mobil2_PM25            26.477641\n",
       "dtype: float64"
      ]
     },
     "execution_count": 8,
     "metadata": {},
     "output_type": "execute_result"
    }
   ],
   "source": [
    "# Finding percentage of na\n",
    "df.isna().sum() / len(df) * 100"
   ]
  },
  {
   "cell_type": "code",
   "execution_count": 9,
   "id": "95295fc7-b327-4951-9e9b-bd00fa5001fc",
   "metadata": {},
   "outputs": [
    {
     "data": {
      "text/plain": [
       "Femman_WindSpeed      -0.094391\n",
       "Lejonet_WindSpeed     -0.093493\n",
       "Femman_Rain           -0.032225\n",
       "Lejonet_WindDir       -0.025657\n",
       "Lejonet_Rain          -0.015662\n",
       "Femman_WindDir        -0.014857\n",
       "Lejonet_RH             0.018249\n",
       "Femman_GlobRad         0.027761\n",
       "Lejonet_GlobRad        0.027824\n",
       "Femman_RH              0.032217\n",
       "Mobil1_NOx             0.050883\n",
       "Femman_NOx             0.068196\n",
       "Mobil1_NO2             0.074498\n",
       "Mobil2_NOx             0.074797\n",
       "Mobil3_NOx             0.078761\n",
       "Mobil1_PM10            0.083609\n",
       "HagaNorra_NOx          0.086677\n",
       "Femman_NO2             0.092222\n",
       "Mobil3_NO2             0.101988\n",
       "Femman_O3              0.105246\n",
       "Femman_AirPressure     0.105914\n",
       "Lejonet_AirPressure    0.106442\n",
       "HagaNorra_NO2          0.114472\n",
       "Lejonet_Temp           0.119856\n",
       "Femman_Temp            0.119966\n",
       "Mobil2_NO2             0.127964\n",
       "Mobil3_PM10            0.149281\n",
       "HagaSodra_PM25         0.241008\n",
       "Mobil2_PM10            0.255727\n",
       "HagaSodra_PM10         0.258154\n",
       "Mobil2_PM25            0.408895\n",
       "Femman_PM10            0.761074\n",
       "Femman_PM25            1.000000\n",
       "Name: Femman_PM25, dtype: float64"
      ]
     },
     "execution_count": 9,
     "metadata": {},
     "output_type": "execute_result"
    }
   ],
   "source": [
    "# Finding corrleation with prediction variable\n",
    "df.drop(['Date', 'Time'], axis = 1).corr()[\"Femman_PM25\"].sort_values()"
   ]
  },
  {
   "cell_type": "code",
   "execution_count": 35,
   "id": "47c6e976-61f6-4525-81c1-f16fce1e12f4",
   "metadata": {},
   "outputs": [
    {
     "data": {
      "text/plain": [
       "<Axes: ylabel='Frequency'>"
      ]
     },
     "execution_count": 35,
     "metadata": {},
     "output_type": "execute_result"
    },
    {
     "data": {
      "image/png": "[encoded data removed]",
      "text/plain": [
       "<Figure size 640x480 with 1 Axes>"
      ]
     },
     "metadata": {},
     "output_type": "display_data"
    }
   ],
   "source": [
    "import matplotlib.pyplot as plt\n",
    "df.plot.hist(bins=12, alpha=0.5)"
   ]
  },
  {
   "cell_type": "markdown",
   "id": "03d041e2-72ef-43ae-a36f-c24f614dc888",
   "metadata": {},
   "source": [
    "# Feature Engineering"
   ]
  },
  {
   "cell_type": "code",
   "execution_count": 12,
   "id": "58e58bf4-f91a-4918-a7d9-2a12414bfd8f",
   "metadata": {},
   "outputs": [],
   "source": [
    "from air_pred.utils import data_preprocessing"
   ]
  },
  {
   "cell_type": "markdown",
   "id": "603fa05a-19af-4e06-ac92-46165539ef3b",
   "metadata": {},
   "source": [
    "### Baseline Features"
   ]
  },
  {
   "cell_type": "code",
   "execution_count": 13,
   "id": "1e04c234-fe52-4001-9dbf-92ffdaa44c8d",
   "metadata": {},
   "outputs": [],
   "source": [
    "baseline_feature = df.drop(['Femman_O3'], axis=1) # dropping this feature since it has a high percentage of invalid samples\n",
    "baseline_feature = data_preprocessing.create_date_time_feature(baseline_feature).sort_values(\"date_time\")\n",
    "baseline_feature = baseline_feature.interpolate()"
   ]
  },
  {
   "cell_type": "markdown",
   "id": "7e67bf8c-8fe4-416b-9f12-e9b2a8ca9afd",
   "metadata": {},
   "source": [
    "### KNN Imputer features"
   ]
  },
  {
   "cell_type": "code",
   "execution_count": 14,
   "id": "d5531680-28e5-4bb6-b412-24311ba4b93a",
   "metadata": {},
   "outputs": [
    {
     "data": {
      "text/plain": [
       "femman_temp            0\n",
       "femman_rh              0\n",
       "femman_globrad         0\n",
       "femman_airpressure     0\n",
       "femman_windspeed       0\n",
       "femman_winddir         0\n",
       "femman_rain            0\n",
       "femman_no2             0\n",
       "femman_pm10            0\n",
       "femman_nox             0\n",
       "femman_pm25            0\n",
       "haganorra_no2          0\n",
       "haganorra_nox          0\n",
       "hagasodra_pm10         0\n",
       "hagasodra_pm25         0\n",
       "lejonet_globrad        0\n",
       "lejonet_airpressure    0\n",
       "lejonet_rain           0\n",
       "lejonet_rh             0\n",
       "lejonet_temp           0\n",
       "lejonet_winddir        0\n",
       "lejonet_windspeed      0\n",
       "mobil1_no2             0\n",
       "mobil1_nox             0\n",
       "mobil1_pm10            0\n",
       "mobil2_no2             0\n",
       "mobil2_nox             0\n",
       "mobil2_pm10            0\n",
       "mobil3_no2             0\n",
       "mobil3_nox             0\n",
       "mobil3_pm10            0\n",
       "mobil2_pm25            0\n",
       "date_time              0\n",
       "date_time_str          0\n",
       "dtype: int64"
      ]
     },
     "execution_count": 14,
     "metadata": {},
     "output_type": "execute_result"
    }
   ],
   "source": [
    "knn_imputer_feature = df.drop(['Femman_O3'], axis=1) # dropping this feature since it has a high percentage of invalid samples\n",
    "knn_imputer_feature = data_preprocessing.create_date_time_feature(knn_imputer_feature).sort_values(\"date_time\")\n",
    "from sklearn.impute import KNNImputer\n",
    "imputer = KNNImputer(n_neighbors=2)\n",
    "date_time = knn_imputer_feature.date_time\n",
    "date_time_str = knn_imputer_feature.date_time_str\n",
    "knn_imputer_feature = knn_imputer_feature.drop(['date_time', 'date_time_str'], axis=1)\n",
    "knn_imputer_feature[:] = imputer.fit_transform(knn_imputer_feature)\n",
    "knn_imputer_feature['date_time'] = date_time\n",
    "knn_imputer_feature['date_time_str'] = date_time_str\n",
    "knn_imputer_feature.isna().sum()"
   ]
  },
  {
   "cell_type": "markdown",
   "id": "54fea750-74c4-44a5-93a7-b744c37f6b6c",
   "metadata": {},
   "source": [
    "### Multi variate fearure imputation"
   ]
  },
  {
   "cell_type": "code",
   "execution_count": 15,
   "id": "0a0ad37d-f007-4030-95a5-4a70a6c69f53",
   "metadata": {},
   "outputs": [
    {
     "name": "stderr",
     "output_type": "stream",
     "text": [
      "ConvergenceWarning: [IterativeImputer] Early stopping criterion not reached.\n"
     ]
    },
    {
     "data": {
      "text/plain": [
       "femman_temp            0\n",
       "femman_rh              0\n",
       "femman_globrad         0\n",
       "femman_airpressure     0\n",
       "femman_windspeed       0\n",
       "femman_winddir         0\n",
       "femman_rain            0\n",
       "femman_no2             0\n",
       "femman_pm10            0\n",
       "femman_nox             0\n",
       "femman_pm25            0\n",
       "haganorra_no2          0\n",
       "haganorra_nox          0\n",
       "hagasodra_pm10         0\n",
       "hagasodra_pm25         0\n",
       "lejonet_globrad        0\n",
       "lejonet_airpressure    0\n",
       "lejonet_rain           0\n",
       "lejonet_rh             0\n",
       "lejonet_temp           0\n",
       "lejonet_winddir        0\n",
       "lejonet_windspeed      0\n",
       "mobil1_no2             0\n",
       "mobil1_nox             0\n",
       "mobil1_pm10            0\n",
       "mobil2_no2             0\n",
       "mobil2_nox             0\n",
       "mobil2_pm10            0\n",
       "mobil3_no2             0\n",
       "mobil3_nox             0\n",
       "mobil3_pm10            0\n",
       "mobil2_pm25            0\n",
       "date_time              0\n",
       "date_time_str          0\n",
       "dtype: int64"
      ]
     },
     "execution_count": 15,
     "metadata": {},
     "output_type": "execute_result"
    }
   ],
   "source": [
    "from sklearn.experimental import enable_iterative_imputer\n",
    "from sklearn.impute import IterativeImputer\n",
    "\n",
    "mutivariate_imputer_feature = df.drop(['Femman_O3'], axis=1) # dropping this feature since it has a high percentage of invalid samples\n",
    "mutivariate_imputer_feature = data_preprocessing.create_date_time_feature(mutivariate_imputer_feature).sort_values(\"date_time\")\n",
    "\n",
    "imputer = IterativeImputer(max_iter=10, random_state=0)\n",
    "date_time = mutivariate_imputer_feature.date_time\n",
    "date_time_str = mutivariate_imputer_feature.date_time_str\n",
    "\n",
    "mutivariate_imputer_feature = mutivariate_imputer_feature.drop(['date_time', 'date_time_str'], axis=1)\n",
    "mutivariate_imputer_feature[:] = imputer.fit_transform(mutivariate_imputer_feature)\n",
    "mutivariate_imputer_feature['date_time'] = date_time\n",
    "mutivariate_imputer_feature['date_time_str'] = date_time_str\n",
    "\n",
    "mutivariate_imputer_feature.isna().sum()"
   ]
  },
  {
   "cell_type": "markdown",
   "id": "2aa47780-0b0b-438b-aedd-b25d10a4991d",
   "metadata": {},
   "source": [
    "### PCA"
   ]
  },
  {
   "cell_type": "code",
   "execution_count": 16,
   "id": "7b595e2e-b37c-47d8-9700-31aa031adbed",
   "metadata": {},
   "outputs": [],
   "source": [
    "from sklearn.decomposition import PCA"
   ]
  },
  {
   "cell_type": "code",
   "execution_count": 17,
   "id": "e3e12c6e-b05d-4109-91e9-1a3a94beb6ab",
   "metadata": {},
   "outputs": [],
   "source": [
    "def pca_features(base_df, n_components):\n",
    "    pca = PCA(n_components=10)\n",
    "    pca.fit(knn_imputer_feature.drop(['date_time', 'date_time_str','femman_pm25'], axis = 1))\n",
    "    features = pd.DataFrame(pca.transform(baseline_feature.drop(['date_time', 'date_time_str','femman_pm25'], axis = 1)))\n",
    "    features['femman_pm25'] = base_df.femman_pm25\n",
    "    features['date_time'] = base_df.date_time\n",
    "    features['date_time_str'] = base_df.date_time_str\n",
    "    return features"
   ]
  },
  {
   "cell_type": "markdown",
   "id": "61e6c57c-8461-484d-8c49-6498a5362ba7",
   "metadata": {},
   "source": [
    "### Polynomial Features"
   ]
  },
  {
   "cell_type": "code",
   "execution_count": 18,
   "id": "0190540c-caa3-4042-962e-8151b93b5fea",
   "metadata": {},
   "outputs": [],
   "source": [
    "from sklearn.preprocessing import PolynomialFeatures\n",
    "def polynomial_features(base_df, degree):\n",
    "    features = pd.DataFrame(base_df.drop(['date_time', 'date_time_str','femman_pm25'], axis = 1))\n",
    "    poly = PolynomialFeatures(2)\n",
    "    features = pd.DataFrame(poly.fit_transform(features), columns=poly.get_feature_names_out(features.columns)).drop('1', axis = 1)\n",
    "    features['femman_pm25'] = base_df.femman_pm25\n",
    "    features['date_time'] = base_df.date_time\n",
    "    features['date_time_str'] = base_df.date_time_str\n",
    "    return features"
   ]
  },
  {
   "cell_type": "markdown",
   "id": "d64f7686-db90-4dcf-b1a5-13b989ea8d51",
   "metadata": {},
   "source": [
    "### Gaussian Transformation"
   ]
  },
  {
   "cell_type": "code",
   "execution_count": 19,
   "id": "c2154192-2aef-48c3-b22f-a56725f69588",
   "metadata": {},
   "outputs": [],
   "source": [
    "from sklearn.preprocessing import QuantileTransformer\n",
    "def gaussian_transformation(base_df):\n",
    "    quantile_transformer = QuantileTransformer(output_distribution='normal', random_state=0)\n",
    "    features = pd.DataFrame(base_df.drop(['date_time', 'date_time_str','femman_pm25'], axis = 1))\n",
    "    features[:] = quantile_transformer.fit_transform(features)\n",
    "    features['femman_pm25'] = base_df.femman_pm25\n",
    "    features['date_time'] = base_df.date_time\n",
    "    features['date_time_str'] = base_df.date_time_str\n",
    "    return features"
   ]
  },
  {
   "cell_type": "markdown",
   "id": "393dd272-7c51-4a25-96b8-1f294e78c03b",
   "metadata": {},
   "source": [
    "### Time series Features"
   ]
  },
  {
   "cell_type": "code",
   "execution_count": 67,
   "id": "ddc67f33-5654-4b95-975e-f48e6bf8fd7f",
   "metadata": {},
   "outputs": [],
   "source": [
    "base_ts_features = mutivariate_imputer_feature[['date_time', 'date_time_str','femman_pm25']].sort_values(\"date_time\")\n",
    "date_time = base_ts_features.date_time\n",
    "base_ts_features = base_ts_features.set_index('date_time', drop=False)"
   ]
  },
  {
   "cell_type": "code",
   "execution_count": 69,
   "id": "24a80589-6ee9-4a3b-b3b9-5c886c1e0c7b",
   "metadata": {},
   "outputs": [],
   "source": [
    "base_ts_features[\"prev_day\"] = base_ts_features.femman_pm25.shift(periods=24)\n",
    "base_ts_features[\"prev_week\"] = base_ts_features.femman_pm25.shift(periods=168)\n",
    "base_ts_features[\"2_weeks_back\"] = base_ts_features.femman_pm25.shift(periods=336)\n",
    "base_ts_features[\"3_weeks_back\"] = base_ts_features.femman_pm25.shift(periods=672)"
   ]
  },
  {
   "cell_type": "code",
   "execution_count": 72,
   "id": "590c7808-140f-4301-9f51-07901f85931c",
   "metadata": {},
   "outputs": [],
   "source": [
    "base_ts_features = base_ts_features.dropna()"
   ]
  },
  {
   "cell_type": "code",
   "execution_count": 77,
   "id": "69881029-8c27-42d0-8936-989301c45418",
   "metadata": {},
   "outputs": [
    {
     "data": {
      "text/html": [
       "<div>\n",
       "<style scoped>\n",
       "    .dataframe tbody tr th:only-of-type {\n",
       "        vertical-align: middle;\n",
       "    }\n",
       "\n",
       "    .dataframe tbody tr th {\n",
       "        vertical-align: top;\n",
       "    }\n",
       "\n",
       "    .dataframe thead th {\n",
       "        text-align: right;\n",
       "    }\n",
       "</style>\n",
       "<table border=\"1\" class=\"dataframe\">\n",
       "  <thead>\n",
       "    <tr style=\"text-align: right;\">\n",
       "      <th></th>\n",
       "      <th>prev_day</th>\n",
       "      <th>day_before</th>\n",
       "      <th>prev_week</th>\n",
       "      <th>2_weeks_back</th>\n",
       "      <th>3_weeks_back</th>\n",
       "    </tr>\n",
       "    <tr>\n",
       "      <th>date_time</th>\n",
       "      <th></th>\n",
       "      <th></th>\n",
       "      <th></th>\n",
       "      <th></th>\n",
       "      <th></th>\n",
       "    </tr>\n",
       "  </thead>\n",
       "  <tbody>\n",
       "    <tr>\n",
       "      <th>2023-01-29 01:00:00</th>\n",
       "      <td>0.703934</td>\n",
       "      <td>0.703934</td>\n",
       "      <td>4.82249</td>\n",
       "      <td>1.245780</td>\n",
       "      <td>31.09470</td>\n",
       "    </tr>\n",
       "    <tr>\n",
       "      <th>2023-01-29 02:00:00</th>\n",
       "      <td>3.453460</td>\n",
       "      <td>3.453460</td>\n",
       "      <td>2.17620</td>\n",
       "      <td>-0.879233</td>\n",
       "      <td>32.77580</td>\n",
       "    </tr>\n",
       "    <tr>\n",
       "      <th>2023-01-29 03:00:00</th>\n",
       "      <td>2.251520</td>\n",
       "      <td>2.251520</td>\n",
       "      <td>4.72650</td>\n",
       "      <td>1.937820</td>\n",
       "      <td>11.78570</td>\n",
       "    </tr>\n",
       "    <tr>\n",
       "      <th>2023-01-29 04:00:00</th>\n",
       "      <td>-1.454770</td>\n",
       "      <td>-1.454770</td>\n",
       "      <td>4.79195</td>\n",
       "      <td>0.277017</td>\n",
       "      <td>5.92921</td>\n",
       "    </tr>\n",
       "    <tr>\n",
       "      <th>2023-01-29 05:00:00</th>\n",
       "      <td>2.567650</td>\n",
       "      <td>2.567650</td>\n",
       "      <td>3.33817</td>\n",
       "      <td>2.147330</td>\n",
       "      <td>4.66940</td>\n",
       "    </tr>\n",
       "    <tr>\n",
       "      <th>...</th>\n",
       "      <td>...</td>\n",
       "      <td>...</td>\n",
       "      <td>...</td>\n",
       "      <td>...</td>\n",
       "      <td>...</td>\n",
       "    </tr>\n",
       "    <tr>\n",
       "      <th>2023-10-23 05:00:00</th>\n",
       "      <td>1.374300</td>\n",
       "      <td>1.374300</td>\n",
       "      <td>2.64613</td>\n",
       "      <td>2.232220</td>\n",
       "      <td>2.38260</td>\n",
       "    </tr>\n",
       "    <tr>\n",
       "      <th>2023-10-23 06:00:00</th>\n",
       "      <td>0.296751</td>\n",
       "      <td>0.296751</td>\n",
       "      <td>4.14768</td>\n",
       "      <td>1.966520</td>\n",
       "      <td>1.91427</td>\n",
       "    </tr>\n",
       "    <tr>\n",
       "      <th>2023-10-23 07:00:00</th>\n",
       "      <td>-1.337530</td>\n",
       "      <td>-1.337530</td>\n",
       "      <td>5.90919</td>\n",
       "      <td>1.629100</td>\n",
       "      <td>2.61195</td>\n",
       "    </tr>\n",
       "    <tr>\n",
       "      <th>2023-10-23 08:00:00</th>\n",
       "      <td>2.120630</td>\n",
       "      <td>2.120630</td>\n",
       "      <td>5.04843</td>\n",
       "      <td>6.104430</td>\n",
       "      <td>3.64895</td>\n",
       "    </tr>\n",
       "    <tr>\n",
       "      <th>2023-10-23 09:00:00</th>\n",
       "      <td>1.284400</td>\n",
       "      <td>1.284400</td>\n",
       "      <td>5.97442</td>\n",
       "      <td>8.046430</td>\n",
       "      <td>1.81292</td>\n",
       "    </tr>\n",
       "  </tbody>\n",
       "</table>\n",
       "<p>6417 rows × 5 columns</p>\n",
       "</div>"
      ],
      "text/plain": [
       "                     prev_day  day_before  prev_week  2_weeks_back  \\\n",
       "date_time                                                            \n",
       "2023-01-29 01:00:00  0.703934    0.703934    4.82249      1.245780   \n",
       "2023-01-29 02:00:00  3.453460    3.453460    2.17620     -0.879233   \n",
       "2023-01-29 03:00:00  2.251520    2.251520    4.72650      1.937820   \n",
       "2023-01-29 04:00:00 -1.454770   -1.454770    4.79195      0.277017   \n",
       "2023-01-29 05:00:00  2.567650    2.567650    3.33817      2.147330   \n",
       "...                       ...         ...        ...           ...   \n",
       "2023-10-23 05:00:00  1.374300    1.374300    2.64613      2.232220   \n",
       "2023-10-23 06:00:00  0.296751    0.296751    4.14768      1.966520   \n",
       "2023-10-23 07:00:00 -1.337530   -1.337530    5.90919      1.629100   \n",
       "2023-10-23 08:00:00  2.120630    2.120630    5.04843      6.104430   \n",
       "2023-10-23 09:00:00  1.284400    1.284400    5.97442      8.046430   \n",
       "\n",
       "                     3_weeks_back  \n",
       "date_time                          \n",
       "2023-01-29 01:00:00      31.09470  \n",
       "2023-01-29 02:00:00      32.77580  \n",
       "2023-01-29 03:00:00      11.78570  \n",
       "2023-01-29 04:00:00       5.92921  \n",
       "2023-01-29 05:00:00       4.66940  \n",
       "...                           ...  \n",
       "2023-10-23 05:00:00       2.38260  \n",
       "2023-10-23 06:00:00       1.91427  \n",
       "2023-10-23 07:00:00       2.61195  \n",
       "2023-10-23 08:00:00       3.64895  \n",
       "2023-10-23 09:00:00       1.81292  \n",
       "\n",
       "[6417 rows x 5 columns]"
      ]
     },
     "execution_count": 77,
     "metadata": {},
     "output_type": "execute_result"
    }
   ],
   "source": [
    "target = base_ts_features.femman_pm25\n",
    "features = base_ts_features.drop([\"femman_pm25\", \"date_time\", \"date_time_str\"], axis = 1)"
   ]
  },
  {
   "cell_type": "markdown",
   "id": "48323e3b-df7e-4891-9adb-d311e1bfd647",
   "metadata": {},
   "source": [
    "### Rolling window features"
   ]
  },
  {
   "cell_type": "code",
   "execution_count": 21,
   "id": "86146303-a6cf-40eb-894e-d04c8cae54e8",
   "metadata": {},
   "outputs": [],
   "source": [
    "def rolling_window_feature(base_df, window_len, allfeature=True):\n",
    "    if allfeature:   \n",
    "        rolling_window_features = base_df.copy()\n",
    "    else:\n",
    "        rolling_window_features = pd.DataFrame()\n",
    "        rolling_window_features['date_time'] = base_df.date_time\n",
    "        rolling_window_features['date_time_str'] = base_df.date_time_str\n",
    "        rolling_window_features['femman_pm25'] = base_df.femman_pm25\n",
    "    for feature in knn_imputer_feature.columns:\n",
    "        if feature not in ['date_time', 'date_time_str','femman_pm25']:\n",
    "            rolling_window_features['rolling_'+feature] = base_df[feature].rolling(2,min_periods=1).sum()\n",
    "    return rolling_window_features"
   ]
  },
  {
   "cell_type": "markdown",
   "id": "28aed166-6345-4e9b-803f-8fc37412624d",
   "metadata": {},
   "source": [
    "# Feature Selection"
   ]
  },
  {
   "cell_type": "markdown",
   "id": "7f953a62-316e-4368-88a8-4d5f9e722c27",
   "metadata": {},
   "source": [
    "### Feature Selection Variance Threshold"
   ]
  },
  {
   "cell_type": "code",
   "execution_count": 22,
   "id": "e8b0bb2e-3833-4899-bf46-73564f9ac22a",
   "metadata": {},
   "outputs": [],
   "source": [
    "from sklearn.feature_selection import VarianceThreshold"
   ]
  },
  {
   "cell_type": "code",
   "execution_count": 23,
   "id": "74ad34d3-86e7-449c-b622-ce9f9f299af2",
   "metadata": {},
   "outputs": [],
   "source": [
    "sel = VarianceThreshold(threshold=(.8 * (1 - .8)))\n",
    "variance_threshold_df = sel.fit_transform(baseline_feature.drop(['date_time', 'date_time_str','femman_pm25'], axis = 1))"
   ]
  },
  {
   "cell_type": "code",
   "execution_count": 24,
   "id": "31fc2988-644a-49a6-863b-c1ef06098720",
   "metadata": {},
   "outputs": [
    {
     "data": {
      "text/plain": [
       "array([[  5.481  ,  98.     ,   0.     , ...,  32.4055 , 152.856  ,\n",
       "         10.8946 ],\n",
       "       [  5.529  ,  99.3    ,   0.     , ...,  14.5261 ,  21.3518 ,\n",
       "         11.8211 ],\n",
       "       [  5.545  , 100.     ,   0.     , ...,  12.2712 ,   9.56303,\n",
       "          6.21183],\n",
       "       ...,\n",
       "       [ 10.04   , 100.     ,   3.198  , ...,  21.3607 ,  14.939  ,\n",
       "          3.26125],\n",
       "       [ 10.4    ,  99.8    ,  21.3    , ...,  16.6173 ,  14.939  ,\n",
       "          4.01006],\n",
       "       [ 10.4    , 100.     ,  25.49   , ...,  24.0582 ,  14.939  ,\n",
       "          5.6358 ]])"
      ]
     },
     "execution_count": 24,
     "metadata": {},
     "output_type": "execute_result"
    }
   ],
   "source": [
    "variance_threshold_df"
   ]
  },
  {
   "cell_type": "markdown",
   "id": "d9edf1e3-6d1e-4152-920c-0c8ab5e2bfb8",
   "metadata": {},
   "source": [
    "### K Best Features"
   ]
  },
  {
   "cell_type": "code",
   "execution_count": 25,
   "id": "9bef0545-57e5-4c69-bb4d-a40a1d979bbc",
   "metadata": {},
   "outputs": [],
   "source": [
    "from sklearn.feature_selection import SelectKBest\n",
    "from sklearn.feature_selection import f_regression\n",
    "from sklearn.linear_model import LinearRegression\n",
    "from sklearn.model_selection import train_test_split\n",
    "from sklearn.metrics import mean_squared_error\n",
    "import plotly.graph_objects as go"
   ]
  },
  {
   "cell_type": "code",
   "execution_count": 26,
   "id": "0cb7915a-4287-4c92-becb-4605f42eb2f0",
   "metadata": {},
   "outputs": [],
   "source": [
    "def k_best_features(feature_df, train_func, plotting = False, verbose = True):\n",
    "    train_df = feature_df.drop(['date_time', 'date_time_str','femman_pm25'], axis = 1)\n",
    "    test_df = feature_df.femman_pm25\n",
    "    optimal_model = None\n",
    "    min_test_error = None\n",
    "    train_erros = []\n",
    "    test_erros = []\n",
    "    for i in range(1, len(train_df.columns)):\n",
    "        train_df_new = SelectKBest(f_regression, k=i).fit_transform(train_df, test_df)\n",
    "        X_train, X_test, y_train, y_test = train_test_split(train_df_new, test_df, test_size=0.33, shuffle=True)\n",
    "\n",
    "        model = train_func(X_train, y_train)\n",
    "\n",
    "        pred_train = model.predict(X_train)\n",
    "        train_error = mean_squared_error(pred_train,y_train)\n",
    "        pred_test = model.predict(X_test)\n",
    "        test_error = mean_squared_error(pred_test,y_test)\n",
    "        train_erros.append(train_error)\n",
    "        if min_test_error is None:\n",
    "            min_test_error = test_error\n",
    "            optimal_model = model\n",
    "        else:\n",
    "            if test_error < min_test_error:\n",
    "                min_test_error = test_error\n",
    "                optimal_model = model\n",
    "        test_erros.append(test_error)\n",
    "    if plotting:\n",
    "        fig = go.Figure()\n",
    "        fig.add_trace(go.Scatter(y=train_erros, x=[*range(1,32)],\n",
    "                            mode='lines',\n",
    "                            name='Training error'))\n",
    "        fig.add_trace(go.Scatter(y=test_erros, x=[*range(1,32)],\n",
    "                            mode='lines',\n",
    "                            name='Testing error'))\n",
    "        fig.show()\n",
    "    optimal_k = test_erros.index(min(test_erros)) + 1\n",
    "    \n",
    "    \n",
    "\n",
    "    selector = SelectKBest(f_regression, k=optimal_k).fit(train_df, test_df).get_support()\n",
    "\n",
    "    new_features = train_df.columns[selector]\n",
    "    feature_list = list(set(train_df.columns) - set(new_features))\n",
    "    if verbose:\n",
    "        print(f'Optimal Number of Features : {optimal_k}')\n",
    "        print(f'Test Error : {min(test_erros)}')\n",
    "        print(f'Train Error : {train_erros[optimal_k-1]}')\n",
    "        print(f'Removed Feature : {feature_list}')\n",
    "\n",
    "    return optimal_model, min(test_erros)"
   ]
  },
  {
   "cell_type": "markdown",
   "id": "bbf81fc9-7916-400b-813a-a87aa9771e77",
   "metadata": {},
   "source": [
    "# Prediction Models"
   ]
  },
  {
   "cell_type": "code",
   "execution_count": 98,
   "id": "09ecdc9a-db5c-47fe-b494-aef4f7b318de",
   "metadata": {},
   "outputs": [],
   "source": [
    "from sklearn.linear_model import LinearRegression\n",
    "from sklearn.model_selection import train_test_split\n",
    "from sklearn.metrics import mean_squared_error\n",
    "import plotly.graph_objects as go"
   ]
  },
  {
   "cell_type": "markdown",
   "id": "4f27c563-a10e-4069-9ede-d7c867788a1a",
   "metadata": {},
   "source": [
    "### Baseline Prediction model"
   ]
  },
  {
   "cell_type": "code",
   "execution_count": 31,
   "id": "4a48273e-055c-4317-b897-fc11551027ed",
   "metadata": {},
   "outputs": [],
   "source": [
    "def train_linear_regression(X_train, y_train):\n",
    "    reg = LinearRegression().fit(X_train, y_train)\n",
    "    return reg"
   ]
  },
  {
   "cell_type": "code",
   "execution_count": 152,
   "id": "f2d4dd22-cda6-4f73-9c0f-1eada3ee0cb4",
   "metadata": {},
   "outputs": [
    {
     "name": "stdout",
     "output_type": "stream",
     "text": [
      "Optimal Number of Features : 22\n",
      "Test Error : 15.37218205501442\n",
      "Train Error : 23.73983425538425\n",
      "Selected Feature : ['lejonet_rain', 'femman_globrad', 'hagasodra_pm10', 'mobil2_nox', 'femman_nox', 'mobil1_nox', 'lejonet_winddir', 'femman_winddir', 'lejonet_globrad']\n"
     ]
    }
   ],
   "source": [
    "# Best model with baseline features\n",
    "optimal_model, min_error = k_best_features(baseline_feature, train_linear_regression)"
   ]
  },
  {
   "cell_type": "code",
   "execution_count": 153,
   "id": "74b2526e-407c-4228-b6a3-8fc6dbc64b0c",
   "metadata": {},
   "outputs": [
    {
     "name": "stdout",
     "output_type": "stream",
     "text": [
      "Optimal Number of Features : 6\n",
      "Test Error : 13.251940917839082\n",
      "Train Error : 20.936285053480745\n",
      "Selected Feature : ['lejonet_rain', 'femman_airpressure', 'femman_no2', 'mobil1_no2', 'hagasodra_pm25', 'femman_nox', 'femman_windspeed', 'lejonet_winddir', 'lejonet_temp', 'lejonet_windspeed', 'lejonet_airpressure', 'mobil3_no2', 'lejonet_globrad', 'femman_globrad', 'femman_rain', 'mobil2_nox', 'mobil3_nox', 'mobil1_nox', 'haganorra_no2', 'lejonet_rh', 'haganorra_nox', 'femman_rh', 'mobil1_pm10', 'femman_winddir', 'femman_temp']\n"
     ]
    }
   ],
   "source": [
    "optimal_model, min_error = k_best_features(knn_imputer_feature, train_linear_regression)"
   ]
  },
  {
   "cell_type": "code",
   "execution_count": 138,
   "id": "09f4b235-aef5-4311-9d26-0a01eb8d882d",
   "metadata": {},
   "outputs": [
    {
     "name": "stdout",
     "output_type": "stream",
     "text": [
      "Optimal Number of Features : 23\n",
      "Test Error : 8.538770470384016\n",
      "Train Error : 13.29194591930145\n",
      "Removed Feature : ['lejonet_globrad', 'lejonet_rain', 'femman_rain', 'lejonet_rh', 'lejonet_winddir', 'femman_rh', 'femman_winddir', 'femman_globrad']\n"
     ]
    }
   ],
   "source": [
    "optimal_model, min_error = k_best_features(mutivariate_imputer_feature, train_linear_regression)"
   ]
  },
  {
   "cell_type": "code",
   "execution_count": 120,
   "id": "e4120db9-7f4e-4323-8fdf-936ca7bc8b01",
   "metadata": {},
   "outputs": [
    {
     "name": "stdout",
     "output_type": "stream",
     "text": [
      "Optimal Number of Features : 19\n",
      "Test Error : 13.075002425288023\n",
      "Train Error : 70.98216053591824\n",
      "Removed Feature : ['lejonet_globrad', 'lejonet_rain', 'femman_rain', 'mobil1_no2', 'lejonet_rh', 'lejonet_winddir', 'femman_rh', 'femman_winddir', 'lejonet_windspeed', 'femman_globrad', 'mobil1_nox', 'femman_windspeed']\n"
     ]
    }
   ],
   "source": [
    "gausian_features = gaussian_transformation(knn_imputer_feature)\n",
    "optimal_model, min_error = k_best_features(gausian_features, train_linear_regression)"
   ]
  },
  {
   "cell_type": "code",
   "execution_count": 167,
   "id": "3d75ed4f-2ed7-4b32-a9ad-0755d8729863",
   "metadata": {},
   "outputs": [
    {
     "name": "stdout",
     "output_type": "stream",
     "text": [
      "Min Error: 78.66152953502016\n",
      "optimal_number_components : 3\n"
     ]
    }
   ],
   "source": [
    "base_df = baseline_feature\n",
    "min_error_final, optimal_number_components = None, None\n",
    "for n_components in range(len(base_df.columns)-3):\n",
    "    features = pca_features(base_df, n_components)\n",
    "    optimal_model, min_error = k_best_features(features, train_linear_regression, verbose=False)\n",
    "    if min_error_final is None:\n",
    "        min_error_final = min_error\n",
    "        optimal_number_components = n_components\n",
    "    else:\n",
    "        if min_error < min_error_final:\n",
    "            min_error_final = min_error\n",
    "            optimal_number_components = n_components\n",
    "print(f'Min Error: {min_error_final}')\n",
    "print(f'optimal_number_components : {optimal_number_components}')"
   ]
  },
  {
   "cell_type": "code",
   "execution_count": 169,
   "id": "070ac94b-8d0b-42b8-826a-481dbb32866f",
   "metadata": {},
   "outputs": [
    {
     "name": "stdout",
     "output_type": "stream",
     "text": [
      "Min Error: 18.730012154221388\n",
      "optimal_number_components : 20\n"
     ]
    }
   ],
   "source": [
    "base_df = knn_imputer_feature\n",
    "min_error_final, optimal_number_components = None, None\n",
    "for n_components in range(len(base_df.columns)-3):\n",
    "    features = pca_features(base_df, n_components)\n",
    "    optimal_model, min_error = k_best_features(features, train_linear_regression, verbose=False)\n",
    "    if min_error_final is None:\n",
    "        min_error_final = min_error\n",
    "        optimal_number_components = n_components\n",
    "    else:\n",
    "        if min_error < min_error_final:\n",
    "            min_error_final = min_error\n",
    "            optimal_number_components = n_components\n",
    "print(f'Min Error: {min_error_final}')\n",
    "print(f'optimal_number_components : {optimal_number_components}')"
   ]
  },
  {
   "cell_type": "code",
   "execution_count": 32,
   "id": "a5fe2e6a-c519-44eb-9e71-49e1ec4b59f8",
   "metadata": {},
   "outputs": [
    {
     "name": "stdout",
     "output_type": "stream",
     "text": [
      "Min Error: 7.279204718228792\n",
      "optimal_window_len : 19\n",
      "optimal_window_all_features : True\n"
     ]
    }
   ],
   "source": [
    "base_df = mutivariate_imputer_feature\n",
    "min_error_final, optimal_window_len, optimal_window_all_features = None, None, None\n",
    "for allfeature in [True, False]:\n",
    "    for window_len in range(1,20):\n",
    "        print(f'Current : {window_len}, {allfeature}', end='\\r')\n",
    "        features = rolling_window_feature(base_df, window_len, allfeature = allfeature)\n",
    "        optimal_model, min_error = k_best_features(features, train_linear_regression, verbose=False)\n",
    "        if min_error_final is None:\n",
    "            min_error_final = min_error\n",
    "            optimal_window_len = window_len\n",
    "            optimal_window_all_features = allfeature\n",
    "        else:\n",
    "            if min_error < min_error_final:\n",
    "                min_error_final = min_error\n",
    "                optimal_window_len = window_len\n",
    "                optimal_window_all_features = allfeature\n",
    "print(f'Min Error: {min_error_final}')\n",
    "print(f'optimal_window_len : {optimal_window_len}')\n",
    "print(f'optimal_window_all_features : {optimal_window_all_features}')"
   ]
  },
  {
   "cell_type": "code",
   "execution_count": 187,
   "id": "d3ccf9c6-1dd9-4966-b45b-475e00e8ebd0",
   "metadata": {},
   "outputs": [
    {
     "name": "stdout",
     "output_type": "stream",
     "text": [
      "Min Error: 8.528667810022336\n",
      "optimal_window_len : 17\n",
      "optimal_window_all_features : True\n"
     ]
    }
   ],
   "source": [
    "base_df = knn_imputer_feature\n",
    "min_error_final, optimal_window_len, optimal_window_all_features = None, None, None\n",
    "for allfeature in [True, False]:\n",
    "    for window_len in range(0,20):\n",
    "        print(f'Current : {window_len}, {allfeature}', end='\\r')\n",
    "        features = rolling_window_feature(base_df, window_len, allfeature = allfeature)\n",
    "        optimal_model, min_error = k_best_features(features, train_linear_regression, verbose=False)\n",
    "        if min_error_final is None:\n",
    "            min_error_final = min_error\n",
    "            optimal_window_len = window_len\n",
    "            optimal_window_all_features = allfeature\n",
    "        else:\n",
    "            if min_error < min_error_final:\n",
    "                min_error_final = min_error\n",
    "                optimal_window_len = window_len\n",
    "                optimal_window_all_features = allfeature\n",
    "print(f'Min Error: {min_error_final}')\n",
    "print(f'optimal_window_len : {optimal_window_len}')\n",
    "print(f'optimal_window_all_features : {optimal_window_all_features}')"
   ]
  },
  {
   "cell_type": "code",
   "execution_count": 122,
   "id": "baccc54f-3196-44b0-90c1-fccf33a827e0",
   "metadata": {},
   "outputs": [
    {
     "name": "stdout",
     "output_type": "stream",
     "text": [
      "Optimal Number of Features : 242\n",
      "Test Error : 4.484194633228467\n",
      "Train Error : 3.8111707264059422\n",
      "Removed Feature : ['femman_globrad mobil1_pm10', 'haganorra_no2 lejonet_winddir', 'femman_winddir mobil3_nox', 'lejonet_globrad mobil2_pm10', 'lejonet_rain lejonet_rh', 'femman_windspeed mobil3_nox', 'lejonet_windspeed mobil3_nox', 'femman_nox mobil1_pm10', 'mobil1_pm10 mobil3_pm10', 'femman_globrad femman_no2', 'mobil1_nox^2', 'femman_winddir femman_nox', 'lejonet_windspeed mobil2_nox', 'lejonet_temp lejonet_windspeed', 'lejonet_rain mobil3_nox', 'femman_globrad lejonet_winddir', 'femman_no2 mobil1_no2', 'hagasodra_pm10 lejonet_windspeed', 'femman_windspeed lejonet_globrad', 'mobil1_no2 mobil3_nox', 'mobil1_no2 mobil2_nox', 'femman_rain mobil1_no2', 'hagasodra_pm25 lejonet_globrad', 'femman_nox lejonet_winddir', 'femman_globrad mobil3_nox', 'mobil1_pm10 mobil2_nox', 'mobil1_nox mobil3_nox', 'mobil3_nox', 'femman_globrad^2', 'femman_airpressure lejonet_rain', 'femman_no2^2', 'femman_nox mobil1_no2', 'haganorra_nox mobil3_nox', 'femman_globrad mobil1_no2', 'femman_windspeed lejonet_temp', 'lejonet_rh^2', 'femman_windspeed hagasodra_pm10', 'mobil1_pm10 mobil3_nox', 'lejonet_globrad mobil1_no2', 'haganorra_nox mobil1_pm10', 'femman_rh lejonet_rh', 'femman_globrad mobil1_nox', 'mobil2_no2 mobil3_nox', 'hagasodra_pm25^2', 'femman_windspeed haganorra_no2', 'hagasodra_pm10 lejonet_globrad', 'femman_nox', 'lejonet_rh mobil2_nox', 'femman_nox mobil3_pm10', 'haganorra_nox mobil2_no2', 'mobil1_pm10 mobil3_no2', 'femman_windspeed femman_nox', 'lejonet_globrad mobil2_nox', 'lejonet_winddir mobil2_nox', 'femman_rh mobil1_nox', 'femman_rain', 'mobil1_nox mobil1_pm10', 'lejonet_globrad mobil3_nox', 'femman_nox lejonet_rh', 'femman_rh lejonet_airpressure', 'femman_airpressure femman_winddir', 'haganorra_nox lejonet_windspeed', 'mobil1_nox mobil3_pm10', 'lejonet_winddir lejonet_windspeed', 'femman_winddir mobil1_pm10', 'lejonet_rain mobil3_pm10', 'femman_globrad mobil2_pm10', 'femman_rh mobil3_nox', 'lejonet_airpressure lejonet_rain', 'femman_windspeed femman_rain', 'lejonet_globrad mobil3_pm10', 'mobil1_nox mobil2_nox', 'femman_rain lejonet_temp', 'lejonet_winddir', 'femman_no2 haganorra_nox', 'lejonet_rain lejonet_winddir', 'femman_temp lejonet_globrad', 'mobil1_no2^2', 'mobil1_nox mobil3_no2', 'lejonet_rh', 'mobil2_nox mobil3_nox', 'haganorra_nox mobil3_no2', 'femman_windspeed mobil1_no2', 'femman_rain mobil2_no2', 'femman_no2 mobil1_pm10', 'lejonet_globrad^2', 'femman_globrad', 'femman_rh femman_winddir', 'haganorra_no2 mobil1_nox', 'femman_rain lejonet_rh', 'femman_windspeed lejonet_winddir', 'lejonet_rain lejonet_windspeed', 'lejonet_winddir mobil1_no2', 'femman_airpressure lejonet_globrad', 'femman_windspeed femman_winddir', 'femman_globrad femman_nox', 'lejonet_rain mobil2_pm25', 'femman_rain lejonet_airpressure', 'femman_no2 femman_nox', 'femman_temp femman_winddir', 'lejonet_rain mobil1_no2', 'femman_rain mobil3_no2', 'femman_no2 lejonet_globrad', 'lejonet_winddir mobil3_no2', 'femman_rh femman_nox', 'mobil1_nox mobil2_no2', 'femman_rain mobil2_nox', 'femman_nox mobil2_no2', 'femman_windspeed femman_no2', 'femman_airpressure mobil3_nox', 'femman_rain femman_no2', 'femman_winddir^2', 'femman_rh lejonet_globrad', 'femman_windspeed haganorra_nox', 'mobil1_no2 mobil3_no2', 'hagasodra_pm10 mobil1_pm10', 'mobil2_nox mobil3_no2', 'mobil1_pm10^2', 'femman_globrad lejonet_globrad', 'femman_no2 mobil1_nox', 'mobil1_no2', 'femman_temp lejonet_winddir', 'femman_rain lejonet_globrad', 'femman_no2 lejonet_windspeed', 'femman_airpressure lejonet_winddir', 'femman_nox^2', 'haganorra_no2 lejonet_windspeed', 'femman_temp femman_windspeed', 'lejonet_airpressure lejonet_rh', 'lejonet_airpressure lejonet_winddir', 'femman_globrad mobil3_no2', 'haganorra_no2 lejonet_rain', 'femman_winddir lejonet_winddir', 'lejonet_winddir mobil3_nox', 'femman_globrad femman_winddir', 'mobil2_no2 mobil2_nox', 'femman_windspeed lejonet_rain', 'femman_globrad lejonet_rain', 'femman_no2 mobil3_no2', 'femman_globrad hagasodra_pm25', 'femman_rain mobil1_nox', 'femman_nox lejonet_airpressure', 'lejonet_windspeed mobil2_no2', 'lejonet_rain mobil2_nox', 'haganorra_no2 mobil3_no2', 'femman_rain femman_pm10', 'femman_windspeed mobil3_no2', 'lejonet_winddir mobil1_nox', 'haganorra_nox^2', 'femman_rain mobil3_pm10', 'femman_airpressure lejonet_rh', 'femman_nox haganorra_no2', 'femman_nox mobil2_nox', 'femman_globrad femman_windspeed', 'femman_winddir lejonet_airpressure', 'femman_winddir', 'femman_rh', 'haganorra_nox lejonet_rain', 'femman_windspeed mobil1_pm10', 'haganorra_no2 haganorra_nox', 'hagasodra_pm10 lejonet_rain', 'hagasodra_pm25 lejonet_rain', 'femman_temp lejonet_rain', 'lejonet_rain mobil2_pm10', 'haganorra_nox lejonet_winddir', 'femman_globrad lejonet_windspeed', 'lejonet_rh mobil1_no2', 'femman_no2 lejonet_winddir', 'femman_rain haganorra_no2', 'femman_nox mobil1_nox', 'haganorra_nox mobil2_nox', 'lejonet_globrad mobil1_pm10', 'femman_winddir lejonet_rh', 'femman_rh femman_airpressure', 'femman_winddir lejonet_rain', 'lejonet_globrad lejonet_winddir', 'femman_winddir mobil1_nox', 'femman_winddir mobil1_no2', 'femman_rh lejonet_winddir', 'lejonet_globrad mobil2_no2', 'femman_airpressure femman_nox', 'femman_globrad haganorra_no2', 'femman_rh femman_globrad', 'lejonet_globrad lejonet_airpressure', 'haganorra_no2 mobil1_no2', 'lejonet_globrad lejonet_temp', 'femman_rain mobil2_pm25', 'femman_winddir femman_rain', 'femman_winddir mobil3_no2', 'femman_winddir lejonet_temp', 'femman_nox lejonet_windspeed', 'lejonet_temp lejonet_winddir', 'femman_rh lejonet_rain', 'lejonet_rh lejonet_winddir', 'haganorra_nox mobil1_no2', 'lejonet_rain', 'femman_nox haganorra_nox', 'femman_rain mobil3_nox', 'lejonet_globrad lejonet_rain', 'lejonet_rain lejonet_temp', 'femman_rh femman_rain', 'lejonet_airpressure mobil3_nox', 'haganorra_no2 mobil2_nox', 'femman_globrad lejonet_rh', 'femman_nox lejonet_globrad', 'femman_rain lejonet_winddir', 'lejonet_windspeed mobil3_no2', 'lejonet_windspeed mobil1_nox', 'femman_nox mobil3_nox', 'haganorra_no2 mobil3_nox', 'femman_no2 lejonet_rain', 'femman_globrad mobil2_nox', 'femman_globrad lejonet_airpressure', 'femman_rain femman_nox', 'mobil1_no2 mobil1_nox', 'lejonet_rh mobil1_nox', 'femman_rain mobil1_pm10', 'lejonet_windspeed mobil1_no2', 'femman_globrad mobil3_pm10', 'femman_rain lejonet_windspeed', 'femman_windspeed hagasodra_pm25', 'femman_no2 mobil2_nox', 'mobil3_no2^2', 'femman_globrad mobil2_no2', 'femman_temp femman_rain', 'lejonet_rain mobil3_no2', 'femman_globrad lejonet_temp', 'femman_windspeed mobil2_nox', 'femman_rain lejonet_rain', 'mobil1_nox', 'femman_winddir femman_no2', 'femman_no2 haganorra_no2', 'lejonet_globrad mobil3_no2', 'femman_rain^2', 'femman_winddir mobil2_nox', 'lejonet_globrad', 'femman_airpressure femman_rain', 'mobil1_no2 mobil1_pm10', 'femman_no2 mobil3_nox', 'femman_rh^2', 'mobil2_nox^2', 'lejonet_rain mobil2_no2', 'lejonet_rain^2', 'hagasodra_pm10 mobil1_nox', 'lejonet_globrad lejonet_windspeed', 'femman_rain hagasodra_pm10', 'lejonet_winddir^2', 'haganorra_no2 lejonet_globrad', 'haganorra_nox lejonet_globrad', 'femman_globrad femman_airpressure', 'femman_windspeed mobil3_pm10', 'femman_windspeed mobil1_nox', 'lejonet_rain mobil1_nox', 'lejonet_airpressure mobil1_nox', 'haganorra_nox mobil1_nox', 'femman_rh femman_windspeed', 'mobil3_no2 mobil3_nox', 'haganorra_no2 mobil1_pm10', 'femman_nox lejonet_rain', 'femman_globrad femman_rain', 'lejonet_globrad mobil1_nox', 'lejonet_winddir mobil1_pm10', 'femman_winddir lejonet_windspeed', 'femman_winddir haganorra_no2', 'lejonet_globrad lejonet_rh', 'lejonet_rh mobil3_nox', 'femman_rain haganorra_nox', 'femman_pm10 lejonet_rain', 'femman_globrad haganorra_nox', 'femman_winddir haganorra_nox', 'femman_nox mobil3_no2', 'haganorra_no2^2', 'lejonet_windspeed mobil3_pm10', 'mobil3_nox mobil3_pm10', 'femman_temp lejonet_windspeed', 'mobil3_nox^2', 'femman_globrad hagasodra_pm10', 'lejonet_windspeed mobil1_pm10', 'hagasodra_pm25 lejonet_windspeed', 'femman_temp femman_globrad', 'femman_winddir lejonet_globrad', 'femman_airpressure mobil1_nox', 'lejonet_rain mobil1_pm10', 'femman_rain mobil2_pm10', 'femman_rain hagasodra_pm25']\n"
     ]
    }
   ],
   "source": [
    "features = polynomial_features(knn_imputer_feature, 2)\n",
    "optimal_model, min_error = k_best_features(features, train_linear_regression, verbose=True)"
   ]
  },
  {
   "cell_type": "markdown",
   "id": "93314872-b0ab-4428-9c85-f166a001c413",
   "metadata": {},
   "source": [
    "### ML Model"
   ]
  },
  {
   "cell_type": "code",
   "execution_count": 27,
   "id": "22d17d7f-e6ef-466e-b7cf-a297c1c6328a",
   "metadata": {},
   "outputs": [],
   "source": [
    "from sklearn.neural_network import MLPRegressor\n",
    "from sklearn.model_selection import train_test_split"
   ]
  },
  {
   "cell_type": "code",
   "execution_count": 28,
   "id": "a7ff0823-a6ac-40a3-8b93-55c242d8628e",
   "metadata": {},
   "outputs": [],
   "source": [
    "def train_mlp(X_train, y_train):\n",
    "    reg = MLPRegressor(random_state=1, max_iter=2000).fit(X_train, y_train)\n",
    "    return reg"
   ]
  },
  {
   "cell_type": "code",
   "execution_count": 25,
   "id": "72219c9f-948b-458f-a37c-451021b2f4b2",
   "metadata": {},
   "outputs": [
    {
     "name": "stdout",
     "output_type": "stream",
     "text": [
      "Optimal Number of Features : 25\n",
      "Test Error : 5.067759338925554\n",
      "Train Error : 6.080149461038573\n",
      "Selected Feature : ['mobil1_nox', 'femman_winddir', 'lejonet_rain', 'femman_globrad', 'mobil2_nox', 'lejonet_globrad']\n"
     ]
    }
   ],
   "source": [
    "# Best model with baseline features\n",
    "optimal_model, min_error = k_best_features(baseline_feature, train_mlp)"
   ]
  },
  {
   "cell_type": "code",
   "execution_count": 26,
   "id": "0249fc13-43b4-4caa-ba2d-6a5d9d850f46",
   "metadata": {},
   "outputs": [
    {
     "name": "stdout",
     "output_type": "stream",
     "text": [
      "Optimal Number of Features : 8\n",
      "Test Error : 3.7669851499560476\n",
      "Train Error : 3.287805639674383\n",
      "Selected Feature : ['lejonet_winddir', 'mobil1_pm10', 'haganorra_nox', 'femman_windspeed', 'femman_rh', 'femman_airpressure', 'femman_nox', 'mobil2_nox', 'lejonet_globrad', 'lejonet_windspeed', 'femman_rain', 'haganorra_no2', 'lejonet_temp', 'mobil3_no2', 'lejonet_rain', 'femman_globrad', 'lejonet_rh', 'mobil1_no2', 'femman_no2', 'mobil1_nox', 'femman_winddir', 'mobil3_nox', 'lejonet_airpressure']\n"
     ]
    }
   ],
   "source": [
    "optimal_model, min_error = k_best_features(knn_imputer_feature, train_mlp)"
   ]
  },
  {
   "cell_type": "code",
   "execution_count": 139,
   "id": "84434271-71c9-4ccc-8e0e-01314beceb48",
   "metadata": {},
   "outputs": [
    {
     "name": "stdout",
     "output_type": "stream",
     "text": [
      "Optimal Number of Features : 10\n",
      "Test Error : 3.234496386572833\n",
      "Train Error : 2.7988157726984455\n",
      "Removed Feature : ['lejonet_airpressure', 'mobil3_no2', 'lejonet_rh', 'femman_rh', 'femman_winddir', 'femman_globrad', 'mobil1_nox', 'lejonet_globrad', 'femman_no2', 'mobil3_nox', 'femman_windspeed', 'mobil1_no2', 'mobil2_nox', 'lejonet_windspeed', 'mobil1_pm10', 'femman_nox', 'lejonet_rain', 'femman_rain', 'haganorra_nox', 'femman_airpressure', 'lejonet_winddir']\n"
     ]
    }
   ],
   "source": [
    "optimal_model, min_error = k_best_features(mutivariate_imputer_feature, train_mlp)"
   ]
  },
  {
   "cell_type": "code",
   "execution_count": 29,
   "id": "66e9a121-4a48-4f06-b2a6-4a84cc5fc6c7",
   "metadata": {},
   "outputs": [
    {
     "name": "stdout",
     "output_type": "stream",
     "text": [
      "Optimal Number of Features : 13\n",
      "Test Error : 4.536234243046072\n",
      "Train Error : 2.8082995289449464\n",
      "Removed Feature : ['femman_winddir', 'lejonet_windspeed', 'femman_rh', 'lejonet_airpressure', 'mobil1_nox', 'lejonet_rh', 'femman_no2', 'femman_windspeed', 'lejonet_winddir', 'lejonet_rain', 'mobil3_nox', 'lejonet_globrad', 'femman_nox', 'mobil1_no2', 'mobil1_pm10', 'femman_globrad', 'femman_airpressure', 'femman_rain']\n"
     ]
    }
   ],
   "source": [
    "gausian_features = gaussian_transformation(knn_imputer_feature)\n",
    "optimal_model, min_error = k_best_features(gausian_features, train_mlp)"
   ]
  },
  {
   "cell_type": "code",
   "execution_count": 25,
   "id": "371cec5b-fff7-43cc-871c-bf583821c683",
   "metadata": {},
   "outputs": [
    {
     "name": "stdout",
     "output_type": "stream",
     "text": [
      "Min Error: 28.692313393616576\n",
      "optimal_number_components : 0\n"
     ]
    }
   ],
   "source": [
    "base_df = baseline_feature\n",
    "min_error_final, optimal_number_components = None, None\n",
    "for n_components in range(1,len(base_df.columns)-3):\n",
    "    print(f'Current : {n_components}/ {len(base_df.columns)-3}', end='\\r')\n",
    "    features = pca_features(base_df, n_components)\n",
    "    optimal_model, min_error = k_best_features(features, train_mlp, verbose=False)\n",
    "    if min_error_final is None:\n",
    "        min_error_final = min_error\n",
    "        optimal_number_components = n_components\n",
    "    else:\n",
    "        if min_error < min_error_final:\n",
    "            min_error_final = min_error\n",
    "            optimal_number_components = n_components\n",
    "print(f'Min Error: {min_error_final}')\n",
    "print(f'optimal_number_components : {optimal_number_components}')"
   ]
  },
  {
   "cell_type": "code",
   "execution_count": 26,
   "id": "b124b312-6ec5-4180-bd43-db90c458003c",
   "metadata": {},
   "outputs": [
    {
     "name": "stdout",
     "output_type": "stream",
     "text": [
      "Min Error: 19.957751075210073\n",
      "optimal_number_components : 13\n"
     ]
    }
   ],
   "source": [
    "base_df = knn_imputer_feature\n",
    "min_error_final, optimal_number_components = None, None\n",
    "for n_components in range(1,len(base_df.columns)-3):\n",
    "    print(f'Current : {n_components}/ {len(base_df.columns)-3}', end='\\r')\n",
    "    features = pca_features(base_df, n_components)\n",
    "    optimal_model, min_error = k_best_features(features, train_mlp, verbose=False)\n",
    "    if min_error_final is None:\n",
    "        min_error_final = min_error\n",
    "        optimal_number_components = n_components\n",
    "    else:\n",
    "        if min_error < min_error_final:\n",
    "            min_error_final = min_error\n",
    "            optimal_number_components = n_components\n",
    "print(f'Min Error: {min_error_final}')\n",
    "print(f'optimal_number_components : {optimal_number_components}')"
   ]
  },
  {
   "cell_type": "code",
   "execution_count": 33,
   "id": "a747c7bb-20ba-4f23-bec6-7cdb4feaef75",
   "metadata": {},
   "outputs": [
    {
     "name": "stdout",
     "output_type": "stream",
     "text": [
      "Min Error: 2.961421031264272\n",
      "optimal_window_len : 10\n",
      "optimal_window_all_features : True\n"
     ]
    }
   ],
   "source": [
    "base_df = mutivariate_imputer_feature\n",
    "min_error_final, optimal_window_len, optimal_window_all_features = None, None, None\n",
    "for allfeature in [True, False]:\n",
    "    for window_len in range(1,20):\n",
    "        print(f'Current : {window_len}, {allfeature}', end='\\r')\n",
    "        features = rolling_window_feature(base_df, window_len, allfeature = allfeature)\n",
    "        optimal_model, min_error = k_best_features(features, train_mlp, verbose=False)\n",
    "        if min_error_final is None:\n",
    "            min_error_final = min_error\n",
    "            optimal_window_len = window_len\n",
    "            optimal_window_all_features = allfeature\n",
    "        else:\n",
    "            if min_error < min_error_final:\n",
    "                min_error_final = min_error\n",
    "                optimal_window_len = window_len\n",
    "                optimal_window_all_features = allfeature\n",
    "print(f'Min Error: {min_error_final}')\n",
    "print(f'optimal_window_len : {optimal_window_len}')\n",
    "print(f'optimal_window_all_features : {optimal_window_all_features}')"
   ]
  },
  {
   "cell_type": "code",
   "execution_count": 30,
   "id": "980a79f4-3bdd-4442-bf19-f112aa57f1f2",
   "metadata": {},
   "outputs": [
    {
     "name": "stdout",
     "output_type": "stream",
     "text": [
      "Min Error: 3.4600586811239404\n",
      "optimal_window_len : 8\n",
      "optimal_window_all_features : True\n"
     ]
    }
   ],
   "source": [
    "base_df = knn_imputer_feature\n",
    "min_error_final, optimal_window_len, optimal_window_all_features = None, None, None\n",
    "for allfeature in [True, False]:\n",
    "    for window_len in range(1,20):\n",
    "        print(f'Current : {window_len}, {allfeature}', end='\\r')\n",
    "        features = rolling_window_feature(base_df, window_len, allfeature = allfeature)\n",
    "        optimal_model, min_error = k_best_features(features, train_mlp, verbose=False)\n",
    "        if min_error_final is None:\n",
    "            min_error_final = min_error\n",
    "            optimal_window_len = window_len\n",
    "            optimal_window_all_features = allfeature\n",
    "        else:\n",
    "            if min_error < min_error_final:\n",
    "                min_error_final = min_error\n",
    "                optimal_window_len = window_len\n",
    "                optimal_window_all_features = allfeature\n",
    "print(f'Min Error: {min_error_final}')\n",
    "print(f'optimal_window_len : {optimal_window_len}')\n",
    "print(f'optimal_window_all_features : {optimal_window_all_features}')"
   ]
  },
  {
   "cell_type": "code",
   "execution_count": 123,
   "id": "fd0313ac-2ca8-4628-9924-e26e8e07ca13",
   "metadata": {},
   "outputs": [
    {
     "name": "stdout",
     "output_type": "stream",
     "text": [
      "Optimal Number of Features : 213\n",
      "Test Error : 4.246481109525199\n",
      "Train Error : 3.9000129397140983\n",
      "Removed Feature : ['haganorra_no2 lejonet_winddir', 'femman_winddir mobil3_nox', 'femman_globrad femman_no2', 'femman_winddir femman_nox', 'lejonet_windspeed mobil2_nox', 'lejonet_temp lejonet_windspeed', 'femman_globrad lejonet_winddir', 'mobil1_no2 mobil2_nox', 'hagasodra_pm25 lejonet_globrad', 'femman_globrad mobil1_no2', 'haganorra_nox mobil1_pm10', 'femman_windspeed haganorra_no2', 'lejonet_rh mobil2_nox', 'femman_nox mobil3_pm10', 'lejonet_globrad mobil3_nox', 'femman_rh lejonet_airpressure', 'femman_winddir mobil1_pm10', 'femman_globrad mobil2_pm10', 'femman_no2 haganorra_nox', 'lejonet_airpressure lejonet_rain', 'lejonet_winddir', 'femman_temp lejonet_globrad', 'lejonet_rh', 'femman_globrad', 'lejonet_winddir mobil1_no2', 'femman_globrad femman_nox', 'femman_no2 femman_nox', 'lejonet_rain mobil1_no2', 'mobil1_nox mobil2_no2', 'femman_airpressure mobil3_nox', 'femman_winddir^2', 'hagasodra_pm10 mobil1_pm10', 'femman_windspeed mobil2_no2', 'femman_rain lejonet_globrad', 'femman_no2 lejonet_windspeed', 'femman_airpressure lejonet_winddir', 'femman_nox^2', 'haganorra_no2 lejonet_windspeed', 'femman_globrad hagasodra_pm25', 'lejonet_windspeed mobil2_no2', 'lejonet_winddir mobil1_nox', 'femman_rain mobil3_pm10', 'femman_nox haganorra_no2', 'haganorra_nox lejonet_rain', 'femman_no2 mobil2_no2', 'hagasodra_pm10 lejonet_rain', 'femman_nox hagasodra_pm10', 'hagasodra_pm25 lejonet_rain', 'femman_temp lejonet_rain', 'mobil2_nox mobil3_pm10', 'lejonet_rh mobil1_no2', 'haganorra_nox mobil3_pm10', 'femman_rain haganorra_no2', 'femman_nox mobil1_nox', 'femman_rh femman_globrad', 'lejonet_globrad lejonet_airpressure', 'femman_winddir femman_rain', 'femman_rh lejonet_rain', 'lejonet_rh lejonet_winddir', 'haganorra_nox lejonet_airpressure', 'lejonet_globrad lejonet_rain', 'lejonet_rain lejonet_temp', 'femman_no2 lejonet_rain', 'femman_rain femman_nox', 'lejonet_rh mobil1_nox', 'lejonet_windspeed mobil1_no2', 'femman_globrad mobil2_no2', 'femman_rh lejonet_windspeed', 'femman_rain hagasodra_pm10', 'lejonet_winddir^2', 'haganorra_nox lejonet_globrad', 'lejonet_rain mobil1_nox', 'haganorra_nox mobil1_nox', 'lejonet_globrad lejonet_rh', 'lejonet_rh mobil3_nox', 'femman_nox mobil3_no2', 'lejonet_rh lejonet_windspeed', 'hagasodra_pm25 lejonet_windspeed', 'femman_temp femman_globrad', 'femman_airpressure mobil1_nox', 'lejonet_rain mobil1_pm10', 'femman_rain mobil2_pm10', 'femman_globrad mobil1_pm10', 'lejonet_globrad mobil2_pm10', 'lejonet_windspeed mobil3_nox', 'femman_nox mobil1_pm10', 'mobil1_nox^2', 'lejonet_rain mobil3_nox', 'femman_nox lejonet_winddir', 'mobil1_nox mobil3_nox', 'femman_nox mobil1_no2', 'haganorra_nox mobil3_nox', 'lejonet_rh^2', 'hagasodra_pm10 lejonet_globrad', 'mobil1_pm10 mobil3_no2', 'femman_nox lejonet_rh', 'haganorra_nox lejonet_windspeed', 'lejonet_globrad mobil3_pm10', 'lejonet_airpressure mobil1_no2', 'lejonet_rain lejonet_winddir', 'haganorra_nox mobil3_no2', 'mobil1_pm10 mobil2_no2', 'femman_no2 mobil1_pm10', 'lejonet_globrad^2', 'femman_rh femman_winddir', 'femman_airpressure lejonet_globrad', 'femman_rain mobil3_no2', 'femman_rh femman_nox', 'femman_windspeed femman_no2', 'femman_rain femman_no2', 'femman_rh lejonet_globrad', 'lejonet_airpressure mobil1_pm10', 'femman_windspeed haganorra_nox', 'mobil1_pm10^2', 'femman_globrad lejonet_globrad', 'femman_no2 mobil1_nox', 'femman_temp femman_windspeed', 'femman_globrad mobil3_no2', 'haganorra_no2 lejonet_rain', 'femman_globrad lejonet_rain', 'femman_rain mobil1_nox', 'femman_nox lejonet_airpressure', 'haganorra_no2 mobil3_no2', 'femman_globrad femman_windspeed', 'lejonet_rain mobil2_pm10', 'femman_globrad lejonet_windspeed', 'hagasodra_pm10 lejonet_winddir', 'haganorra_nox mobil2_nox', 'lejonet_globrad mobil1_pm10', 'hagasodra_pm10^2', 'femman_rh lejonet_winddir', 'lejonet_globrad mobil2_no2', 'haganorra_no2 mobil1_no2', 'lejonet_globrad lejonet_temp', 'femman_winddir mobil3_no2', 'lejonet_airpressure mobil3_nox', 'femman_rain lejonet_winddir', 'lejonet_winddir mobil3_pm10', 'lejonet_windspeed mobil3_no2', 'femman_temp femman_rain', 'femman_windspeed mobil2_nox', 'femman_no2 haganorra_no2', 'lejonet_globrad mobil3_no2', 'femman_winddir mobil2_nox', 'femman_airpressure femman_rain', 'femman_windspeed mobil3_pm10', 'lejonet_globrad mobil1_nox', 'femman_winddir lejonet_windspeed', 'femman_rain haganorra_nox', 'haganorra_no2^2', 'haganorra_nox lejonet_rh', 'femman_globrad hagasodra_pm10', 'lejonet_rain mobil2_no2', 'femman_windspeed mobil3_nox', 'lejonet_rain lejonet_rh', 'mobil1_pm10 mobil3_pm10', 'femman_no2 mobil1_no2', 'femman_globrad mobil3_nox', 'mobil1_pm10 mobil2_nox', 'mobil3_nox', 'femman_airpressure lejonet_rain', 'femman_airpressure mobil1_pm10', 'femman_windspeed lejonet_temp', 'femman_windspeed hagasodra_pm10', 'lejonet_globrad mobil1_no2', 'femman_rh lejonet_rh', 'mobil2_no2 mobil3_nox', 'femman_nox', 'haganorra_nox mobil2_no2', 'lejonet_winddir mobil2_nox', 'femman_rain', 'femman_airpressure mobil1_no2', 'lejonet_rain mobil3_pm10', 'femman_rh mobil3_nox', 'haganorra_no2 mobil1_nox', 'femman_windspeed lejonet_winddir', 'femman_windspeed femman_winddir', 'lejonet_rain mobil2_pm25', 'femman_temp femman_winddir', 'femman_no2 lejonet_globrad', 'lejonet_winddir mobil3_no2', 'mobil1_no2 mobil3_no2', 'mobil1_no2', 'femman_temp lejonet_winddir', 'mobil2_nox', 'lejonet_airpressure lejonet_winddir', 'femman_winddir lejonet_winddir', 'femman_windspeed lejonet_rain', 'lejonet_rain mobil2_nox', 'femman_rain femman_pm10', 'femman_windspeed lejonet_rh', 'femman_nox mobil2_nox', 'femman_winddir', 'femman_windspeed mobil1_pm10', 'haganorra_no2 haganorra_nox', 'haganorra_nox lejonet_winddir', 'femman_winddir lejonet_rh', 'femman_rh femman_airpressure', 'mobil1_no2 mobil2_no2', 'femman_winddir mobil1_nox', 'femman_globrad haganorra_no2', 'lejonet_temp lejonet_winddir', 'haganorra_nox mobil1_no2', 'lejonet_rain', 'femman_rain mobil3_nox', 'femman_rh femman_rain', 'haganorra_no2 mobil2_nox', 'femman_globrad lejonet_rh', 'lejonet_windspeed mobil1_nox', 'haganorra_no2 mobil3_nox', 'femman_globrad lejonet_airpressure', 'femman_rain lejonet_windspeed', 'mobil3_no2^2', 'femman_rh mobil2_nox', 'femman_no2 mobil3_nox', 'femman_rh^2', 'mobil2_nox^2', 'femman_globrad femman_airpressure', 'femman_windspeed mobil1_nox', 'lejonet_airpressure mobil1_nox', 'femman_no2 lejonet_rh', 'femman_rh femman_windspeed', 'mobil3_no2 mobil3_nox', 'femman_globrad femman_rain', 'femman_winddir haganorra_no2', 'mobil1_pm10', 'femman_pm10 lejonet_rain', 'femman_globrad haganorra_nox', 'femman_airpressure haganorra_nox', 'femman_temp lejonet_windspeed', 'mobil3_nox^2', 'lejonet_windspeed mobil1_pm10', 'femman_winddir lejonet_globrad', 'hagasodra_pm10 lejonet_windspeed', 'lejonet_airpressure mobil2_nox', 'femman_windspeed lejonet_globrad', 'mobil1_no2 mobil3_nox', 'femman_rain mobil1_no2', 'femman_globrad^2', 'femman_no2^2', 'mobil1_pm10 mobil3_nox', 'femman_globrad mobil1_nox', 'hagasodra_pm25^2', 'femman_windspeed femman_nox', 'lejonet_globrad mobil2_nox', 'femman_rh mobil1_nox', 'mobil1_nox mobil1_pm10', 'mobil1_nox mobil3_pm10', 'femman_airpressure femman_winddir', 'haganorra_nox', 'lejonet_winddir lejonet_windspeed', 'femman_windspeed femman_rain', 'mobil1_nox mobil2_nox', 'femman_rain lejonet_temp', 'mobil1_no2^2', 'mobil1_nox mobil3_no2', 'mobil2_nox mobil3_nox', 'femman_windspeed mobil1_no2', 'femman_rain mobil2_no2', 'femman_rain lejonet_rh', 'lejonet_rain lejonet_windspeed', 'femman_rain lejonet_airpressure', 'femman_rain mobil2_nox', 'femman_nox mobil2_no2', 'mobil2_nox mobil3_no2', 'femman_airpressure mobil2_nox', 'lejonet_airpressure lejonet_rh', 'lejonet_winddir mobil3_nox', 'femman_globrad femman_winddir', 'mobil2_no2 mobil2_nox', 'femman_no2 mobil3_no2', 'femman_windspeed mobil3_no2', 'haganorra_nox^2', 'femman_airpressure lejonet_rh', 'femman_winddir lejonet_airpressure', 'femman_rh', 'femman_rh mobil1_no2', 'femman_no2 lejonet_winddir', 'femman_winddir lejonet_rain', 'lejonet_globrad lejonet_winddir', 'femman_winddir mobil1_no2', 'femman_airpressure femman_nox', 'femman_rain mobil2_pm25', 'femman_winddir lejonet_temp', 'femman_nox lejonet_windspeed', 'femman_nox haganorra_nox', 'femman_nox lejonet_globrad', 'femman_nox mobil3_nox', 'femman_globrad mobil2_nox', 'mobil1_no2 mobil1_nox', 'femman_rain mobil1_pm10', 'femman_globrad mobil3_pm10', 'femman_windspeed hagasodra_pm25', 'femman_no2 mobil2_nox', 'lejonet_rain mobil3_no2', 'femman_globrad lejonet_temp', 'femman_rain lejonet_rain', 'mobil1_nox', 'femman_winddir femman_no2', 'femman_rain^2', 'lejonet_globrad', 'mobil1_no2 mobil1_pm10', 'lejonet_rain^2', 'hagasodra_pm10 mobil1_nox', 'lejonet_globrad lejonet_windspeed', 'haganorra_no2 lejonet_globrad', 'haganorra_no2 mobil1_pm10', 'femman_nox lejonet_rain', 'lejonet_winddir mobil1_pm10', 'mobil3_pm10^2', 'femman_winddir haganorra_nox', 'lejonet_windspeed mobil3_pm10', 'mobil3_nox mobil3_pm10', 'femman_rain hagasodra_pm25']\n"
     ]
    }
   ],
   "source": [
    "features = polynomial_features(knn_imputer_feature, 2)\n",
    "optimal_model, min_error = k_best_features(features, train_linear_regression, verbose=True)"
   ]
  },
  {
   "cell_type": "code",
   "execution_count": null,
   "id": "d67d0d41-aef4-4fab-aa2b-3ddc29c488ad",
   "metadata": {},
   "outputs": [],
   "source": []
  }
 ],
 "metadata": {
  "kernelspec": {
   "display_name": "Python 3 (ipykernel)",
   "language": "python",
   "name": "python3"
  },
  "language_info": {
   "codemirror_mode": {
    "name": "ipython",
    "version": 3
   },
   "file_extension": ".py",
   "mimetype": "text/x-python",
   "name": "python",
   "nbconvert_exporter": "python",
   "pygments_lexer": "ipython3",
   "version": "3.9.18"
  }
 },
 "nbformat": 4,
 "nbformat_minor": 5
}
