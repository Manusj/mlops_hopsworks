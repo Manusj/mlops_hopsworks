{
 "cells": [
  {
   "cell_type": "code",
   "execution_count": 1,
   "id": "3dee0e6d-72c9-47b3-849b-079e998a668e",
   "metadata": {},
   "outputs": [
    {
     "name": "stdout",
     "output_type": "stream",
     "text": [
      "/Users/manu/Desktop/Projects/ServerlessML/projects/air_quality\n"
     ]
    }
   ],
   "source": [
    "%cd .."
   ]
  },
  {
   "cell_type": "code",
   "execution_count": 2,
   "id": "6d34365d-0580-4071-a7cf-db131fe6bbe4",
   "metadata": {},
   "outputs": [],
   "source": [
    "import hopsworks\n",
    "import datetime\n",
    "from air_pred.utils import data_preprocessing\n",
    "import numpy as np\n",
    "import pandas as pd\n",
    "import datetime"
   ]
  },
  {
   "cell_type": "code",
   "execution_count": 3,
   "id": "25579a1b-0b79-44de-bde3-b79298655ec4",
   "metadata": {},
   "outputs": [
    {
     "name": "stdout",
     "output_type": "stream",
     "text": [
      "Connected. Call `.close()` to terminate connection gracefully.\n",
      "\n",
      "Logged in to project, explore it here https://c.app.hopsworks.ai:443/p/140436\n",
      "Connected. Call `.close()` to terminate connection gracefully.\n"
     ]
    }
   ],
   "source": [
    "project = hopsworks.login(api_key_file=\"api_key\")\n",
    "fs = project.get_feature_store()"
   ]
  },
  {
   "cell_type": "code",
   "execution_count": 4,
   "id": "f6494834-bd6a-4ad0-b9ce-3117f4997551",
   "metadata": {},
   "outputs": [
    {
     "name": "stdout",
     "output_type": "stream",
     "text": [
      "Connected. Call `.close()` to terminate connection gracefully.\n"
     ]
    }
   ],
   "source": [
    "ms = project.get_model_serving()\n",
    "my_deployment = ms.get_deployment('aqtsdeployment')"
   ]
  },
  {
   "cell_type": "code",
   "execution_count": 33,
   "id": "24188a13-6eed-4489-a29c-f92202a8a1f7",
   "metadata": {},
   "outputs": [],
   "source": [
    "ts_fv = fs.get_feature_view(name=\"air_qaulity_timeseries_fv\",version = 2)\n",
    "data_fg = fs.get_feature_group(\"cleaned_air_quality_data\", version=2)"
   ]
  },
  {
   "cell_type": "code",
   "execution_count": 34,
   "id": "59f29efa-4f4e-411d-be05-3ac1ed634eff",
   "metadata": {},
   "outputs": [
    {
     "name": "stdout",
     "output_type": "stream",
     "text": [
      "Finished: Reading data from Hopsworks, using ArrowFlight (1.57s) \n"
     ]
    }
   ],
   "source": [
    "all_data = data_fg.read()"
   ]
  },
  {
   "cell_type": "code",
   "execution_count": 35,
   "id": "0077075d-bb90-4566-9007-ab025d338b98",
   "metadata": {},
   "outputs": [],
   "source": [
    "start_time = all_data.sort_values(\"date_time\").date_time.iloc[-1]"
   ]
  },
  {
   "cell_type": "code",
   "execution_count": 36,
   "id": "f769c410-8c0d-4acb-9420-63103ced356a",
   "metadata": {},
   "outputs": [
    {
     "name": "stdout",
     "output_type": "stream",
     "text": [
      "Finished: Reading data from Hopsworks, using ArrowFlight (0.62s) \n"
     ]
    }
   ],
   "source": [
    "predication_features = ts_fv.get_batch_data(start_time=start_time-datetime.timedelta(hours=24))"
   ]
  },
  {
   "cell_type": "code",
   "execution_count": 45,
   "id": "99479fc4-9c60-4841-874b-f21a6289d0bb",
   "metadata": {},
   "outputs": [
    {
     "name": "stdout",
     "output_type": "stream",
     "text": [
      "[3.06207837 3.7606165  3.40029699 4.52294129 4.45329394 5.52203595\n",
      " 6.06127051 7.03223909 5.9876374  5.23622961 4.95645628 6.43668204\n",
      " 4.97428488 4.23920786 4.83867856 3.52190196 3.23766335 2.99644648\n",
      " 3.0312287  3.75146685 3.04474497 2.94294845 2.38304028 2.53380385]\n",
      "0    -0.657416\n",
      "1    -0.771349\n",
      "2    -0.724900\n",
      "3     2.288130\n",
      "4     2.998300\n",
      "5     2.417070\n",
      "6     1.792730\n",
      "7     0.246067\n",
      "8     1.441470\n",
      "9    -1.007580\n",
      "10    1.448030\n",
      "11    1.514270\n",
      "12    1.612050\n",
      "13    0.236350\n",
      "14    3.449850\n",
      "15    1.200470\n",
      "16    3.745240\n",
      "17    3.357650\n",
      "18    0.166367\n",
      "19    1.249870\n",
      "20    2.369700\n",
      "21    0.913733\n",
      "22    0.249717\n",
      "23    2.526370\n",
      "Name: femman_pm25, dtype: float64\n"
     ]
    }
   ],
   "source": [
    "prev_24_hours = predication_features[(predication_features.date_time>start_time-datetime.timedelta(hours=24)) & (predication_features.date_time<=start_time)].sort_values('date_time').reset_index()\n",
    "prev_24_hours_features = prev_24_hours[[\"prev_day\", \"prev_week\"]].to_numpy().tolist()\n",
    "predicted_prev_24_hours = np.array([my_deployment.predict(inputs=[feature])[\"predictions\"] for feature in prev_24_hours_features])\n",
    "actual_prev_24_hours = all_data[(all_data.date_time>start_time-datetime.timedelta(hours=24)) & (all_data.date_time<=start_time)].sort_values('date_time').reset_index()\n",
    "predicted_prev_24_hours = predicted_prev_24_hours.squeeze()"
   ]
  },
  {
   "cell_type": "code",
   "execution_count": 47,
   "id": "a4632449-857b-4506-a0ce-cb3859b9a39d",
   "metadata": {},
   "outputs": [
    {
     "data": {
      "application/vnd.plotly.v1+json": {
       "config": {
        "plotlyServerURL": "https://plot.ly"
       },
       "data": [
        {
         "mode": "markers",
         "name": "Predicated femman_pm25",
         "type": "scatter",
         "x": [
          "2023-10-31T07:00:00+00:00",
          "2023-10-31T08:00:00+00:00",
          "2023-10-31T09:00:00+00:00",
          "2023-10-31T10:00:00+00:00",
          "2023-10-31T11:00:00+00:00",
          "2023-10-31T12:00:00+00:00",
          "2023-10-31T13:00:00+00:00",
          "2023-10-31T14:00:00+00:00",
          "2023-10-31T15:00:00+00:00",
          "2023-10-31T16:00:00+00:00",
          "2023-10-31T17:00:00+00:00",
          "2023-10-31T18:00:00+00:00",
          "2023-10-31T19:00:00+00:00",
          "2023-10-31T20:00:00+00:00",
          "2023-10-31T21:00:00+00:00",
          "2023-10-31T22:00:00+00:00",
          "2023-10-31T23:00:00+00:00",
          "2023-11-01T00:00:00+00:00",
          "2023-11-01T01:00:00+00:00",
          "2023-11-01T02:00:00+00:00",
          "2023-11-01T03:00:00+00:00",
          "2023-11-01T04:00:00+00:00",
          "2023-11-01T05:00:00+00:00",
          "2023-11-01T06:00:00+00:00"
         ],
         "y": [
          3.0620783660637345,
          3.76061650392277,
          3.400296992021831,
          4.522941293993181,
          4.453293938840112,
          5.522035952421106,
          6.061270513618742,
          7.032239091493503,
          5.987637400603294,
          5.236229606864558,
          4.956456283176124,
          6.436682035157032,
          4.974284878432818,
          4.239207863261365,
          4.838678560242041,
          3.52190195851753,
          3.2376633458168373,
          2.996446479896954,
          3.0312286973819176,
          3.751466851115915,
          3.044744974480052,
          2.9429484498015985,
          2.383040281292832,
          2.533803847339564
         ]
        },
        {
         "mode": "markers",
         "name": "Actual femman_pm25",
         "type": "scatter",
         "x": [
          "2023-10-31T07:00:00+00:00",
          "2023-10-31T08:00:00+00:00",
          "2023-10-31T09:00:00+00:00",
          "2023-10-31T10:00:00+00:00",
          "2023-10-31T11:00:00+00:00",
          "2023-10-31T12:00:00+00:00",
          "2023-10-31T13:00:00+00:00",
          "2023-10-31T14:00:00+00:00",
          "2023-10-31T15:00:00+00:00",
          "2023-10-31T16:00:00+00:00",
          "2023-10-31T17:00:00+00:00",
          "2023-10-31T18:00:00+00:00",
          "2023-10-31T19:00:00+00:00",
          "2023-10-31T20:00:00+00:00",
          "2023-10-31T21:00:00+00:00",
          "2023-10-31T22:00:00+00:00",
          "2023-10-31T23:00:00+00:00",
          "2023-11-01T00:00:00+00:00",
          "2023-11-01T01:00:00+00:00",
          "2023-11-01T02:00:00+00:00",
          "2023-11-01T03:00:00+00:00",
          "2023-11-01T04:00:00+00:00",
          "2023-11-01T05:00:00+00:00",
          "2023-11-01T06:00:00+00:00"
         ],
         "y": [
          -0.657416,
          -0.771349,
          -0.7249,
          2.28813,
          2.9983,
          2.41707,
          1.79273,
          0.246067,
          1.44147,
          -1.00758,
          1.44803,
          1.51427,
          1.61205,
          0.23635,
          3.44985,
          1.20047,
          3.74524,
          3.35765,
          0.166367,
          1.24987,
          2.3697,
          0.913733,
          0.249717,
          2.52637
         ]
        }
       ],
       "layout": {
        "autosize": true,
        "template": {
         "data": {
          "bar": [
           {
            "error_x": {
             "color": "#2a3f5f"
            },
            "error_y": {
             "color": "#2a3f5f"
            },
            "marker": {
             "line": {
              "color": "#E5ECF6",
              "width": 0.5
             },
             "pattern": {
              "fillmode": "overlay",
              "size": 10,
              "solidity": 0.2
             }
            },
            "type": "bar"
           }
          ],
          "barpolar": [
           {
            "marker": {
             "line": {
              "color": "#E5ECF6",
              "width": 0.5
             },
             "pattern": {
              "fillmode": "overlay",
              "size": 10,
              "solidity": 0.2
             }
            },
            "type": "barpolar"
           }
          ],
          "carpet": [
           {
            "aaxis": {
             "endlinecolor": "#2a3f5f",
             "gridcolor": "white",
             "linecolor": "white",
             "minorgridcolor": "white",
             "startlinecolor": "#2a3f5f"
            },
            "baxis": {
             "endlinecolor": "#2a3f5f",
             "gridcolor": "white",
             "linecolor": "white",
             "minorgridcolor": "white",
             "startlinecolor": "#2a3f5f"
            },
            "type": "carpet"
           }
          ],
          "choropleth": [
           {
            "colorbar": {
             "outlinewidth": 0,
             "ticks": ""
            },
            "type": "choropleth"
           }
          ],
          "contour": [
           {
            "colorbar": {
             "outlinewidth": 0,
             "ticks": ""
            },
            "colorscale": [
             [
              0,
              "#0d0887"
             ],
             [
              0.1111111111111111,
              "#46039f"
             ],
             [
              0.2222222222222222,
              "#7201a8"
             ],
             [
              0.3333333333333333,
              "#9c179e"
             ],
             [
              0.4444444444444444,
              "#bd3786"
             ],
             [
              0.5555555555555556,
              "#d8576b"
             ],
             [
              0.6666666666666666,
              "#ed7953"
             ],
             [
              0.7777777777777778,
              "#fb9f3a"
             ],
             [
              0.8888888888888888,
              "#fdca26"
             ],
             [
              1,
              "#f0f921"
             ]
            ],
            "type": "contour"
           }
          ],
          "contourcarpet": [
           {
            "colorbar": {
             "outlinewidth": 0,
             "ticks": ""
            },
            "type": "contourcarpet"
           }
          ],
          "heatmap": [
           {
            "colorbar": {
             "outlinewidth": 0,
             "ticks": ""
            },
            "colorscale": [
             [
              0,
              "#0d0887"
             ],
             [
              0.1111111111111111,
              "#46039f"
             ],
             [
              0.2222222222222222,
              "#7201a8"
             ],
             [
              0.3333333333333333,
              "#9c179e"
             ],
             [
              0.4444444444444444,
              "#bd3786"
             ],
             [
              0.5555555555555556,
              "#d8576b"
             ],
             [
              0.6666666666666666,
              "#ed7953"
             ],
             [
              0.7777777777777778,
              "#fb9f3a"
             ],
             [
              0.8888888888888888,
              "#fdca26"
             ],
             [
              1,
              "#f0f921"
             ]
            ],
            "type": "heatmap"
           }
          ],
          "heatmapgl": [
           {
            "colorbar": {
             "outlinewidth": 0,
             "ticks": ""
            },
            "colorscale": [
             [
              0,
              "#0d0887"
             ],
             [
              0.1111111111111111,
              "#46039f"
             ],
             [
              0.2222222222222222,
              "#7201a8"
             ],
             [
              0.3333333333333333,
              "#9c179e"
             ],
             [
              0.4444444444444444,
              "#bd3786"
             ],
             [
              0.5555555555555556,
              "#d8576b"
             ],
             [
              0.6666666666666666,
              "#ed7953"
             ],
             [
              0.7777777777777778,
              "#fb9f3a"
             ],
             [
              0.8888888888888888,
              "#fdca26"
             ],
             [
              1,
              "#f0f921"
             ]
            ],
            "type": "heatmapgl"
           }
          ],
          "histogram": [
           {
            "marker": {
             "pattern": {
              "fillmode": "overlay",
              "size": 10,
              "solidity": 0.2
             }
            },
            "type": "histogram"
           }
          ],
          "histogram2d": [
           {
            "colorbar": {
             "outlinewidth": 0,
             "ticks": ""
            },
            "colorscale": [
             [
              0,
              "#0d0887"
             ],
             [
              0.1111111111111111,
              "#46039f"
             ],
             [
              0.2222222222222222,
              "#7201a8"
             ],
             [
              0.3333333333333333,
              "#9c179e"
             ],
             [
              0.4444444444444444,
              "#bd3786"
             ],
             [
              0.5555555555555556,
              "#d8576b"
             ],
             [
              0.6666666666666666,
              "#ed7953"
             ],
             [
              0.7777777777777778,
              "#fb9f3a"
             ],
             [
              0.8888888888888888,
              "#fdca26"
             ],
             [
              1,
              "#f0f921"
             ]
            ],
            "type": "histogram2d"
           }
          ],
          "histogram2dcontour": [
           {
            "colorbar": {
             "outlinewidth": 0,
             "ticks": ""
            },
            "colorscale": [
             [
              0,
              "#0d0887"
             ],
             [
              0.1111111111111111,
              "#46039f"
             ],
             [
              0.2222222222222222,
              "#7201a8"
             ],
             [
              0.3333333333333333,
              "#9c179e"
             ],
             [
              0.4444444444444444,
              "#bd3786"
             ],
             [
              0.5555555555555556,
              "#d8576b"
             ],
             [
              0.6666666666666666,
              "#ed7953"
             ],
             [
              0.7777777777777778,
              "#fb9f3a"
             ],
             [
              0.8888888888888888,
              "#fdca26"
             ],
             [
              1,
              "#f0f921"
             ]
            ],
            "type": "histogram2dcontour"
           }
          ],
          "mesh3d": [
           {
            "colorbar": {
             "outlinewidth": 0,
             "ticks": ""
            },
            "type": "mesh3d"
           }
          ],
          "parcoords": [
           {
            "line": {
             "colorbar": {
              "outlinewidth": 0,
              "ticks": ""
             }
            },
            "type": "parcoords"
           }
          ],
          "pie": [
           {
            "automargin": true,
            "type": "pie"
           }
          ],
          "scatter": [
           {
            "fillpattern": {
             "fillmode": "overlay",
             "size": 10,
             "solidity": 0.2
            },
            "type": "scatter"
           }
          ],
          "scatter3d": [
           {
            "line": {
             "colorbar": {
              "outlinewidth": 0,
              "ticks": ""
             }
            },
            "marker": {
             "colorbar": {
              "outlinewidth": 0,
              "ticks": ""
             }
            },
            "type": "scatter3d"
           }
          ],
          "scattercarpet": [
           {
            "marker": {
             "colorbar": {
              "outlinewidth": 0,
              "ticks": ""
             }
            },
            "type": "scattercarpet"
           }
          ],
          "scattergeo": [
           {
            "marker": {
             "colorbar": {
              "outlinewidth": 0,
              "ticks": ""
             }
            },
            "type": "scattergeo"
           }
          ],
          "scattergl": [
           {
            "marker": {
             "colorbar": {
              "outlinewidth": 0,
              "ticks": ""
             }
            },
            "type": "scattergl"
           }
          ],
          "scattermapbox": [
           {
            "marker": {
             "colorbar": {
              "outlinewidth": 0,
              "ticks": ""
             }
            },
            "type": "scattermapbox"
           }
          ],
          "scatterpolar": [
           {
            "marker": {
             "colorbar": {
              "outlinewidth": 0,
              "ticks": ""
             }
            },
            "type": "scatterpolar"
           }
          ],
          "scatterpolargl": [
           {
            "marker": {
             "colorbar": {
              "outlinewidth": 0,
              "ticks": ""
             }
            },
            "type": "scatterpolargl"
           }
          ],
          "scatterternary": [
           {
            "marker": {
             "colorbar": {
              "outlinewidth": 0,
              "ticks": ""
             }
            },
            "type": "scatterternary"
           }
          ],
          "surface": [
           {
            "colorbar": {
             "outlinewidth": 0,
             "ticks": ""
            },
            "colorscale": [
             [
              0,
              "#0d0887"
             ],
             [
              0.1111111111111111,
              "#46039f"
             ],
             [
              0.2222222222222222,
              "#7201a8"
             ],
             [
              0.3333333333333333,
              "#9c179e"
             ],
             [
              0.4444444444444444,
              "#bd3786"
             ],
             [
              0.5555555555555556,
              "#d8576b"
             ],
             [
              0.6666666666666666,
              "#ed7953"
             ],
             [
              0.7777777777777778,
              "#fb9f3a"
             ],
             [
              0.8888888888888888,
              "#fdca26"
             ],
             [
              1,
              "#f0f921"
             ]
            ],
            "type": "surface"
           }
          ],
          "table": [
           {
            "cells": {
             "fill": {
              "color": "#EBF0F8"
             },
             "line": {
              "color": "white"
             }
            },
            "header": {
             "fill": {
              "color": "#C8D4E3"
             },
             "line": {
              "color": "white"
             }
            },
            "type": "table"
           }
          ]
         },
         "layout": {
          "annotationdefaults": {
           "arrowcolor": "#2a3f5f",
           "arrowhead": 0,
           "arrowwidth": 1
          },
          "autotypenumbers": "strict",
          "coloraxis": {
           "colorbar": {
            "outlinewidth": 0,
            "ticks": ""
           }
          },
          "colorscale": {
           "diverging": [
            [
             0,
             "#8e0152"
            ],
            [
             0.1,
             "#c51b7d"
            ],
            [
             0.2,
             "#de77ae"
            ],
            [
             0.3,
             "#f1b6da"
            ],
            [
             0.4,
             "#fde0ef"
            ],
            [
             0.5,
             "#f7f7f7"
            ],
            [
             0.6,
             "#e6f5d0"
            ],
            [
             0.7,
             "#b8e186"
            ],
            [
             0.8,
             "#7fbc41"
            ],
            [
             0.9,
             "#4d9221"
            ],
            [
             1,
             "#276419"
            ]
           ],
           "sequential": [
            [
             0,
             "#0d0887"
            ],
            [
             0.1111111111111111,
             "#46039f"
            ],
            [
             0.2222222222222222,
             "#7201a8"
            ],
            [
             0.3333333333333333,
             "#9c179e"
            ],
            [
             0.4444444444444444,
             "#bd3786"
            ],
            [
             0.5555555555555556,
             "#d8576b"
            ],
            [
             0.6666666666666666,
             "#ed7953"
            ],
            [
             0.7777777777777778,
             "#fb9f3a"
            ],
            [
             0.8888888888888888,
             "#fdca26"
            ],
            [
             1,
             "#f0f921"
            ]
           ],
           "sequentialminus": [
            [
             0,
             "#0d0887"
            ],
            [
             0.1111111111111111,
             "#46039f"
            ],
            [
             0.2222222222222222,
             "#7201a8"
            ],
            [
             0.3333333333333333,
             "#9c179e"
            ],
            [
             0.4444444444444444,
             "#bd3786"
            ],
            [
             0.5555555555555556,
             "#d8576b"
            ],
            [
             0.6666666666666666,
             "#ed7953"
            ],
            [
             0.7777777777777778,
             "#fb9f3a"
            ],
            [
             0.8888888888888888,
             "#fdca26"
            ],
            [
             1,
             "#f0f921"
            ]
           ]
          },
          "colorway": [
           "#636efa",
           "#EF553B",
           "#00cc96",
           "#ab63fa",
           "#FFA15A",
           "#19d3f3",
           "#FF6692",
           "#B6E880",
           "#FF97FF",
           "#FECB52"
          ],
          "font": {
           "color": "#2a3f5f"
          },
          "geo": {
           "bgcolor": "white",
           "lakecolor": "white",
           "landcolor": "#E5ECF6",
           "showlakes": true,
           "showland": true,
           "subunitcolor": "white"
          },
          "hoverlabel": {
           "align": "left"
          },
          "hovermode": "closest",
          "mapbox": {
           "style": "light"
          },
          "paper_bgcolor": "white",
          "plot_bgcolor": "#E5ECF6",
          "polar": {
           "angularaxis": {
            "gridcolor": "white",
            "linecolor": "white",
            "ticks": ""
           },
           "bgcolor": "#E5ECF6",
           "radialaxis": {
            "gridcolor": "white",
            "linecolor": "white",
            "ticks": ""
           }
          },
          "scene": {
           "xaxis": {
            "backgroundcolor": "#E5ECF6",
            "gridcolor": "white",
            "gridwidth": 2,
            "linecolor": "white",
            "showbackground": true,
            "ticks": "",
            "zerolinecolor": "white"
           },
           "yaxis": {
            "backgroundcolor": "#E5ECF6",
            "gridcolor": "white",
            "gridwidth": 2,
            "linecolor": "white",
            "showbackground": true,
            "ticks": "",
            "zerolinecolor": "white"
           },
           "zaxis": {
            "backgroundcolor": "#E5ECF6",
            "gridcolor": "white",
            "gridwidth": 2,
            "linecolor": "white",
            "showbackground": true,
            "ticks": "",
            "zerolinecolor": "white"
           }
          },
          "shapedefaults": {
           "line": {
            "color": "#2a3f5f"
           }
          },
          "ternary": {
           "aaxis": {
            "gridcolor": "white",
            "linecolor": "white",
            "ticks": ""
           },
           "baxis": {
            "gridcolor": "white",
            "linecolor": "white",
            "ticks": ""
           },
           "bgcolor": "#E5ECF6",
           "caxis": {
            "gridcolor": "white",
            "linecolor": "white",
            "ticks": ""
           }
          },
          "title": {
           "x": 0.05
          },
          "xaxis": {
           "automargin": true,
           "gridcolor": "white",
           "linecolor": "white",
           "ticks": "",
           "title": {
            "standoff": 15
           },
           "zerolinecolor": "white",
           "zerolinewidth": 2
          },
          "yaxis": {
           "automargin": true,
           "gridcolor": "white",
           "linecolor": "white",
           "ticks": "",
           "title": {
            "standoff": 15
           },
           "zerolinecolor": "white",
           "zerolinewidth": 2
          }
         }
        },
        "xaxis": {
         "autorange": true,
         "range": [
          "2023-10-31 05:33:51.8182",
          "2023-11-01 07:26:08.1818"
         ],
         "type": "date"
        },
        "yaxis": {
         "autorange": true,
         "range": [
          -1.6710602162882986,
          7.695719307781802
         ],
         "type": "linear"
        }
       }
      },
      "image/png": "[encoded data removed]",
      "text/html": [
       "<div>                            <div id=\"3150b7f0-7dd9-4650-84a7-f74ec6238802\" class=\"plotly-graph-div\" style=\"height:525px; width:100%;\"></div>            <script type=\"text/javascript\">                require([\"plotly\"], function(Plotly) {                    window.PLOTLYENV=window.PLOTLYENV || {};                                    if (document.getElementById(\"3150b7f0-7dd9-4650-84a7-f74ec6238802\")) {                    Plotly.newPlot(                        \"3150b7f0-7dd9-4650-84a7-f74ec6238802\",                        [{\"mode\":\"markers\",\"name\":\"Predicated femman_pm25\",\"x\":[\"2023-10-31T07:00:00+00:00\",\"2023-10-31T08:00:00+00:00\",\"2023-10-31T09:00:00+00:00\",\"2023-10-31T10:00:00+00:00\",\"2023-10-31T11:00:00+00:00\",\"2023-10-31T12:00:00+00:00\",\"2023-10-31T13:00:00+00:00\",\"2023-10-31T14:00:00+00:00\",\"2023-10-31T15:00:00+00:00\",\"2023-10-31T16:00:00+00:00\",\"2023-10-31T17:00:00+00:00\",\"2023-10-31T18:00:00+00:00\",\"2023-10-31T19:00:00+00:00\",\"2023-10-31T20:00:00+00:00\",\"2023-10-31T21:00:00+00:00\",\"2023-10-31T22:00:00+00:00\",\"2023-10-31T23:00:00+00:00\",\"2023-11-01T00:00:00+00:00\",\"2023-11-01T01:00:00+00:00\",\"2023-11-01T02:00:00+00:00\",\"2023-11-01T03:00:00+00:00\",\"2023-11-01T04:00:00+00:00\",\"2023-11-01T05:00:00+00:00\",\"2023-11-01T06:00:00+00:00\"],\"y\":[3.0620783660637345,3.76061650392277,3.400296992021831,4.522941293993181,4.453293938840112,5.522035952421106,6.061270513618742,7.032239091493503,5.987637400603294,5.236229606864558,4.956456283176124,6.436682035157032,4.974284878432818,4.239207863261365,4.838678560242041,3.52190195851753,3.2376633458168373,2.996446479896954,3.0312286973819176,3.751466851115915,3.044744974480052,2.9429484498015985,2.383040281292832,2.533803847339564],\"type\":\"scatter\"},{\"mode\":\"markers\",\"name\":\"Actual femman_pm25\",\"x\":[\"2023-10-31T07:00:00+00:00\",\"2023-10-31T08:00:00+00:00\",\"2023-10-31T09:00:00+00:00\",\"2023-10-31T10:00:00+00:00\",\"2023-10-31T11:00:00+00:00\",\"2023-10-31T12:00:00+00:00\",\"2023-10-31T13:00:00+00:00\",\"2023-10-31T14:00:00+00:00\",\"2023-10-31T15:00:00+00:00\",\"2023-10-31T16:00:00+00:00\",\"2023-10-31T17:00:00+00:00\",\"2023-10-31T18:00:00+00:00\",\"2023-10-31T19:00:00+00:00\",\"2023-10-31T20:00:00+00:00\",\"2023-10-31T21:00:00+00:00\",\"2023-10-31T22:00:00+00:00\",\"2023-10-31T23:00:00+00:00\",\"2023-11-01T00:00:00+00:00\",\"2023-11-01T01:00:00+00:00\",\"2023-11-01T02:00:00+00:00\",\"2023-11-01T03:00:00+00:00\",\"2023-11-01T04:00:00+00:00\",\"2023-11-01T05:00:00+00:00\",\"2023-11-01T06:00:00+00:00\"],\"y\":[-0.657416,-0.771349,-0.7249,2.28813,2.9983,2.41707,1.79273,0.246067,1.44147,-1.00758,1.44803,1.51427,1.61205,0.23635,3.44985,1.20047,3.74524,3.35765,0.166367,1.24987,2.3697,0.913733,0.249717,2.52637],\"type\":\"scatter\"}],                        {\"template\":{\"data\":{\"histogram2dcontour\":[{\"type\":\"histogram2dcontour\",\"colorbar\":{\"outlinewidth\":0,\"ticks\":\"\"},\"colorscale\":[[0.0,\"#0d0887\"],[0.1111111111111111,\"#46039f\"],[0.2222222222222222,\"#7201a8\"],[0.3333333333333333,\"#9c179e\"],[0.4444444444444444,\"#bd3786\"],[0.5555555555555556,\"#d8576b\"],[0.6666666666666666,\"#ed7953\"],[0.7777777777777778,\"#fb9f3a\"],[0.8888888888888888,\"#fdca26\"],[1.0,\"#f0f921\"]]}],\"choropleth\":[{\"type\":\"choropleth\",\"colorbar\":{\"outlinewidth\":0,\"ticks\":\"\"}}],\"histogram2d\":[{\"type\":\"histogram2d\",\"colorbar\":{\"outlinewidth\":0,\"ticks\":\"\"},\"colorscale\":[[0.0,\"#0d0887\"],[0.1111111111111111,\"#46039f\"],[0.2222222222222222,\"#7201a8\"],[0.3333333333333333,\"#9c179e\"],[0.4444444444444444,\"#bd3786\"],[0.5555555555555556,\"#d8576b\"],[0.6666666666666666,\"#ed7953\"],[0.7777777777777778,\"#fb9f3a\"],[0.8888888888888888,\"#fdca26\"],[1.0,\"#f0f921\"]]}],\"heatmap\":[{\"type\":\"heatmap\",\"colorbar\":{\"outlinewidth\":0,\"ticks\":\"\"},\"colorscale\":[[0.0,\"#0d0887\"],[0.1111111111111111,\"#46039f\"],[0.2222222222222222,\"#7201a8\"],[0.3333333333333333,\"#9c179e\"],[0.4444444444444444,\"#bd3786\"],[0.5555555555555556,\"#d8576b\"],[0.6666666666666666,\"#ed7953\"],[0.7777777777777778,\"#fb9f3a\"],[0.8888888888888888,\"#fdca26\"],[1.0,\"#f0f921\"]]}],\"heatmapgl\":[{\"type\":\"heatmapgl\",\"colorbar\":{\"outlinewidth\":0,\"ticks\":\"\"},\"colorscale\":[[0.0,\"#0d0887\"],[0.1111111111111111,\"#46039f\"],[0.2222222222222222,\"#7201a8\"],[0.3333333333333333,\"#9c179e\"],[0.4444444444444444,\"#bd3786\"],[0.5555555555555556,\"#d8576b\"],[0.6666666666666666,\"#ed7953\"],[0.7777777777777778,\"#fb9f3a\"],[0.8888888888888888,\"#fdca26\"],[1.0,\"#f0f921\"]]}],\"contourcarpet\":[{\"type\":\"contourcarpet\",\"colorbar\":{\"outlinewidth\":0,\"ticks\":\"\"}}],\"contour\":[{\"type\":\"contour\",\"colorbar\":{\"outlinewidth\":0,\"ticks\":\"\"},\"colorscale\":[[0.0,\"#0d0887\"],[0.1111111111111111,\"#46039f\"],[0.2222222222222222,\"#7201a8\"],[0.3333333333333333,\"#9c179e\"],[0.4444444444444444,\"#bd3786\"],[0.5555555555555556,\"#d8576b\"],[0.6666666666666666,\"#ed7953\"],[0.7777777777777778,\"#fb9f3a\"],[0.8888888888888888,\"#fdca26\"],[1.0,\"#f0f921\"]]}],\"surface\":[{\"type\":\"surface\",\"colorbar\":{\"outlinewidth\":0,\"ticks\":\"\"},\"colorscale\":[[0.0,\"#0d0887\"],[0.1111111111111111,\"#46039f\"],[0.2222222222222222,\"#7201a8\"],[0.3333333333333333,\"#9c179e\"],[0.4444444444444444,\"#bd3786\"],[0.5555555555555556,\"#d8576b\"],[0.6666666666666666,\"#ed7953\"],[0.7777777777777778,\"#fb9f3a\"],[0.8888888888888888,\"#fdca26\"],[1.0,\"#f0f921\"]]}],\"mesh3d\":[{\"type\":\"mesh3d\",\"colorbar\":{\"outlinewidth\":0,\"ticks\":\"\"}}],\"scatter\":[{\"fillpattern\":{\"fillmode\":\"overlay\",\"size\":10,\"solidity\":0.2},\"type\":\"scatter\"}],\"parcoords\":[{\"type\":\"parcoords\",\"line\":{\"colorbar\":{\"outlinewidth\":0,\"ticks\":\"\"}}}],\"scatterpolargl\":[{\"type\":\"scatterpolargl\",\"marker\":{\"colorbar\":{\"outlinewidth\":0,\"ticks\":\"\"}}}],\"bar\":[{\"error_x\":{\"color\":\"#2a3f5f\"},\"error_y\":{\"color\":\"#2a3f5f\"},\"marker\":{\"line\":{\"color\":\"#E5ECF6\",\"width\":0.5},\"pattern\":{\"fillmode\":\"overlay\",\"size\":10,\"solidity\":0.2}},\"type\":\"bar\"}],\"scattergeo\":[{\"type\":\"scattergeo\",\"marker\":{\"colorbar\":{\"outlinewidth\":0,\"ticks\":\"\"}}}],\"scatterpolar\":[{\"type\":\"scatterpolar\",\"marker\":{\"colorbar\":{\"outlinewidth\":0,\"ticks\":\"\"}}}],\"histogram\":[{\"marker\":{\"pattern\":{\"fillmode\":\"overlay\",\"size\":10,\"solidity\":0.2}},\"type\":\"histogram\"}],\"scattergl\":[{\"type\":\"scattergl\",\"marker\":{\"colorbar\":{\"outlinewidth\":0,\"ticks\":\"\"}}}],\"scatter3d\":[{\"type\":\"scatter3d\",\"line\":{\"colorbar\":{\"outlinewidth\":0,\"ticks\":\"\"}},\"marker\":{\"colorbar\":{\"outlinewidth\":0,\"ticks\":\"\"}}}],\"scattermapbox\":[{\"type\":\"scattermapbox\",\"marker\":{\"colorbar\":{\"outlinewidth\":0,\"ticks\":\"\"}}}],\"scatterternary\":[{\"type\":\"scatterternary\",\"marker\":{\"colorbar\":{\"outlinewidth\":0,\"ticks\":\"\"}}}],\"scattercarpet\":[{\"type\":\"scattercarpet\",\"marker\":{\"colorbar\":{\"outlinewidth\":0,\"ticks\":\"\"}}}],\"carpet\":[{\"aaxis\":{\"endlinecolor\":\"#2a3f5f\",\"gridcolor\":\"white\",\"linecolor\":\"white\",\"minorgridcolor\":\"white\",\"startlinecolor\":\"#2a3f5f\"},\"baxis\":{\"endlinecolor\":\"#2a3f5f\",\"gridcolor\":\"white\",\"linecolor\":\"white\",\"minorgridcolor\":\"white\",\"startlinecolor\":\"#2a3f5f\"},\"type\":\"carpet\"}],\"table\":[{\"cells\":{\"fill\":{\"color\":\"#EBF0F8\"},\"line\":{\"color\":\"white\"}},\"header\":{\"fill\":{\"color\":\"#C8D4E3\"},\"line\":{\"color\":\"white\"}},\"type\":\"table\"}],\"barpolar\":[{\"marker\":{\"line\":{\"color\":\"#E5ECF6\",\"width\":0.5},\"pattern\":{\"fillmode\":\"overlay\",\"size\":10,\"solidity\":0.2}},\"type\":\"barpolar\"}],\"pie\":[{\"automargin\":true,\"type\":\"pie\"}]},\"layout\":{\"autotypenumbers\":\"strict\",\"colorway\":[\"#636efa\",\"#EF553B\",\"#00cc96\",\"#ab63fa\",\"#FFA15A\",\"#19d3f3\",\"#FF6692\",\"#B6E880\",\"#FF97FF\",\"#FECB52\"],\"font\":{\"color\":\"#2a3f5f\"},\"hovermode\":\"closest\",\"hoverlabel\":{\"align\":\"left\"},\"paper_bgcolor\":\"white\",\"plot_bgcolor\":\"#E5ECF6\",\"polar\":{\"bgcolor\":\"#E5ECF6\",\"angularaxis\":{\"gridcolor\":\"white\",\"linecolor\":\"white\",\"ticks\":\"\"},\"radialaxis\":{\"gridcolor\":\"white\",\"linecolor\":\"white\",\"ticks\":\"\"}},\"ternary\":{\"bgcolor\":\"#E5ECF6\",\"aaxis\":{\"gridcolor\":\"white\",\"linecolor\":\"white\",\"ticks\":\"\"},\"baxis\":{\"gridcolor\":\"white\",\"linecolor\":\"white\",\"ticks\":\"\"},\"caxis\":{\"gridcolor\":\"white\",\"linecolor\":\"white\",\"ticks\":\"\"}},\"coloraxis\":{\"colorbar\":{\"outlinewidth\":0,\"ticks\":\"\"}},\"colorscale\":{\"sequential\":[[0.0,\"#0d0887\"],[0.1111111111111111,\"#46039f\"],[0.2222222222222222,\"#7201a8\"],[0.3333333333333333,\"#9c179e\"],[0.4444444444444444,\"#bd3786\"],[0.5555555555555556,\"#d8576b\"],[0.6666666666666666,\"#ed7953\"],[0.7777777777777778,\"#fb9f3a\"],[0.8888888888888888,\"#fdca26\"],[1.0,\"#f0f921\"]],\"sequentialminus\":[[0.0,\"#0d0887\"],[0.1111111111111111,\"#46039f\"],[0.2222222222222222,\"#7201a8\"],[0.3333333333333333,\"#9c179e\"],[0.4444444444444444,\"#bd3786\"],[0.5555555555555556,\"#d8576b\"],[0.6666666666666666,\"#ed7953\"],[0.7777777777777778,\"#fb9f3a\"],[0.8888888888888888,\"#fdca26\"],[1.0,\"#f0f921\"]],\"diverging\":[[0,\"#8e0152\"],[0.1,\"#c51b7d\"],[0.2,\"#de77ae\"],[0.3,\"#f1b6da\"],[0.4,\"#fde0ef\"],[0.5,\"#f7f7f7\"],[0.6,\"#e6f5d0\"],[0.7,\"#b8e186\"],[0.8,\"#7fbc41\"],[0.9,\"#4d9221\"],[1,\"#276419\"]]},\"xaxis\":{\"gridcolor\":\"white\",\"linecolor\":\"white\",\"ticks\":\"\",\"title\":{\"standoff\":15},\"zerolinecolor\":\"white\",\"automargin\":true,\"zerolinewidth\":2},\"yaxis\":{\"gridcolor\":\"white\",\"linecolor\":\"white\",\"ticks\":\"\",\"title\":{\"standoff\":15},\"zerolinecolor\":\"white\",\"automargin\":true,\"zerolinewidth\":2},\"scene\":{\"xaxis\":{\"backgroundcolor\":\"#E5ECF6\",\"gridcolor\":\"white\",\"linecolor\":\"white\",\"showbackground\":true,\"ticks\":\"\",\"zerolinecolor\":\"white\",\"gridwidth\":2},\"yaxis\":{\"backgroundcolor\":\"#E5ECF6\",\"gridcolor\":\"white\",\"linecolor\":\"white\",\"showbackground\":true,\"ticks\":\"\",\"zerolinecolor\":\"white\",\"gridwidth\":2},\"zaxis\":{\"backgroundcolor\":\"#E5ECF6\",\"gridcolor\":\"white\",\"linecolor\":\"white\",\"showbackground\":true,\"ticks\":\"\",\"zerolinecolor\":\"white\",\"gridwidth\":2}},\"shapedefaults\":{\"line\":{\"color\":\"#2a3f5f\"}},\"annotationdefaults\":{\"arrowcolor\":\"#2a3f5f\",\"arrowhead\":0,\"arrowwidth\":1},\"geo\":{\"bgcolor\":\"white\",\"landcolor\":\"#E5ECF6\",\"subunitcolor\":\"white\",\"showland\":true,\"showlakes\":true,\"lakecolor\":\"white\"},\"title\":{\"x\":0.05},\"mapbox\":{\"style\":\"light\"}}}},                        {\"responsive\": true}                    ).then(function(){\n",
       "                            \n",
       "var gd = document.getElementById('3150b7f0-7dd9-4650-84a7-f74ec6238802');\n",
       "var x = new MutationObserver(function (mutations, observer) {{\n",
       "        var display = window.getComputedStyle(gd).display;\n",
       "        if (!display || display === 'none') {{\n",
       "            console.log([gd, 'removed!']);\n",
       "            Plotly.purge(gd);\n",
       "            observer.disconnect();\n",
       "        }}\n",
       "}});\n",
       "\n",
       "// Listen for the removal of the full notebook cells\n",
       "var notebookContainer = gd.closest('#notebook-container');\n",
       "if (notebookContainer) {{\n",
       "    x.observe(notebookContainer, {childList: true});\n",
       "}}\n",
       "\n",
       "// Listen for the clearing of the current output cell\n",
       "var outputEl = gd.closest('.output');\n",
       "if (outputEl) {{\n",
       "    x.observe(outputEl, {childList: true});\n",
       "}}\n",
       "\n",
       "                        })                };                });            </script>        </div>"
      ]
     },
     "metadata": {},
     "output_type": "display_data"
    }
   ],
   "source": [
    "import plotly.graph_objects as go\n",
    "fig = go.Figure()\n",
    "\n",
    "# Add traces\n",
    "fig.add_trace(go.Scatter(x=prev_24_hours.date_time, y=predicted_prev_24_hours,\n",
    "                    mode='markers',\n",
    "                    name='Predicated femman_pm25'))\n",
    "fig.add_trace(go.Scatter(x=prev_24_hours.date_time, y=actual_prev_24_hours.femman_pm25,\n",
    "                    mode='markers',\n",
    "                    name='Actual femman_pm25'))\n",
    "\n",
    "fig.show()"
   ]
  },
  {
   "cell_type": "code",
   "execution_count": 48,
   "id": "df124f81-0111-4ce8-8224-895d8a70562e",
   "metadata": {},
   "outputs": [
    {
     "data": {
      "text/html": [
       "<div>\n",
       "<style scoped>\n",
       "    .dataframe tbody tr th:only-of-type {\n",
       "        vertical-align: middle;\n",
       "    }\n",
       "\n",
       "    .dataframe tbody tr th {\n",
       "        vertical-align: top;\n",
       "    }\n",
       "\n",
       "    .dataframe thead th {\n",
       "        text-align: right;\n",
       "    }\n",
       "</style>\n",
       "<table border=\"1\" class=\"dataframe\">\n",
       "  <thead>\n",
       "    <tr style=\"text-align: right;\">\n",
       "      <th></th>\n",
       "      <th>index</th>\n",
       "      <th>date_time</th>\n",
       "      <th>date_time_str</th>\n",
       "      <th>prev_day</th>\n",
       "      <th>prev_week</th>\n",
       "    </tr>\n",
       "  </thead>\n",
       "  <tbody>\n",
       "    <tr>\n",
       "      <th>0</th>\n",
       "      <td>31</td>\n",
       "      <td>2023-11-01 07:00:00+00:00</td>\n",
       "      <td>2023-11-01 07:00:00</td>\n",
       "      <td>-0.657416</td>\n",
       "      <td>0.924400</td>\n",
       "    </tr>\n",
       "    <tr>\n",
       "      <th>1</th>\n",
       "      <td>29</td>\n",
       "      <td>2023-11-01 08:00:00+00:00</td>\n",
       "      <td>2023-11-01 08:00:00</td>\n",
       "      <td>-0.771349</td>\n",
       "      <td>2.371950</td>\n",
       "    </tr>\n",
       "    <tr>\n",
       "      <th>2</th>\n",
       "      <td>20</td>\n",
       "      <td>2023-11-01 09:00:00+00:00</td>\n",
       "      <td>2023-11-01 09:00:00</td>\n",
       "      <td>-0.724900</td>\n",
       "      <td>2.255520</td>\n",
       "    </tr>\n",
       "    <tr>\n",
       "      <th>3</th>\n",
       "      <td>32</td>\n",
       "      <td>2023-11-01 10:00:00+00:00</td>\n",
       "      <td>2023-11-01 10:00:00</td>\n",
       "      <td>2.288130</td>\n",
       "      <td>4.154320</td>\n",
       "    </tr>\n",
       "    <tr>\n",
       "      <th>4</th>\n",
       "      <td>22</td>\n",
       "      <td>2023-11-01 11:00:00+00:00</td>\n",
       "      <td>2023-11-01 11:00:00</td>\n",
       "      <td>2.998300</td>\n",
       "      <td>2.208050</td>\n",
       "    </tr>\n",
       "    <tr>\n",
       "      <th>5</th>\n",
       "      <td>41</td>\n",
       "      <td>2023-11-01 12:00:00+00:00</td>\n",
       "      <td>2023-11-01 12:00:00</td>\n",
       "      <td>2.417070</td>\n",
       "      <td>3.310600</td>\n",
       "    </tr>\n",
       "    <tr>\n",
       "      <th>6</th>\n",
       "      <td>42</td>\n",
       "      <td>2023-11-01 13:00:00+00:00</td>\n",
       "      <td>2023-11-01 13:00:00</td>\n",
       "      <td>1.792730</td>\n",
       "      <td>3.190380</td>\n",
       "    </tr>\n",
       "    <tr>\n",
       "      <th>7</th>\n",
       "      <td>17</td>\n",
       "      <td>2023-11-01 14:00:00+00:00</td>\n",
       "      <td>2023-11-01 14:00:00</td>\n",
       "      <td>0.246067</td>\n",
       "      <td>2.880380</td>\n",
       "    </tr>\n",
       "    <tr>\n",
       "      <th>8</th>\n",
       "      <td>38</td>\n",
       "      <td>2023-11-01 15:00:00+00:00</td>\n",
       "      <td>2023-11-01 15:00:00</td>\n",
       "      <td>1.441470</td>\n",
       "      <td>2.167270</td>\n",
       "    </tr>\n",
       "    <tr>\n",
       "      <th>9</th>\n",
       "      <td>43</td>\n",
       "      <td>2023-11-01 16:00:00+00:00</td>\n",
       "      <td>2023-11-01 16:00:00</td>\n",
       "      <td>-1.007580</td>\n",
       "      <td>2.994340</td>\n",
       "    </tr>\n",
       "    <tr>\n",
       "      <th>10</th>\n",
       "      <td>44</td>\n",
       "      <td>2023-11-01 17:00:00+00:00</td>\n",
       "      <td>2023-11-01 17:00:00</td>\n",
       "      <td>1.448030</td>\n",
       "      <td>2.842140</td>\n",
       "    </tr>\n",
       "    <tr>\n",
       "      <th>11</th>\n",
       "      <td>30</td>\n",
       "      <td>2023-11-01 18:00:00+00:00</td>\n",
       "      <td>2023-11-01 18:00:00</td>\n",
       "      <td>1.514270</td>\n",
       "      <td>-1.781620</td>\n",
       "    </tr>\n",
       "    <tr>\n",
       "      <th>12</th>\n",
       "      <td>33</td>\n",
       "      <td>2023-11-01 19:00:00+00:00</td>\n",
       "      <td>2023-11-01 19:00:00</td>\n",
       "      <td>1.612050</td>\n",
       "      <td>0.485700</td>\n",
       "    </tr>\n",
       "    <tr>\n",
       "      <th>13</th>\n",
       "      <td>47</td>\n",
       "      <td>2023-11-01 20:00:00+00:00</td>\n",
       "      <td>2023-11-01 20:00:00</td>\n",
       "      <td>0.236350</td>\n",
       "      <td>0.489717</td>\n",
       "    </tr>\n",
       "    <tr>\n",
       "      <th>14</th>\n",
       "      <td>36</td>\n",
       "      <td>2023-11-01 21:00:00+00:00</td>\n",
       "      <td>2023-11-01 21:00:00</td>\n",
       "      <td>3.449850</td>\n",
       "      <td>2.522400</td>\n",
       "    </tr>\n",
       "    <tr>\n",
       "      <th>15</th>\n",
       "      <td>24</td>\n",
       "      <td>2023-11-01 22:00:00+00:00</td>\n",
       "      <td>2023-11-01 22:00:00</td>\n",
       "      <td>1.200470</td>\n",
       "      <td>3.692300</td>\n",
       "    </tr>\n",
       "    <tr>\n",
       "      <th>16</th>\n",
       "      <td>27</td>\n",
       "      <td>2023-11-01 23:00:00+00:00</td>\n",
       "      <td>2023-11-01 23:00:00</td>\n",
       "      <td>3.745240</td>\n",
       "      <td>2.303300</td>\n",
       "    </tr>\n",
       "    <tr>\n",
       "      <th>17</th>\n",
       "      <td>28</td>\n",
       "      <td>2023-11-02 00:00:00+00:00</td>\n",
       "      <td>2023-11-02 00:00:00</td>\n",
       "      <td>3.357650</td>\n",
       "      <td>-0.272250</td>\n",
       "    </tr>\n",
       "    <tr>\n",
       "      <th>18</th>\n",
       "      <td>35</td>\n",
       "      <td>2023-11-02 01:00:00+00:00</td>\n",
       "      <td>2023-11-02 01:00:00</td>\n",
       "      <td>0.166367</td>\n",
       "      <td>0.809283</td>\n",
       "    </tr>\n",
       "    <tr>\n",
       "      <th>19</th>\n",
       "      <td>45</td>\n",
       "      <td>2023-11-02 02:00:00+00:00</td>\n",
       "      <td>2023-11-02 02:00:00</td>\n",
       "      <td>1.249870</td>\n",
       "      <td>2.700470</td>\n",
       "    </tr>\n",
       "    <tr>\n",
       "      <th>20</th>\n",
       "      <td>46</td>\n",
       "      <td>2023-11-02 03:00:00+00:00</td>\n",
       "      <td>2023-11-02 03:00:00</td>\n",
       "      <td>2.369700</td>\n",
       "      <td>-0.520650</td>\n",
       "    </tr>\n",
       "    <tr>\n",
       "      <th>21</th>\n",
       "      <td>39</td>\n",
       "      <td>2023-11-02 04:00:00+00:00</td>\n",
       "      <td>2023-11-02 04:00:00</td>\n",
       "      <td>0.913733</td>\n",
       "      <td>-2.822010</td>\n",
       "    </tr>\n",
       "    <tr>\n",
       "      <th>22</th>\n",
       "      <td>37</td>\n",
       "      <td>2023-11-02 05:00:00+00:00</td>\n",
       "      <td>2023-11-02 05:00:00</td>\n",
       "      <td>0.249717</td>\n",
       "      <td>0.754500</td>\n",
       "    </tr>\n",
       "    <tr>\n",
       "      <th>23</th>\n",
       "      <td>16</td>\n",
       "      <td>2023-11-02 06:00:00+00:00</td>\n",
       "      <td>2023-11-02 06:00:00</td>\n",
       "      <td>2.526370</td>\n",
       "      <td>1.988650</td>\n",
       "    </tr>\n",
       "  </tbody>\n",
       "</table>\n",
       "</div>"
      ],
      "text/plain": [
       "    index                 date_time        date_time_str  prev_day  prev_week\n",
       "0      31 2023-11-01 07:00:00+00:00  2023-11-01 07:00:00 -0.657416   0.924400\n",
       "1      29 2023-11-01 08:00:00+00:00  2023-11-01 08:00:00 -0.771349   2.371950\n",
       "2      20 2023-11-01 09:00:00+00:00  2023-11-01 09:00:00 -0.724900   2.255520\n",
       "3      32 2023-11-01 10:00:00+00:00  2023-11-01 10:00:00  2.288130   4.154320\n",
       "4      22 2023-11-01 11:00:00+00:00  2023-11-01 11:00:00  2.998300   2.208050\n",
       "5      41 2023-11-01 12:00:00+00:00  2023-11-01 12:00:00  2.417070   3.310600\n",
       "6      42 2023-11-01 13:00:00+00:00  2023-11-01 13:00:00  1.792730   3.190380\n",
       "7      17 2023-11-01 14:00:00+00:00  2023-11-01 14:00:00  0.246067   2.880380\n",
       "8      38 2023-11-01 15:00:00+00:00  2023-11-01 15:00:00  1.441470   2.167270\n",
       "9      43 2023-11-01 16:00:00+00:00  2023-11-01 16:00:00 -1.007580   2.994340\n",
       "10     44 2023-11-01 17:00:00+00:00  2023-11-01 17:00:00  1.448030   2.842140\n",
       "11     30 2023-11-01 18:00:00+00:00  2023-11-01 18:00:00  1.514270  -1.781620\n",
       "12     33 2023-11-01 19:00:00+00:00  2023-11-01 19:00:00  1.612050   0.485700\n",
       "13     47 2023-11-01 20:00:00+00:00  2023-11-01 20:00:00  0.236350   0.489717\n",
       "14     36 2023-11-01 21:00:00+00:00  2023-11-01 21:00:00  3.449850   2.522400\n",
       "15     24 2023-11-01 22:00:00+00:00  2023-11-01 22:00:00  1.200470   3.692300\n",
       "16     27 2023-11-01 23:00:00+00:00  2023-11-01 23:00:00  3.745240   2.303300\n",
       "17     28 2023-11-02 00:00:00+00:00  2023-11-02 00:00:00  3.357650  -0.272250\n",
       "18     35 2023-11-02 01:00:00+00:00  2023-11-02 01:00:00  0.166367   0.809283\n",
       "19     45 2023-11-02 02:00:00+00:00  2023-11-02 02:00:00  1.249870   2.700470\n",
       "20     46 2023-11-02 03:00:00+00:00  2023-11-02 03:00:00  2.369700  -0.520650\n",
       "21     39 2023-11-02 04:00:00+00:00  2023-11-02 04:00:00  0.913733  -2.822010\n",
       "22     37 2023-11-02 05:00:00+00:00  2023-11-02 05:00:00  0.249717   0.754500\n",
       "23     16 2023-11-02 06:00:00+00:00  2023-11-02 06:00:00  2.526370   1.988650"
      ]
     },
     "execution_count": 48,
     "metadata": {},
     "output_type": "execute_result"
    }
   ],
   "source": [
    "futur_24_hours = predication_features[(predication_features.date_time>start_time) & (predication_features.date_time<=start_time+datetime.timedelta(hours=24))].sort_values('date_time').reset_index()\n",
    "futur_24_hours = futur_24_hours[[\"prev_day\", \"prev_week\"]].to_numpy().tolist()\n",
    "predictedfutur_24_hours = np.array([my_deployment.predict(inputs=[feature])[\"predictions\"] for feature in futur_24_hours])\n"
   ]
  },
  {
   "cell_type": "markdown",
   "id": "509f957f-3749-4fb8-928a-998eb7f930e3",
   "metadata": {},
   "source": [
    "### Future Predictions"
   ]
  },
  {
   "cell_type": "code",
   "execution_count": null,
   "id": "9c445591-ac7f-4ee5-8c2f-d5af59a83e7b",
   "metadata": {},
   "outputs": [],
   "source": []
  }
 ],
 "metadata": {
  "kernelspec": {
   "display_name": "Python 3 (ipykernel)",
   "language": "python",
   "name": "python3"
  },
  "language_info": {
   "codemirror_mode": {
    "name": "ipython",
    "version": 3
   },
   "file_extension": ".py",
   "mimetype": "text/x-python",
   "name": "python",
   "nbconvert_exporter": "python",
   "pygments_lexer": "ipython3",
   "version": "3.9.18"
  }
 },
 "nbformat": 4,
 "nbformat_minor": 5
}
