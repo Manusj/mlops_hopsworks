{
 "cells": [
  {
   "cell_type": "code",
   "execution_count": 198,
   "id": "84824703-2b3e-49b8-b9b5-bc89df9dae8b",
   "metadata": {},
   "outputs": [],
   "source": [
    "import pandas as pd\n",
    "import numpy as np\n",
    "import requests\n",
    "import hopsworks\n",
    "import joblib"
   ]
  },
  {
   "cell_type": "code",
   "execution_count": 2,
   "id": "bca5e873-6e5f-4c0f-970c-3db857f49085",
   "metadata": {},
   "outputs": [
    {
     "name": "stdout",
     "output_type": "stream",
     "text": [
      "/Users/manu/Desktop/Projects/ServerlessML/projects/air_quality\n"
     ]
    }
   ],
   "source": [
    "%load_ext autoreload\n",
    "%autoreload 2"
   ]
  },
  {
   "cell_type": "markdown",
   "id": "4a2207db-37e3-468f-ac90-d6c912965779",
   "metadata": {},
   "source": [
    "# Importing Air Qualtiy Dataset for Gothenburg year 2023\n",
    "##### From https://goteborg.se/wps/portal/start/kommun-och-politik/sa-arbetar-goteborgs-stad-med/digitalisering/oppna-data/sok-oppna-data/oppna-data---datamangd#esc_entry=690&esc_context=6"
   ]
  },
  {
   "cell_type": "markdown",
   "id": "66fc245d-9a24-4e6e-b8fc-5d8f5b014270",
   "metadata": {},
   "source": [
    "# Data Preprocessing"
   ]
  },
  {
   "cell_type": "code",
   "execution_count": 3,
   "id": "f3ecea03-2f02-4ed3-a1a1-6b0fa9573256",
   "metadata": {},
   "outputs": [
    {
     "name": "stdout",
     "output_type": "stream",
     "text": [
      "Connected. Call `.close()` to terminate connection gracefully.\n",
      "\n",
      "Logged in to project, explore it here https://c.app.hopsworks.ai:443/p/140436\n",
      "Connected. Call `.close()` to terminate connection gracefully.\n",
      "Connection closed.\n",
      "Connected. Call `.close()` to terminate connection gracefully.\n",
      "\n",
      "Logged in to project, explore it here https://c.app.hopsworks.ai:443/p/140436\n",
      "Connected. Call `.close()` to terminate connection gracefully.\n",
      "Connection closed.\n",
      "Connected. Call `.close()` to terminate connection gracefully.\n",
      "\n",
      "Logged in to project, explore it here https://c.app.hopsworks.ai:443/p/140436\n",
      "Connected. Call `.close()` to terminate connection gracefully.\n"
     ]
    },
    {
     "data": {
      "application/vnd.jupyter.widget-view+json": {
       "model_id": "c201c13907844d23bb479193e360809b",
       "version_major": 2,
       "version_minor": 0
      },
      "text/plain": [
       "Uploading: 0.000%|          | 0/557 elapsed<00:00 remaining<?"
      ]
     },
     "metadata": {},
     "output_type": "display_data"
    }
   ],
   "source": [
    "from air_pred.utils import data_preprocessing"
   ]
  },
  {
   "cell_type": "code",
   "execution_count": 4,
   "id": "73ae4ac1-22db-463b-af61-8d4b42893f34",
   "metadata": {},
   "outputs": [
    {
     "name": "stdout",
     "output_type": "stream",
     "text": [
      "Connection closed.\n",
      "Connected. Call `.close()` to terminate connection gracefully.\n",
      "\n",
      "Logged in to project, explore it here https://c.app.hopsworks.ai:443/p/140436\n",
      "Connected. Call `.close()` to terminate connection gracefully.\n"
     ]
    }
   ],
   "source": [
    "FEAURE_GROUP_VERSION = 1\n",
    "project = hopsworks.login(api_key_file=\"api_key\")\n",
    "fs = project.get_feature_store()"
   ]
  },
  {
   "cell_type": "markdown",
   "id": "6de5ef7d-d3b1-4ed5-8aa8-28ceede52cdd",
   "metadata": {},
   "source": [
    "# EDA"
   ]
  },
  {
   "cell_type": "code",
   "execution_count": 5,
   "id": "a6fa2741-a15d-496e-b7c9-dae2bccc4e0e",
   "metadata": {},
   "outputs": [
    {
     "name": "stdout",
     "output_type": "stream",
     "text": [
      "Connection closed.\n",
      "Connected. Call `.close()` to terminate connection gracefully.\n",
      "\n",
      "Logged in to project, explore it here https://c.app.hopsworks.ai:443/p/140436\n",
      "Connected. Call `.close()` to terminate connection gracefully.\n"
     ]
    }
   ],
   "source": [
    "project = hopsworks.login(api_key_file=\"api_key\")\n",
    "fs = project.get_feature_store()"
   ]
  },
  {
   "cell_type": "code",
   "execution_count": 6,
   "id": "ab246c5f-0fb1-424f-91e6-501c3d624e4b",
   "metadata": {},
   "outputs": [
    {
     "name": "stderr",
     "output_type": "stream",
     "text": [
      "VersionWarning: No version provided for getting feature group `air_quality_data`, defaulting to `1`.\n"
     ]
    }
   ],
   "source": [
    "try:\n",
    "    fg = fs.get_feature_group(\"air_quality_data\")\n",
    "except:\n",
    "    from air_pred.pipeline import backfill_feature_pipeline\n",
    "    fg = backfill_feature_pipeline.backfill_air_quality_data()"
   ]
  },
  {
   "cell_type": "code",
   "execution_count": null,
   "id": "00d29634-478f-4fbc-b4c5-01b9706a98d8",
   "metadata": {},
   "outputs": [],
   "source": [
    "df = fg.read()"
   ]
  },
  {
   "cell_type": "code",
   "execution_count": null,
   "id": "e3df99b6-4ed3-4240-9a1e-b4acaa4d98ef",
   "metadata": {},
   "outputs": [],
   "source": [
    "type(df)"
   ]
  },
  {
   "cell_type": "code",
   "execution_count": null,
   "id": "0e3c6ac8-e350-4faa-ac99-b5194975ec76",
   "metadata": {},
   "outputs": [],
   "source": [
    "df.describe()"
   ]
  },
  {
   "cell_type": "code",
   "execution_count": null,
   "id": "e58cb8e7-3017-4d8d-b808-c1db9ef227e8",
   "metadata": {},
   "outputs": [],
   "source": [
    "df.corr()"
   ]
  },
  {
   "cell_type": "code",
   "execution_count": null,
   "id": "834228f6-d486-4e92-a8e1-946662b2f3cb",
   "metadata": {},
   "outputs": [],
   "source": [
    "df.isna().sum()/len(df) * 100"
   ]
  },
  {
   "cell_type": "code",
   "execution_count": null,
   "id": "3983dc63-ea49-4e8a-86a5-9fb65e88dc56",
   "metadata": {},
   "outputs": [],
   "source": [
    "df = data_preprocessing.clean_data(df)"
   ]
  },
  {
   "cell_type": "code",
   "execution_count": null,
   "id": "3de94c7c-9feb-4ac0-8b60-61728786a67a",
   "metadata": {},
   "outputs": [],
   "source": [
    "df.columns"
   ]
  },
  {
   "cell_type": "code",
   "execution_count": null,
   "id": "9ad85e15-73c8-40bd-8ce9-d5cfac97fb9f",
   "metadata": {},
   "outputs": [],
   "source": [
    "df.isna().sum()/len(df) * 100"
   ]
  },
  {
   "cell_type": "code",
   "execution_count": null,
   "id": "27868cec-d319-48f4-99e9-31262936c4a3",
   "metadata": {},
   "outputs": [],
   "source": [
    "df.describe()"
   ]
  },
  {
   "cell_type": "code",
   "execution_count": null,
   "id": "cb8eff37-007a-4d8a-bc82-3d1e21f907a3",
   "metadata": {},
   "outputs": [],
   "source": [
    "df.head()"
   ]
  },
  {
   "cell_type": "code",
   "execution_count": 957,
   "id": "0a75a1a5-e6a6-4338-92f5-772e965a3766",
   "metadata": {},
   "outputs": [
    {
     "name": "stderr",
     "output_type": "stream",
     "text": [
      "/Users/manu/anaconda3/envs/venv_ml/lib/python3.9/site-packages/hsfs/feature_store.py:139: VersionWarning:\n",
      "\n",
      "No version provided for getting feature group `cleaned_air_quality_data`, defaulting to `1`.\n",
      "\n"
     ]
    },
    {
     "name": "stdout",
     "output_type": "stream",
     "text": [
      "Finished: Reading data from Hopsworks, using ArrowFlight (1.43s) \n"
     ]
    },
    {
     "data": {
      "text/plain": [
       "femman_temp            0.0\n",
       "femman_rh              0.0\n",
       "femman_globrad         0.0\n",
       "femman_airpressure     0.0\n",
       "femman_windspeed       0.0\n",
       "femman_winddir         0.0\n",
       "femman_rain            0.0\n",
       "femman_no2             0.0\n",
       "femman_pm10            0.0\n",
       "femman_nox             0.0\n",
       "femman_pm25            0.0\n",
       "haganorra_no2          0.0\n",
       "haganorra_nox          0.0\n",
       "hagasodra_pm10         0.0\n",
       "hagasodra_pm25         0.0\n",
       "lejonet_globrad        0.0\n",
       "lejonet_airpressure    0.0\n",
       "lejonet_rain           0.0\n",
       "lejonet_rh             0.0\n",
       "lejonet_temp           0.0\n",
       "lejonet_winddir        0.0\n",
       "lejonet_windspeed      0.0\n",
       "mobil1_no2             0.0\n",
       "mobil1_nox             0.0\n",
       "mobil1_pm10            0.0\n",
       "mobil2_no2             0.0\n",
       "mobil2_nox             0.0\n",
       "mobil2_pm10            0.0\n",
       "mobil3_no2             0.0\n",
       "mobil3_nox             0.0\n",
       "mobil3_pm10            0.0\n",
       "mobil2_pm25            0.0\n",
       "date_time_str          0.0\n",
       "date_time              0.0\n",
       "dtype: float64"
      ]
     },
     "execution_count": 957,
     "metadata": {},
     "output_type": "execute_result"
    }
   ],
   "source": [
    "fg = fs.get_feature_group(\"cleaned_air_quality_data\")\n",
    "df = fg.read()\n",
    "df.isna().sum()/len(df) * 100"
   ]
  },
  {
   "cell_type": "markdown",
   "id": "0db9faf1-3bec-4b44-b5b2-685481de6a60",
   "metadata": {},
   "source": [
    "# Pipelines"
   ]
  },
  {
   "cell_type": "code",
   "execution_count": 976,
   "id": "8d37502f-4a47-4fab-bfce-19dddebced7b",
   "metadata": {},
   "outputs": [],
   "source": [
    "from air_pred.pipeline import backfill_feature_pipeline\n",
    "from air_pred.pipeline import training_pipeline\n",
    "from air_pred.pipeline import deployement_pipeline\n",
    "from air_pred.pipeline import batch_inference_pipeline\n",
    "from air_pred.pipeline import online_feature_pipeline\n",
    "from air_pred.pipeline import online_inference_pipeline"
   ]
  },
  {
   "cell_type": "code",
   "execution_count": 977,
   "id": "b56d7c69-869d-4d2f-b84a-d7c62c870902",
   "metadata": {},
   "outputs": [
    {
     "name": "stdout",
     "output_type": "stream",
     "text": [
      "Feature Group created successfully, explore it at \n",
      "https://c.app.hopsworks.ai:443/p/140436/fs/140355/fg/155990\n"
     ]
    },
    {
     "data": {
      "application/vnd.jupyter.widget-view+json": {
       "model_id": "bea30263acca4a71a2b86540fbcd24d2",
       "version_major": 2,
       "version_minor": 0
      },
      "text/plain": [
       "Uploading Dataframe: 0.00% |          | Rows 0/7089 | Elapsed Time: 00:00 | Remaining Time: ?"
      ]
     },
     "metadata": {},
     "output_type": "display_data"
    },
    {
     "name": "stdout",
     "output_type": "stream",
     "text": [
      "Launching job: air_quality_data_1_offline_fg_materialization\n",
      "Job started successfully, you can follow the progress at \n",
      "https://c.app.hopsworks.ai/p/140436/jobs/named/air_quality_data_1_offline_fg_materialization/executions\n",
      "Feature Group created successfully, explore it at \n",
      "https://c.app.hopsworks.ai:443/p/140436/fs/140355/fg/157024\n"
     ]
    },
    {
     "data": {
      "application/vnd.jupyter.widget-view+json": {
       "model_id": "435ce15c369d4fc28ffbf577716a34eb",
       "version_major": 2,
       "version_minor": 0
      },
      "text/plain": [
       "Uploading Dataframe: 0.00% |          | Rows 0/7089 | Elapsed Time: 00:00 | Remaining Time: ?"
      ]
     },
     "metadata": {},
     "output_type": "display_data"
    },
    {
     "name": "stdout",
     "output_type": "stream",
     "text": [
      "Launching job: cleaned_air_quality_data_1_offline_fg_materialization\n",
      "Job started successfully, you can follow the progress at \n",
      "https://c.app.hopsworks.ai/p/140436/jobs/named/cleaned_air_quality_data_1_offline_fg_materialization/executions\n"
     ]
    },
    {
     "data": {
      "text/plain": [
       "<hsfs.feature_group.FeatureGroup at 0x29f5f28e0>"
      ]
     },
     "execution_count": 977,
     "metadata": {},
     "output_type": "execute_result"
    }
   ],
   "source": [
    "backfill_feature_pipeline.backfill_air_quality_data()"
   ]
  },
  {
   "cell_type": "code",
   "execution_count": 978,
   "id": "f7aace43-1543-42e7-bf4b-1e1bd9272f6c",
   "metadata": {},
   "outputs": [
    {
     "name": "stdout",
     "output_type": "stream",
     "text": [
      "Connection closed.\n",
      "Connected. Call `.close()` to terminate connection gracefully.\n",
      "\n",
      "Logged in to project, explore it here https://c.app.hopsworks.ai:443/p/140436\n",
      "Connected. Call `.close()` to terminate connection gracefully.\n"
     ]
    },
    {
     "name": "stderr",
     "output_type": "stream",
     "text": [
      "/Users/manu/anaconda3/envs/venv_ml/lib/python3.9/site-packages/hsfs/feature_store.py:139: VersionWarning:\n",
      "\n",
      "No version provided for getting feature group `cleaned_air_quality_data`, defaulting to `1`.\n",
      "\n"
     ]
    },
    {
     "name": "stdout",
     "output_type": "stream",
     "text": [
      "Feature view created successfully, explore it at \n",
      "https://c.app.hopsworks.ai:443/p/140436/fs/140355/fv/air_qaulity_baseline_fv/version/1\n"
     ]
    },
    {
     "data": {
      "text/plain": [
       "<hsfs.feature_view.FeatureView at 0x29e4eb670>"
      ]
     },
     "execution_count": 978,
     "metadata": {},
     "output_type": "execute_result"
    }
   ],
   "source": [
    "training_pipeline.create_featureView()"
   ]
  },
  {
   "cell_type": "code",
   "execution_count": 979,
   "id": "9371810f-f430-4a68-9fca-11eb8f54b2fd",
   "metadata": {},
   "outputs": [
    {
     "name": "stdout",
     "output_type": "stream",
     "text": [
      "Connection closed.\n",
      "Connected. Call `.close()` to terminate connection gracefully.\n",
      "\n",
      "Logged in to project, explore it here https://c.app.hopsworks.ai:443/p/140436\n",
      "Connected. Call `.close()` to terminate connection gracefully.\n",
      "Training dataset job started successfully, you can follow the progress at \n",
      "https://c.app.hopsworks.ai/p/140436/jobs/named/air_qaulity_baseline_fv_1_create_fv_td_25102023061217/executions\n"
     ]
    },
    {
     "name": "stderr",
     "output_type": "stream",
     "text": [
      "/Users/manu/anaconda3/envs/venv_ml/lib/python3.9/site-packages/hsfs/feature_view.py:1191: VersionWarning:\n",
      "\n",
      "Incremented version to `1`.\n",
      "\n"
     ]
    }
   ],
   "source": [
    "training_pipeline.create_training_test_data()"
   ]
  },
  {
   "cell_type": "code",
   "execution_count": 117,
   "id": "3db596b1-afc9-4667-832d-dbb901c44e1c",
   "metadata": {},
   "outputs": [
    {
     "name": "stdout",
     "output_type": "stream",
     "text": [
      "Connection closed.\n",
      "Connected. Call `.close()` to terminate connection gracefully.\n",
      "\n",
      "Logged in to project, explore it here https://c.app.hopsworks.ai:443/p/140436\n",
      "Connected. Call `.close()` to terminate connection gracefully.\n",
      "Train Score : 0.9071571418062164, Test Score : 0.947353115207572\n",
      "Connected. Call `.close()` to terminate connection gracefully.\n"
     ]
    },
    {
     "data": {
      "application/vnd.jupyter.widget-view+json": {
       "model_id": "94577db0f79d43c59023c47ff41ea526",
       "version_major": 2,
       "version_minor": 0
      },
      "text/plain": [
       "  0%|          | 0/6 [00:00<?, ?it/s]"
      ]
     },
     "metadata": {},
     "output_type": "display_data"
    },
    {
     "name": "stdout",
     "output_type": "stream",
     "text": [
      "Model created, explore it at https://c.app.hopsworks.ai:443/p/140436/models/linear_regression_baseline/1\n"
     ]
    }
   ],
   "source": [
    "training_pipeline.train_model()"
   ]
  },
  {
   "cell_type": "code",
   "execution_count": 118,
   "id": "83cb2766-1c54-42d4-ac0d-fc4f66b4da65",
   "metadata": {},
   "outputs": [
    {
     "name": "stdout",
     "output_type": "stream",
     "text": [
      "Connected. Call `.close()` to terminate connection gracefully.\n",
      "Deployment created, explore it at https://c.app.hopsworks.ai:443/p/140436/deployments/93185\n",
      "Before making predictions, start the deployment by using `.start()`\n"
     ]
    },
    {
     "data": {
      "application/vnd.jupyter.widget-view+json": {
       "model_id": "ae9350fbcced4a7a8fc1a668235fde4e",
       "version_major": 2,
       "version_minor": 0
      },
      "text/plain": [
       "  0%|          | 0/5 [00:00<?, ?it/s]"
      ]
     },
     "metadata": {},
     "output_type": "display_data"
    },
    {
     "name": "stdout",
     "output_type": "stream",
     "text": [
      "Start making predictions by using `.predict()`\n"
     ]
    },
    {
     "data": {
      "text/plain": [
       "Deployment(name: 'lrbasedeployment')"
      ]
     },
     "execution_count": 118,
     "metadata": {},
     "output_type": "execute_result"
    }
   ],
   "source": [
    "deployement_pipeline.deploy_linear_regression_baseline()"
   ]
  },
  {
   "cell_type": "code",
   "execution_count": 987,
   "id": "ee158827-beb7-4557-a064-16249c7899be",
   "metadata": {},
   "outputs": [
    {
     "name": "stdout",
     "output_type": "stream",
     "text": [
      "Connection closed.\n",
      "Connected. Call `.close()` to terminate connection gracefully.\n",
      "\n",
      "Logged in to project, explore it here https://c.app.hopsworks.ai:443/p/140436\n",
      "Connected. Call `.close()` to terminate connection gracefully.\n",
      "Feature view created successfully, explore it at \n",
      "https://c.app.hopsworks.ai:443/p/140436/fs/140355/fv/predicted_air_quality_regression_fv/version/1\n"
     ]
    }
   ],
   "source": [
    "batch_inference_pipeline.create_feature_views()"
   ]
  },
  {
   "cell_type": "code",
   "execution_count": 934,
   "id": "6aaa4da0-1f8e-4bc9-a329-7b901cf53d96",
   "metadata": {},
   "outputs": [
    {
     "name": "stdout",
     "output_type": "stream",
     "text": [
      "Connection closed.\n",
      "Connected. Call `.close()` to terminate connection gracefully.\n",
      "\n",
      "Logged in to project, explore it here https://c.app.hopsworks.ai:443/p/140436\n",
      "Connected. Call `.close()` to terminate connection gracefully.\n",
      "Finished: Reading data from Hopsworks, using ArrowFlight (1.73s) \n",
      "Finished: Reading data from Hopsworks, using ArrowFlight (1.59s) \n",
      "Connected. Call `.close()` to terminate connection gracefully.\n"
     ]
    },
    {
     "name": "stderr",
     "output_type": "stream",
     "text": [
      "/Users/manu/Desktop/Projects/ServerlessML/projects/air_quality/air_pred/pipeline/batch_inference_pipeline.py:43: SettingWithCopyWarning:\n",
      "\n",
      "\n",
      "A value is trying to be set on a copy of a slice from a DataFrame.\n",
      "Try using .loc[row_indexer,col_indexer] = value instead\n",
      "\n",
      "See the caveats in the documentation: https://pandas.pydata.org/pandas-docs/stable/user_guide/indexing.html#returning-a-view-versus-a-copy\n",
      "\n",
      "/Users/manu/Desktop/Projects/ServerlessML/projects/air_quality/air_pred/pipeline/batch_inference_pipeline.py:44: SettingWithCopyWarning:\n",
      "\n",
      "\n",
      "A value is trying to be set on a copy of a slice from a DataFrame.\n",
      "Try using .loc[row_indexer,col_indexer] = value instead\n",
      "\n",
      "See the caveats in the documentation: https://pandas.pydata.org/pandas-docs/stable/user_guide/indexing.html#returning-a-view-versus-a-copy\n",
      "\n"
     ]
    },
    {
     "name": "stdout",
     "output_type": "stream",
     "text": [
      "Feature Group created successfully, explore it at \n",
      "https://c.app.hopsworks.ai:443/p/140436/fs/140355/fg/157018\n"
     ]
    },
    {
     "data": {
      "application/vnd.jupyter.widget-view+json": {
       "model_id": "f97c246b6e09456197efc10d64ab024b",
       "version_major": 2,
       "version_minor": 0
      },
      "text/plain": [
       "Uploading Dataframe: 0.00% |          | Rows 0/7089 | Elapsed Time: 00:00 | Remaining Time: ?"
      ]
     },
     "metadata": {},
     "output_type": "display_data"
    },
    {
     "name": "stdout",
     "output_type": "stream",
     "text": [
      "Launching job: predicted_air_quality_regression_1_offline_fg_materialization\n",
      "Job started successfully, you can follow the progress at \n",
      "https://c.app.hopsworks.ai/p/140436/jobs/named/predicted_air_quality_regression_1_offline_fg_materialization/executions\n"
     ]
    }
   ],
   "source": [
    "batch_inference_pipeline.batch_predict()"
   ]
  },
  {
   "cell_type": "code",
   "execution_count": 983,
   "id": "913d8780-4f87-4c7f-a1fc-fcbbf9924928",
   "metadata": {},
   "outputs": [
    {
     "name": "stdout",
     "output_type": "stream",
     "text": [
      "Connection closed.\n",
      "Connected. Call `.close()` to terminate connection gracefully.\n",
      "\n",
      "Logged in to project, explore it here https://c.app.hopsworks.ai:443/p/140436\n",
      "Connected. Call `.close()` to terminate connection gracefully.\n"
     ]
    },
    {
     "data": {
      "application/vnd.jupyter.widget-view+json": {
       "model_id": "e479b71230a34ba7b358dba471c6c0fb",
       "version_major": 2,
       "version_minor": 0
      },
      "text/plain": [
       "Uploading Dataframe: 0.00% |          | Rows 0/168 | Elapsed Time: 00:00 | Remaining Time: ?"
      ]
     },
     "metadata": {},
     "output_type": "display_data"
    },
    {
     "name": "stdout",
     "output_type": "stream",
     "text": [
      "Launching job: air_quality_data_1_offline_fg_materialization\n",
      "Job started successfully, you can follow the progress at \n",
      "https://c.app.hopsworks.ai/p/140436/jobs/named/air_quality_data_1_offline_fg_materialization/executions\n",
      "Finished: Reading data from Hopsworks, using ArrowFlight (1.93s) \n"
     ]
    },
    {
     "data": {
      "application/vnd.jupyter.widget-view+json": {
       "model_id": "b8901a252a9a4cbdb24fc20ec24165f5",
       "version_major": 2,
       "version_minor": 0
      },
      "text/plain": [
       "Uploading Dataframe: 0.00% |          | Rows 0/168 | Elapsed Time: 00:00 | Remaining Time: ?"
      ]
     },
     "metadata": {},
     "output_type": "display_data"
    },
    {
     "name": "stdout",
     "output_type": "stream",
     "text": [
      "Launching job: cleaned_air_quality_data_1_offline_fg_materialization\n",
      "Job started successfully, you can follow the progress at \n",
      "https://c.app.hopsworks.ai/p/140436/jobs/named/cleaned_air_quality_data_1_offline_fg_materialization/executions\n"
     ]
    }
   ],
   "source": [
    "clean_df = online_feature_pipeline.update_feature_groups()"
   ]
  },
  {
   "cell_type": "code",
   "execution_count": 986,
   "id": "7bc48595-bfb9-4135-88af-f02698c4e1a7",
   "metadata": {},
   "outputs": [
    {
     "name": "stdout",
     "output_type": "stream",
     "text": [
      "Connection closed.\n",
      "Connected. Call `.close()` to terminate connection gracefully.\n",
      "\n",
      "Logged in to project, explore it here https://c.app.hopsworks.ai:443/p/140436\n",
      "Connected. Call `.close()` to terminate connection gracefully.\n"
     ]
    },
    {
     "name": "stderr",
     "output_type": "stream",
     "text": [
      "/Users/manu/anaconda3/envs/venv_ml/lib/python3.9/site-packages/hsfs/feature_store.py:139: VersionWarning:\n",
      "\n",
      "No version provided for getting feature group `cleaned_air_quality_data`, defaulting to `1`.\n",
      "\n",
      "/Users/manu/anaconda3/envs/venv_ml/lib/python3.9/site-packages/hsfs/feature_store.py:139: VersionWarning:\n",
      "\n",
      "No version provided for getting feature group `predicted_air_quality_regression`, defaulting to `1`.\n",
      "\n"
     ]
    },
    {
     "name": "stdout",
     "output_type": "stream",
     "text": [
      "Finished: Reading data from Hopsworks, using ArrowFlight (0.56s) \n"
     ]
    },
    {
     "name": "stderr",
     "output_type": "stream",
     "text": [
      "/Users/manu/Desktop/Projects/ServerlessML/projects/air_quality/air_pred/pipeline/online_inference_pipeline.py:33: UserWarning:\n",
      "\n",
      "Boolean Series key will be reindexed to match DataFrame index.\n",
      "\n"
     ]
    },
    {
     "name": "stdout",
     "output_type": "stream",
     "text": [
      "Connected. Call `.close()` to terminate connection gracefully.\n"
     ]
    },
    {
     "data": {
      "application/vnd.jupyter.widget-view+json": {
       "model_id": "b88d6de91bb341e3a5bfe6a0430b3dcd",
       "version_major": 2,
       "version_minor": 0
      },
      "text/plain": [
       "Uploading Dataframe: 0.00% |          | Rows 0/46 | Elapsed Time: 00:00 | Remaining Time: ?"
      ]
     },
     "metadata": {},
     "output_type": "display_data"
    },
    {
     "name": "stdout",
     "output_type": "stream",
     "text": [
      "Launching job: predicted_air_quality_regression_1_offline_fg_materialization\n",
      "Job started successfully, you can follow the progress at \n",
      "https://c.app.hopsworks.ai/p/140436/jobs/named/predicted_air_quality_regression_1_offline_fg_materialization/executions\n"
     ]
    },
    {
     "data": {
      "text/html": [
       "<div>\n",
       "<style scoped>\n",
       "    .dataframe tbody tr th:only-of-type {\n",
       "        vertical-align: middle;\n",
       "    }\n",
       "\n",
       "    .dataframe tbody tr th {\n",
       "        vertical-align: top;\n",
       "    }\n",
       "\n",
       "    .dataframe thead th {\n",
       "        text-align: right;\n",
       "    }\n",
       "</style>\n",
       "<table border=\"1\" class=\"dataframe\">\n",
       "  <thead>\n",
       "    <tr style=\"text-align: right;\">\n",
       "      <th></th>\n",
       "      <th>date_time</th>\n",
       "      <th>date_time_str</th>\n",
       "      <th>femman_pm25</th>\n",
       "      <th>predicted_femman_pm25</th>\n",
       "    </tr>\n",
       "  </thead>\n",
       "  <tbody>\n",
       "    <tr>\n",
       "      <th>0</th>\n",
       "      <td>2023-10-23 10:00:00</td>\n",
       "      <td>2023-10-23 10:00</td>\n",
       "      <td>5.680450</td>\n",
       "      <td>-72.770052</td>\n",
       "    </tr>\n",
       "    <tr>\n",
       "      <th>1</th>\n",
       "      <td>2023-10-23 11:00:00</td>\n",
       "      <td>2023-10-23 11:00</td>\n",
       "      <td>7.644200</td>\n",
       "      <td>6.487529</td>\n",
       "    </tr>\n",
       "    <tr>\n",
       "      <th>2</th>\n",
       "      <td>2023-10-23 12:00:00</td>\n",
       "      <td>2023-10-23 12:00</td>\n",
       "      <td>9.317700</td>\n",
       "      <td>8.386669</td>\n",
       "    </tr>\n",
       "    <tr>\n",
       "      <th>3</th>\n",
       "      <td>2023-10-23 13:00:00</td>\n",
       "      <td>2023-10-23 13:00</td>\n",
       "      <td>7.101430</td>\n",
       "      <td>5.545478</td>\n",
       "    </tr>\n",
       "    <tr>\n",
       "      <th>4</th>\n",
       "      <td>2023-10-23 14:00:00</td>\n",
       "      <td>2023-10-23 14:00</td>\n",
       "      <td>5.637850</td>\n",
       "      <td>1.431397</td>\n",
       "    </tr>\n",
       "    <tr>\n",
       "      <th>5</th>\n",
       "      <td>2023-10-23 15:00:00</td>\n",
       "      <td>2023-10-23 15:00</td>\n",
       "      <td>3.595290</td>\n",
       "      <td>1.024799</td>\n",
       "    </tr>\n",
       "    <tr>\n",
       "      <th>6</th>\n",
       "      <td>2023-10-23 16:00:00</td>\n",
       "      <td>2023-10-23 16:00</td>\n",
       "      <td>4.887600</td>\n",
       "      <td>5.164036</td>\n",
       "    </tr>\n",
       "    <tr>\n",
       "      <th>7</th>\n",
       "      <td>2023-10-23 17:00:00</td>\n",
       "      <td>2023-10-23 17:00</td>\n",
       "      <td>6.386100</td>\n",
       "      <td>11.488380</td>\n",
       "    </tr>\n",
       "    <tr>\n",
       "      <th>8</th>\n",
       "      <td>2023-10-23 18:00:00</td>\n",
       "      <td>2023-10-23 18:00</td>\n",
       "      <td>4.261540</td>\n",
       "      <td>8.239994</td>\n",
       "    </tr>\n",
       "    <tr>\n",
       "      <th>9</th>\n",
       "      <td>2023-10-23 19:00:00</td>\n",
       "      <td>2023-10-23 19:00</td>\n",
       "      <td>4.228380</td>\n",
       "      <td>-1.244207</td>\n",
       "    </tr>\n",
       "    <tr>\n",
       "      <th>10</th>\n",
       "      <td>2023-10-23 20:00:00</td>\n",
       "      <td>2023-10-23 20:00</td>\n",
       "      <td>0.548867</td>\n",
       "      <td>-6.220029</td>\n",
       "    </tr>\n",
       "    <tr>\n",
       "      <th>11</th>\n",
       "      <td>2023-10-23 21:00:00</td>\n",
       "      <td>2023-10-23 21:00</td>\n",
       "      <td>0.883900</td>\n",
       "      <td>-4.316847</td>\n",
       "    </tr>\n",
       "    <tr>\n",
       "      <th>12</th>\n",
       "      <td>2023-10-23 22:00:00</td>\n",
       "      <td>2023-10-23 22:00</td>\n",
       "      <td>2.917150</td>\n",
       "      <td>-2.036910</td>\n",
       "    </tr>\n",
       "    <tr>\n",
       "      <th>13</th>\n",
       "      <td>2023-10-23 23:00:00</td>\n",
       "      <td>2023-10-23 23:00</td>\n",
       "      <td>1.456130</td>\n",
       "      <td>-2.929966</td>\n",
       "    </tr>\n",
       "    <tr>\n",
       "      <th>14</th>\n",
       "      <td>2023-10-24 00:00:00</td>\n",
       "      <td>2023-10-23 24:00</td>\n",
       "      <td>-0.134183</td>\n",
       "      <td>-4.530801</td>\n",
       "    </tr>\n",
       "    <tr>\n",
       "      <th>15</th>\n",
       "      <td>2023-10-24 01:00:00</td>\n",
       "      <td>2023-10-24 01:00</td>\n",
       "      <td>5.118300</td>\n",
       "      <td>0.606694</td>\n",
       "    </tr>\n",
       "    <tr>\n",
       "      <th>16</th>\n",
       "      <td>2023-10-24 02:00:00</td>\n",
       "      <td>2023-10-24 02:00</td>\n",
       "      <td>0.420249</td>\n",
       "      <td>-3.678152</td>\n",
       "    </tr>\n",
       "    <tr>\n",
       "      <th>17</th>\n",
       "      <td>2023-10-24 03:00:00</td>\n",
       "      <td>2023-10-24 03:00</td>\n",
       "      <td>0.323267</td>\n",
       "      <td>-4.210299</td>\n",
       "    </tr>\n",
       "    <tr>\n",
       "      <th>18</th>\n",
       "      <td>2023-10-24 04:00:00</td>\n",
       "      <td>2023-10-24 04:00</td>\n",
       "      <td>3.963930</td>\n",
       "      <td>-0.553489</td>\n",
       "    </tr>\n",
       "    <tr>\n",
       "      <th>19</th>\n",
       "      <td>2023-10-24 05:00:00</td>\n",
       "      <td>2023-10-24 05:00</td>\n",
       "      <td>1.370550</td>\n",
       "      <td>-3.637397</td>\n",
       "    </tr>\n",
       "    <tr>\n",
       "      <th>20</th>\n",
       "      <td>2023-10-24 06:00:00</td>\n",
       "      <td>2023-10-24 06:00</td>\n",
       "      <td>0.103916</td>\n",
       "      <td>-5.399897</td>\n",
       "    </tr>\n",
       "    <tr>\n",
       "      <th>21</th>\n",
       "      <td>2023-10-24 07:00:00</td>\n",
       "      <td>2023-10-24 07:00</td>\n",
       "      <td>-0.530350</td>\n",
       "      <td>-4.610666</td>\n",
       "    </tr>\n",
       "    <tr>\n",
       "      <th>22</th>\n",
       "      <td>2023-10-24 08:00:00</td>\n",
       "      <td>2023-10-24 08:00</td>\n",
       "      <td>2.144820</td>\n",
       "      <td>-1.781157</td>\n",
       "    </tr>\n",
       "    <tr>\n",
       "      <th>23</th>\n",
       "      <td>2023-10-24 09:00:00</td>\n",
       "      <td>2023-10-24 09:00</td>\n",
       "      <td>-0.645250</td>\n",
       "      <td>-6.154064</td>\n",
       "    </tr>\n",
       "    <tr>\n",
       "      <th>24</th>\n",
       "      <td>2023-10-24 10:00:00</td>\n",
       "      <td>2023-10-24 10:00</td>\n",
       "      <td>0.396900</td>\n",
       "      <td>-6.640168</td>\n",
       "    </tr>\n",
       "    <tr>\n",
       "      <th>25</th>\n",
       "      <td>2023-10-24 11:00:00</td>\n",
       "      <td>2023-10-24 11:00</td>\n",
       "      <td>-0.164200</td>\n",
       "      <td>-6.358679</td>\n",
       "    </tr>\n",
       "    <tr>\n",
       "      <th>26</th>\n",
       "      <td>2023-10-24 12:00:00</td>\n",
       "      <td>2023-10-24 12:00</td>\n",
       "      <td>2.111680</td>\n",
       "      <td>-6.949445</td>\n",
       "    </tr>\n",
       "    <tr>\n",
       "      <th>27</th>\n",
       "      <td>2023-10-24 13:00:00</td>\n",
       "      <td>2023-10-24 13:00</td>\n",
       "      <td>0.090000</td>\n",
       "      <td>-12.668006</td>\n",
       "    </tr>\n",
       "    <tr>\n",
       "      <th>28</th>\n",
       "      <td>2023-10-24 14:00:00</td>\n",
       "      <td>2023-10-24 14:00</td>\n",
       "      <td>3.396820</td>\n",
       "      <td>-25.909603</td>\n",
       "    </tr>\n",
       "    <tr>\n",
       "      <th>29</th>\n",
       "      <td>2023-10-24 15:00:00</td>\n",
       "      <td>2023-10-24 15:00</td>\n",
       "      <td>2.292550</td>\n",
       "      <td>-39.016978</td>\n",
       "    </tr>\n",
       "    <tr>\n",
       "      <th>30</th>\n",
       "      <td>2023-10-24 16:00:00</td>\n",
       "      <td>2023-10-24 16:00</td>\n",
       "      <td>1.384470</td>\n",
       "      <td>-5.448666</td>\n",
       "    </tr>\n",
       "    <tr>\n",
       "      <th>31</th>\n",
       "      <td>2023-10-24 17:00:00</td>\n",
       "      <td>2023-10-24 17:00</td>\n",
       "      <td>4.417850</td>\n",
       "      <td>-2.863575</td>\n",
       "    </tr>\n",
       "    <tr>\n",
       "      <th>32</th>\n",
       "      <td>2023-10-24 18:00:00</td>\n",
       "      <td>2023-10-24 18:00</td>\n",
       "      <td>1.690400</td>\n",
       "      <td>-5.048173</td>\n",
       "    </tr>\n",
       "    <tr>\n",
       "      <th>33</th>\n",
       "      <td>2023-10-24 19:00:00</td>\n",
       "      <td>2023-10-24 19:00</td>\n",
       "      <td>0.858400</td>\n",
       "      <td>-6.035599</td>\n",
       "    </tr>\n",
       "    <tr>\n",
       "      <th>34</th>\n",
       "      <td>2023-10-24 20:00:00</td>\n",
       "      <td>2023-10-24 20:00</td>\n",
       "      <td>-0.736817</td>\n",
       "      <td>-6.817074</td>\n",
       "    </tr>\n",
       "    <tr>\n",
       "      <th>35</th>\n",
       "      <td>2023-10-24 21:00:00</td>\n",
       "      <td>2023-10-24 21:00</td>\n",
       "      <td>0.844334</td>\n",
       "      <td>-6.297154</td>\n",
       "    </tr>\n",
       "    <tr>\n",
       "      <th>36</th>\n",
       "      <td>2023-10-24 22:00:00</td>\n",
       "      <td>2023-10-24 22:00</td>\n",
       "      <td>1.914420</td>\n",
       "      <td>-4.996210</td>\n",
       "    </tr>\n",
       "    <tr>\n",
       "      <th>37</th>\n",
       "      <td>2023-10-24 23:00:00</td>\n",
       "      <td>2023-10-24 23:00</td>\n",
       "      <td>1.228820</td>\n",
       "      <td>-5.361034</td>\n",
       "    </tr>\n",
       "    <tr>\n",
       "      <th>38</th>\n",
       "      <td>2023-10-25 00:00:00</td>\n",
       "      <td>2023-10-24 24:00</td>\n",
       "      <td>-0.432383</td>\n",
       "      <td>-7.127209</td>\n",
       "    </tr>\n",
       "    <tr>\n",
       "      <th>39</th>\n",
       "      <td>2023-10-25 01:00:00</td>\n",
       "      <td>2023-10-25 01:00</td>\n",
       "      <td>2.035470</td>\n",
       "      <td>-4.850975</td>\n",
       "    </tr>\n",
       "    <tr>\n",
       "      <th>40</th>\n",
       "      <td>2023-10-25 02:00:00</td>\n",
       "      <td>2023-10-25 02:00</td>\n",
       "      <td>0.815617</td>\n",
       "      <td>-5.884900</td>\n",
       "    </tr>\n",
       "    <tr>\n",
       "      <th>41</th>\n",
       "      <td>2023-10-25 03:00:00</td>\n",
       "      <td>2023-10-25 03:00</td>\n",
       "      <td>-1.057030</td>\n",
       "      <td>-7.922108</td>\n",
       "    </tr>\n",
       "    <tr>\n",
       "      <th>42</th>\n",
       "      <td>2023-10-25 04:00:00</td>\n",
       "      <td>2023-10-25 04:00</td>\n",
       "      <td>1.191300</td>\n",
       "      <td>-6.034847</td>\n",
       "    </tr>\n",
       "    <tr>\n",
       "      <th>43</th>\n",
       "      <td>2023-10-25 05:00:00</td>\n",
       "      <td>2023-10-25 05:00</td>\n",
       "      <td>-0.811000</td>\n",
       "      <td>-8.589673</td>\n",
       "    </tr>\n",
       "    <tr>\n",
       "      <th>44</th>\n",
       "      <td>2023-10-25 06:00:00</td>\n",
       "      <td>2023-10-25 06:00</td>\n",
       "      <td>0.106900</td>\n",
       "      <td>-7.743440</td>\n",
       "    </tr>\n",
       "    <tr>\n",
       "      <th>45</th>\n",
       "      <td>2023-10-25 07:00:00</td>\n",
       "      <td>2023-10-25 07:00</td>\n",
       "      <td>0.913763</td>\n",
       "      <td>-6.858694</td>\n",
       "    </tr>\n",
       "  </tbody>\n",
       "</table>\n",
       "</div>"
      ],
      "text/plain": [
       "             date_time     date_time_str  femman_pm25  predicted_femman_pm25\n",
       "0  2023-10-23 10:00:00  2023-10-23 10:00     5.680450             -72.770052\n",
       "1  2023-10-23 11:00:00  2023-10-23 11:00     7.644200               6.487529\n",
       "2  2023-10-23 12:00:00  2023-10-23 12:00     9.317700               8.386669\n",
       "3  2023-10-23 13:00:00  2023-10-23 13:00     7.101430               5.545478\n",
       "4  2023-10-23 14:00:00  2023-10-23 14:00     5.637850               1.431397\n",
       "5  2023-10-23 15:00:00  2023-10-23 15:00     3.595290               1.024799\n",
       "6  2023-10-23 16:00:00  2023-10-23 16:00     4.887600               5.164036\n",
       "7  2023-10-23 17:00:00  2023-10-23 17:00     6.386100              11.488380\n",
       "8  2023-10-23 18:00:00  2023-10-23 18:00     4.261540               8.239994\n",
       "9  2023-10-23 19:00:00  2023-10-23 19:00     4.228380              -1.244207\n",
       "10 2023-10-23 20:00:00  2023-10-23 20:00     0.548867              -6.220029\n",
       "11 2023-10-23 21:00:00  2023-10-23 21:00     0.883900              -4.316847\n",
       "12 2023-10-23 22:00:00  2023-10-23 22:00     2.917150              -2.036910\n",
       "13 2023-10-23 23:00:00  2023-10-23 23:00     1.456130              -2.929966\n",
       "14 2023-10-24 00:00:00  2023-10-23 24:00    -0.134183              -4.530801\n",
       "15 2023-10-24 01:00:00  2023-10-24 01:00     5.118300               0.606694\n",
       "16 2023-10-24 02:00:00  2023-10-24 02:00     0.420249              -3.678152\n",
       "17 2023-10-24 03:00:00  2023-10-24 03:00     0.323267              -4.210299\n",
       "18 2023-10-24 04:00:00  2023-10-24 04:00     3.963930              -0.553489\n",
       "19 2023-10-24 05:00:00  2023-10-24 05:00     1.370550              -3.637397\n",
       "20 2023-10-24 06:00:00  2023-10-24 06:00     0.103916              -5.399897\n",
       "21 2023-10-24 07:00:00  2023-10-24 07:00    -0.530350              -4.610666\n",
       "22 2023-10-24 08:00:00  2023-10-24 08:00     2.144820              -1.781157\n",
       "23 2023-10-24 09:00:00  2023-10-24 09:00    -0.645250              -6.154064\n",
       "24 2023-10-24 10:00:00  2023-10-24 10:00     0.396900              -6.640168\n",
       "25 2023-10-24 11:00:00  2023-10-24 11:00    -0.164200              -6.358679\n",
       "26 2023-10-24 12:00:00  2023-10-24 12:00     2.111680              -6.949445\n",
       "27 2023-10-24 13:00:00  2023-10-24 13:00     0.090000             -12.668006\n",
       "28 2023-10-24 14:00:00  2023-10-24 14:00     3.396820             -25.909603\n",
       "29 2023-10-24 15:00:00  2023-10-24 15:00     2.292550             -39.016978\n",
       "30 2023-10-24 16:00:00  2023-10-24 16:00     1.384470              -5.448666\n",
       "31 2023-10-24 17:00:00  2023-10-24 17:00     4.417850              -2.863575\n",
       "32 2023-10-24 18:00:00  2023-10-24 18:00     1.690400              -5.048173\n",
       "33 2023-10-24 19:00:00  2023-10-24 19:00     0.858400              -6.035599\n",
       "34 2023-10-24 20:00:00  2023-10-24 20:00    -0.736817              -6.817074\n",
       "35 2023-10-24 21:00:00  2023-10-24 21:00     0.844334              -6.297154\n",
       "36 2023-10-24 22:00:00  2023-10-24 22:00     1.914420              -4.996210\n",
       "37 2023-10-24 23:00:00  2023-10-24 23:00     1.228820              -5.361034\n",
       "38 2023-10-25 00:00:00  2023-10-24 24:00    -0.432383              -7.127209\n",
       "39 2023-10-25 01:00:00  2023-10-25 01:00     2.035470              -4.850975\n",
       "40 2023-10-25 02:00:00  2023-10-25 02:00     0.815617              -5.884900\n",
       "41 2023-10-25 03:00:00  2023-10-25 03:00    -1.057030              -7.922108\n",
       "42 2023-10-25 04:00:00  2023-10-25 04:00     1.191300              -6.034847\n",
       "43 2023-10-25 05:00:00  2023-10-25 05:00    -0.811000              -8.589673\n",
       "44 2023-10-25 06:00:00  2023-10-25 06:00     0.106900              -7.743440\n",
       "45 2023-10-25 07:00:00  2023-10-25 07:00     0.913763              -6.858694"
      ]
     },
     "execution_count": 986,
     "metadata": {},
     "output_type": "execute_result"
    }
   ],
   "source": [
    "online_inference_pipeline.update_predictions()"
   ]
  },
  {
   "cell_type": "code",
   "execution_count": 139,
   "id": "d2e786f5-f363-487a-af8d-2afe0e9a8498",
   "metadata": {},
   "outputs": [
    {
     "name": "stdout",
     "output_type": "stream",
     "text": [
      "Connection closed.\n",
      "Connected. Call `.close()` to terminate connection gracefully.\n",
      "\n",
      "Logged in to project, explore it here https://c.app.hopsworks.ai:443/p/140436\n",
      "Connected. Call `.close()` to terminate connection gracefully.\n"
     ]
    }
   ],
   "source": []
  },
  {
   "cell_type": "code",
   "execution_count": 141,
   "id": "6a23f468-444d-4804-aeba-d4988a4f3661",
   "metadata": {},
   "outputs": [],
   "source": []
  },
  {
   "cell_type": "code",
   "execution_count": 143,
   "id": "62a13b42-7b57-462b-abea-e8ea62c01ada",
   "metadata": {},
   "outputs": [],
   "source": [
    "import datetime\n",
    "start_date = weeklydf_cleaned.date_time.iloc[0]\n",
    "end_date = weeklydf_cleaned.date_time.iloc[-1]"
   ]
  },
  {
   "cell_type": "code",
   "execution_count": 144,
   "id": "bceaa184-a57b-4b45-938c-7de29312ebab",
   "metadata": {},
   "outputs": [
    {
     "name": "stdout",
     "output_type": "stream",
     "text": [
      "Finished: Reading data from Hopsworks, using ArrowFlight (1.27s) \n"
     ]
    }
   ],
   "source": [
    "fv.init_serving(training_dataset_version=1)\n",
    "df = fv.get_batch_data(start_time=start_date, end_time=end_date)"
   ]
  },
  {
   "cell_type": "code",
   "execution_count": 145,
   "id": "c340689b-573f-459e-83ca-d06428568011",
   "metadata": {},
   "outputs": [
    {
     "data": {
      "text/plain": [
       "Index(['femman_temp', 'femman_rh', 'femman_globrad', 'femman_airpressure',\n",
       "       'femman_windspeed', 'femman_winddir', 'femman_rain', 'femman_no2',\n",
       "       'femman_pm10', 'femman_nox', 'haganorra_no2', 'haganorra_nox',\n",
       "       'hagasodra_pm10', 'hagasodra_pm25', 'lejonet_globrad',\n",
       "       'lejonet_airpressure', 'lejonet_rain', 'lejonet_rh', 'lejonet_temp',\n",
       "       'lejonet_winddir', 'lejonet_windspeed', 'mobil1_no2', 'mobil1_nox',\n",
       "       'mobil1_pm10', 'mobil2_no2', 'mobil2_nox', 'mobil2_pm10', 'mobil3_no2',\n",
       "       'mobil3_nox', 'mobil3_pm10', 'mobil2_pm25', 'date_time_str',\n",
       "       'date_time'],\n",
       "      dtype='object')"
      ]
     },
     "execution_count": 145,
     "metadata": {},
     "output_type": "execute_result"
    }
   ],
   "source": [
    "df.columns"
   ]
  },
  {
   "cell_type": "code",
   "execution_count": 146,
   "id": "cc010cfa-587f-4a34-8a6b-81a9f07696f1",
   "metadata": {},
   "outputs": [
    {
     "name": "stdout",
     "output_type": "stream",
     "text": [
      "Connected. Call `.close()` to terminate connection gracefully.\n"
     ]
    }
   ],
   "source": [
    "ms = project.get_model_serving()\n",
    "deployment = ms.get_deployment(\"lrbasedeployment\")"
   ]
  },
  {
   "cell_type": "code",
   "execution_count": 162,
   "id": "2412c1d8-fe05-4558-8972-1096207148cd",
   "metadata": {},
   "outputs": [],
   "source": [
    "testy = weeklydf_cleaned.femman_pm25\n",
    "testx = df\n",
    "test_input = testx.drop([\"date_time\", \"date_time_str\"], axis = 1).to_numpy().tolist()"
   ]
  },
  {
   "cell_type": "code",
   "execution_count": 163,
   "id": "3c47655f-07f7-45ba-adab-2d36df1d26d1",
   "metadata": {},
   "outputs": [],
   "source": [
    "plottingdf = pd.concat([testx.date_time, testy], axis =1)\n",
    "plottingdf[\"type\"] = \"actual\"\n",
    "plottingdf = plottingdf.reset_index(drop=True)"
   ]
  },
  {
   "cell_type": "code",
   "execution_count": 164,
   "id": "25c657ad-42d6-4b79-b0da-c92b47231fce",
   "metadata": {},
   "outputs": [],
   "source": [
    "prediction = [ deployment.predict(inputs=[input])['predictions'][0] for input in test_input]"
   ]
  },
  {
   "cell_type": "code",
   "execution_count": 165,
   "id": "3f1fd673-3943-45e0-8218-739672ad7bd7",
   "metadata": {},
   "outputs": [],
   "source": [
    "pred = [p[0] for p in prediction]"
   ]
  },
  {
   "cell_type": "code",
   "execution_count": 178,
   "id": "cff402de-d726-4c1b-9dfe-2bb7da84a4a5",
   "metadata": {},
   "outputs": [],
   "source": [
    "pred_df = pd.concat([testx.date_time, pd.DataFrame(pred,columns=[\"femman_pm25\"])], axis =1)\n",
    "pred_df[\"type\"] = \"predication\"\n",
    "pred_df = pred_df.reset_index(drop=True)\n",
    "new_df = pd.concat([plottingdf, pred_df])\n",
    "new_df.reset_index()\n",
    "new_df[\"femman_pm25\"] = new_df[\"femman_pm25\"].astype(float)"
   ]
  },
  {
   "cell_type": "code",
   "execution_count": 179,
   "id": "5f3a1c1c-995f-4176-9f45-870b6c67459c",
   "metadata": {},
   "outputs": [
    {
     "data": {
      "application/vnd.plotly.v1+json": {
       "config": {
        "plotlyServerURL": "https://plot.ly"
       },
       "data": [
        {
         "hovertemplate": "type=actual<br>date_time=%{x}<br>femman_pm25=%{y}<extra></extra>",
         "legendgroup": "actual",
         "marker": {
          "color": "#636efa",
          "symbol": "circle"
         },
         "mode": "markers",
         "name": "actual",
         "orientation": "v",
         "showlegend": true,
         "type": "scatter",
         "x": [
          "2023-10-18T01:00:00+00:00",
          "2023-10-20T02:00:00+00:00",
          "2023-10-22T04:00:00+00:00",
          "2023-10-21T17:00:00+00:00",
          "2023-10-21T10:00:00+00:00",
          "2023-10-20T16:00:00+00:00",
          "2023-10-21T00:00:00+00:00",
          "2023-10-18T08:00:00+00:00",
          "2023-10-18T15:00:00+00:00",
          "2023-10-23T05:00:00+00:00",
          "2023-10-22T11:00:00+00:00",
          "2023-10-22T10:00:00+00:00",
          "2023-10-18T02:00:00+00:00",
          "2023-10-18T23:00:00+00:00",
          "2023-10-17T22:00:00+00:00",
          "2023-10-22T03:00:00+00:00",
          "2023-10-19T02:00:00+00:00",
          "2023-10-19T18:00:00+00:00",
          "2023-10-19T03:00:00+00:00",
          "2023-10-22T12:00:00+00:00",
          "2023-10-19T04:00:00+00:00",
          "2023-10-21T02:00:00+00:00",
          "2023-10-18T07:00:00+00:00",
          "2023-10-17T21:00:00+00:00",
          "2023-10-21T03:00:00+00:00",
          "2023-10-20T01:00:00+00:00",
          "2023-10-21T11:00:00+00:00",
          "2023-10-20T10:00:00+00:00",
          "2023-10-17T14:00:00+00:00",
          "2023-10-23T04:00:00+00:00",
          "2023-10-19T17:00:00+00:00",
          "2023-10-20T23:00:00+00:00",
          "2023-10-22T00:00:00+00:00",
          "2023-10-18T03:00:00+00:00",
          "2023-10-20T14:00:00+00:00",
          "2023-10-18T22:00:00+00:00",
          "2023-10-19T08:00:00+00:00",
          "2023-10-20T09:00:00+00:00",
          "2023-10-19T23:00:00+00:00",
          "2023-10-20T00:00:00+00:00",
          "2023-10-19T01:00:00+00:00",
          "2023-10-17T20:00:00+00:00",
          "2023-10-20T15:00:00+00:00",
          "2023-10-20T22:00:00+00:00",
          "2023-10-22T01:00:00+00:00",
          "2023-10-20T08:00:00+00:00",
          "2023-10-23T01:00:00+00:00",
          "2023-10-18T14:00:00+00:00",
          "2023-10-21T16:00:00+00:00",
          "2023-10-18T21:00:00+00:00",
          "2023-10-19T22:00:00+00:00",
          "2023-10-21T09:00:00+00:00",
          "2023-10-21T15:00:00+00:00",
          "2023-10-21T23:00:00+00:00",
          "2023-10-17T13:00:00+00:00",
          "2023-10-19T15:00:00+00:00",
          "2023-10-19T16:00:00+00:00",
          "2023-10-23T02:00:00+00:00",
          "2023-10-21T22:00:00+00:00",
          "2023-10-20T21:00:00+00:00",
          "2023-10-22T02:00:00+00:00",
          "2023-10-22T23:00:00+00:00",
          "2023-10-18T06:00:00+00:00",
          "2023-10-23T03:00:00+00:00",
          "2023-10-21T01:00:00+00:00",
          "2023-10-19T09:00:00+00:00",
          "2023-10-20T13:00:00+00:00",
          "2023-10-23T00:00:00+00:00",
          "2023-10-22T20:00:00+00:00",
          "2023-10-17T12:00:00+00:00",
          "2023-10-19T07:00:00+00:00",
          "2023-10-21T08:00:00+00:00",
          "2023-10-20T06:00:00+00:00",
          "2023-10-23T09:00:00+00:00",
          "2023-10-22T18:00:00+00:00",
          "2023-10-21T20:00:00+00:00",
          "2023-10-18T12:00:00+00:00",
          "2023-10-17T10:00:00+00:00",
          "2023-10-18T11:00:00+00:00",
          "2023-10-18T04:00:00+00:00",
          "2023-10-19T21:00:00+00:00",
          "2023-10-20T12:00:00+00:00",
          "2023-10-19T13:00:00+00:00",
          "2023-10-21T07:00:00+00:00",
          "2023-10-17T11:00:00+00:00",
          "2023-10-18T05:00:00+00:00",
          "2023-10-20T20:00:00+00:00",
          "2023-10-18T13:00:00+00:00",
          "2023-10-20T07:00:00+00:00",
          "2023-10-18T20:00:00+00:00",
          "2023-10-19T12:00:00+00:00",
          "2023-10-19T20:00:00+00:00",
          "2023-10-22T22:00:00+00:00",
          "2023-10-22T21:00:00+00:00",
          "2023-10-21T21:00:00+00:00",
          "2023-10-19T14:00:00+00:00",
          "2023-10-22T16:00:00+00:00",
          "2023-10-20T05:00:00+00:00",
          "2023-10-23T06:00:00+00:00",
          "2023-10-18T10:00:00+00:00",
          "2023-10-22T15:00:00+00:00",
          "2023-10-19T11:00:00+00:00",
          "2023-10-21T19:00:00+00:00",
          "2023-10-22T09:00:00+00:00",
          "2023-10-22T08:00:00+00:00",
          "2023-10-23T07:00:00+00:00",
          "2023-10-17T19:00:00+00:00",
          "2023-10-22T17:00:00+00:00",
          "2023-10-20T18:00:00+00:00",
          "2023-10-23T08:00:00+00:00",
          "2023-10-18T19:00:00+00:00",
          "2023-10-21T14:00:00+00:00",
          "2023-10-20T19:00:00+00:00",
          "2023-10-17T18:00:00+00:00",
          "2023-10-19T06:00:00+00:00",
          "2023-10-19T10:00:00+00:00",
          "2023-10-21T13:00:00+00:00",
          "2023-10-17T23:00:00+00:00",
          "2023-10-18T00:00:00+00:00",
          "2023-10-18T16:00:00+00:00",
          "2023-10-22T19:00:00+00:00",
          "2023-10-19T00:00:00+00:00",
          "2023-10-22T14:00:00+00:00",
          "2023-10-17T17:00:00+00:00",
          "2023-10-20T03:00:00+00:00",
          "2023-10-22T05:00:00+00:00",
          "2023-10-20T04:00:00+00:00",
          "2023-10-22T06:00:00+00:00",
          "2023-10-17T16:00:00+00:00",
          "2023-10-22T13:00:00+00:00",
          "2023-10-21T05:00:00+00:00",
          "2023-10-17T15:00:00+00:00",
          "2023-10-18T18:00:00+00:00",
          "2023-10-21T18:00:00+00:00",
          "2023-10-20T17:00:00+00:00",
          "2023-10-18T17:00:00+00:00",
          "2023-10-21T12:00:00+00:00",
          "2023-10-19T05:00:00+00:00",
          "2023-10-22T07:00:00+00:00",
          "2023-10-21T04:00:00+00:00",
          "2023-10-21T06:00:00+00:00",
          "2023-10-18T09:00:00+00:00",
          "2023-10-20T11:00:00+00:00",
          "2023-10-19T19:00:00+00:00",
          null,
          null,
          null,
          null,
          null,
          null,
          null,
          null,
          null,
          null,
          null,
          null,
          null,
          null,
          null,
          null,
          null,
          null,
          null,
          null,
          null,
          null,
          null,
          null
         ],
         "xaxis": "x",
         "y": [
          1.6068,
          0.82135,
          2.2133,
          7.63495,
          8.1292,
          1.97525,
          6.60815,
          3.31727,
          4.26082,
          5.7729,
          3.95397,
          2.30827,
          3.09985,
          4.81887,
          1.53408,
          -0.928067,
          -1.3823,
          -0.885201,
          -0.657451,
          0.852,
          5.48197,
          4.3994,
          4.30943,
          9.8278,
          7.7718,
          0.828383,
          4.34555,
          0.741016,
          0.606649,
          0.700001,
          0.737316,
          1.34222,
          0.0999335,
          -0.14915,
          3.17807,
          -0.555917,
          -1.17098,
          0.699667,
          0.0698667,
          0.17155,
          2.16425,
          -0.215584,
          0.557866,
          0.457433,
          2.8026,
          2.74072,
          2.6218,
          1.35098,
          1.53848,
          -0.1513,
          1.86138,
          1.08133,
          0.6822,
          1.49263,
          1.3734,
          -0.280167,
          3.527,
          0.0587666,
          3.02137,
          0.801867,
          1.01275,
          1.47067,
          2.07598,
          3.7439,
          -0.357083,
          -1.76708,
          2.14677,
          1.3564,
          3.31365,
          2.15388,
          1.13613,
          3.17755,
          3.2877,
          3.83805,
          0.644116,
          2.02797,
          0.1896,
          1.32213,
          0.119033,
          4.59845,
          1.13695,
          -1.7163,
          0.240483,
          -0.227317,
          0.64665,
          -0.428383,
          -0.514183,
          -1.01393,
          0.0228668,
          2.12852,
          0.8298,
          1.41695,
          2.86582,
          -0.15385,
          0.804116,
          1.78515,
          2.89495,
          2.21242,
          0.976851,
          1.7488,
          2.19402,
          -0.5108,
          2.11435,
          3.5245,
          0.132133,
          -0.741266,
          2.29297,
          4.52554,
          0.878533,
          -1.8595,
          1.58572,
          -1.32353,
          2.33,
          -1.18788,
          -0.935984,
          1.3743,
          0.296751,
          -1.33753,
          2.12063,
          1.2844,
          -1.27487,
          2.82857,
          0.719584,
          0.546433,
          0.68875,
          1.2188,
          2.37325,
          1.42523,
          4.47915,
          3.34943,
          5.22095,
          5.08578,
          4.50273,
          5.67851,
          3.79305,
          2.49235,
          5.55843,
          4.21435,
          4.2591,
          1.99663,
          1.14047,
          -0.274416,
          2.48928,
          5.56399,
          5.68045,
          7.6442,
          9.3177,
          7.10143,
          5.63785,
          3.59529,
          4.8876,
          6.3861,
          4.26154,
          4.22838,
          0.548867,
          0.8839,
          2.91715,
          1.45613,
          -0.134183,
          5.1183,
          0.420249,
          0.323267,
          3.96393,
          1.37055,
          0.103916,
          -0.53035,
          2.14482,
          -0.752106
         ],
         "yaxis": "y"
        },
        {
         "hovertemplate": "type=predication<br>date_time=%{x}<br>femman_pm25=%{y}<extra></extra>",
         "legendgroup": "predication",
         "marker": {
          "color": "#EF553B",
          "symbol": "circle"
         },
         "mode": "markers",
         "name": "predication",
         "orientation": "v",
         "showlegend": true,
         "type": "scatter",
         "x": [
          "2023-10-18T01:00:00+00:00",
          "2023-10-20T02:00:00+00:00",
          "2023-10-22T04:00:00+00:00",
          "2023-10-21T17:00:00+00:00",
          "2023-10-21T10:00:00+00:00",
          "2023-10-20T16:00:00+00:00",
          "2023-10-21T00:00:00+00:00",
          "2023-10-18T08:00:00+00:00",
          "2023-10-18T15:00:00+00:00",
          "2023-10-23T05:00:00+00:00",
          "2023-10-22T11:00:00+00:00",
          "2023-10-22T10:00:00+00:00",
          "2023-10-18T02:00:00+00:00",
          "2023-10-18T23:00:00+00:00",
          "2023-10-17T22:00:00+00:00",
          "2023-10-22T03:00:00+00:00",
          "2023-10-19T02:00:00+00:00",
          "2023-10-19T18:00:00+00:00",
          "2023-10-19T03:00:00+00:00",
          "2023-10-22T12:00:00+00:00",
          "2023-10-19T04:00:00+00:00",
          "2023-10-21T02:00:00+00:00",
          "2023-10-18T07:00:00+00:00",
          "2023-10-17T21:00:00+00:00",
          "2023-10-21T03:00:00+00:00",
          "2023-10-20T01:00:00+00:00",
          "2023-10-21T11:00:00+00:00",
          "2023-10-20T10:00:00+00:00",
          "2023-10-17T14:00:00+00:00",
          "2023-10-23T04:00:00+00:00",
          "2023-10-19T17:00:00+00:00",
          "2023-10-20T23:00:00+00:00",
          "2023-10-22T00:00:00+00:00",
          "2023-10-18T03:00:00+00:00",
          "2023-10-20T14:00:00+00:00",
          "2023-10-18T22:00:00+00:00",
          "2023-10-19T08:00:00+00:00",
          "2023-10-20T09:00:00+00:00",
          "2023-10-19T23:00:00+00:00",
          "2023-10-20T00:00:00+00:00",
          "2023-10-19T01:00:00+00:00",
          "2023-10-17T20:00:00+00:00",
          "2023-10-20T15:00:00+00:00",
          "2023-10-20T22:00:00+00:00",
          "2023-10-22T01:00:00+00:00",
          "2023-10-20T08:00:00+00:00",
          "2023-10-23T01:00:00+00:00",
          "2023-10-18T14:00:00+00:00",
          "2023-10-21T16:00:00+00:00",
          "2023-10-18T21:00:00+00:00",
          "2023-10-19T22:00:00+00:00",
          "2023-10-21T09:00:00+00:00",
          "2023-10-21T15:00:00+00:00",
          "2023-10-21T23:00:00+00:00",
          "2023-10-17T13:00:00+00:00",
          "2023-10-19T15:00:00+00:00",
          "2023-10-19T16:00:00+00:00",
          "2023-10-23T02:00:00+00:00",
          "2023-10-21T22:00:00+00:00",
          "2023-10-20T21:00:00+00:00",
          "2023-10-22T02:00:00+00:00",
          "2023-10-22T23:00:00+00:00",
          "2023-10-18T06:00:00+00:00",
          "2023-10-23T03:00:00+00:00",
          "2023-10-21T01:00:00+00:00",
          "2023-10-19T09:00:00+00:00",
          "2023-10-20T13:00:00+00:00",
          "2023-10-23T00:00:00+00:00",
          "2023-10-22T20:00:00+00:00",
          "2023-10-17T12:00:00+00:00",
          "2023-10-19T07:00:00+00:00",
          "2023-10-21T08:00:00+00:00",
          "2023-10-20T06:00:00+00:00",
          "2023-10-23T09:00:00+00:00",
          "2023-10-22T18:00:00+00:00",
          "2023-10-21T20:00:00+00:00",
          "2023-10-18T12:00:00+00:00",
          "2023-10-17T10:00:00+00:00",
          "2023-10-18T11:00:00+00:00",
          "2023-10-18T04:00:00+00:00",
          "2023-10-19T21:00:00+00:00",
          "2023-10-20T12:00:00+00:00",
          "2023-10-19T13:00:00+00:00",
          "2023-10-21T07:00:00+00:00",
          "2023-10-17T11:00:00+00:00",
          "2023-10-18T05:00:00+00:00",
          "2023-10-20T20:00:00+00:00",
          "2023-10-18T13:00:00+00:00",
          "2023-10-20T07:00:00+00:00",
          "2023-10-18T20:00:00+00:00",
          "2023-10-19T12:00:00+00:00",
          "2023-10-19T20:00:00+00:00",
          "2023-10-22T22:00:00+00:00",
          "2023-10-22T21:00:00+00:00",
          "2023-10-21T21:00:00+00:00",
          "2023-10-19T14:00:00+00:00",
          "2023-10-22T16:00:00+00:00",
          "2023-10-20T05:00:00+00:00",
          "2023-10-23T06:00:00+00:00",
          "2023-10-18T10:00:00+00:00",
          "2023-10-22T15:00:00+00:00",
          "2023-10-19T11:00:00+00:00",
          "2023-10-21T19:00:00+00:00",
          "2023-10-22T09:00:00+00:00",
          "2023-10-22T08:00:00+00:00",
          "2023-10-23T07:00:00+00:00",
          "2023-10-17T19:00:00+00:00",
          "2023-10-22T17:00:00+00:00",
          "2023-10-20T18:00:00+00:00",
          "2023-10-23T08:00:00+00:00",
          "2023-10-18T19:00:00+00:00",
          "2023-10-21T14:00:00+00:00",
          "2023-10-20T19:00:00+00:00",
          "2023-10-17T18:00:00+00:00",
          "2023-10-19T06:00:00+00:00",
          "2023-10-19T10:00:00+00:00",
          "2023-10-21T13:00:00+00:00",
          "2023-10-17T23:00:00+00:00",
          "2023-10-18T00:00:00+00:00",
          "2023-10-18T16:00:00+00:00",
          "2023-10-22T19:00:00+00:00",
          "2023-10-19T00:00:00+00:00",
          "2023-10-22T14:00:00+00:00",
          "2023-10-17T17:00:00+00:00",
          "2023-10-20T03:00:00+00:00",
          "2023-10-22T05:00:00+00:00",
          "2023-10-20T04:00:00+00:00",
          "2023-10-22T06:00:00+00:00",
          "2023-10-17T16:00:00+00:00",
          "2023-10-22T13:00:00+00:00",
          "2023-10-21T05:00:00+00:00",
          "2023-10-17T15:00:00+00:00",
          "2023-10-18T18:00:00+00:00",
          "2023-10-21T18:00:00+00:00",
          "2023-10-20T17:00:00+00:00",
          "2023-10-18T17:00:00+00:00",
          "2023-10-21T12:00:00+00:00",
          "2023-10-19T05:00:00+00:00",
          "2023-10-22T07:00:00+00:00",
          "2023-10-21T04:00:00+00:00",
          "2023-10-21T06:00:00+00:00",
          "2023-10-18T09:00:00+00:00",
          "2023-10-20T11:00:00+00:00",
          "2023-10-19T19:00:00+00:00"
         ],
         "xaxis": "x",
         "y": [
          2.0632536381056727,
          -5.810281833727766,
          -2.394210068902119,
          -0.28293784117644805,
          -2.3447565567513227,
          -8.076183165434381,
          -2.3584457785307045,
          6.74813727749966,
          2.786558958430673,
          0.19273761173032966,
          1.2692301424153278,
          -2.996923892396781,
          1.3372853564943519,
          -3.429279537430391,
          6.486144185238588,
          -3.2610016486921687,
          -1.083211607870485,
          -0.7601835092978959,
          -4.161097015244227,
          -1.4467953997813439,
          -4.923647842599088,
          -5.7569019500116845,
          2.4373294061892157,
          7.59371362509293,
          -4.011292254569954,
          -1.4800976651181639,
          -3.6173622920875292,
          3.126742474209175,
          12.173661604540177,
          3.361288676098466,
          -5.811088178161919,
          -1.576302240988177,
          -1.2014700478292717,
          -0.31196600683227693,
          0.3238251868897333,
          -5.042570154058431,
          -1.2407243639441763,
          -1.1142616929840177,
          -4.647775498953104,
          -2.881589144396525,
          -3.0287284993166175,
          8.265047146373517,
          -6.146760118913896,
          -2.757632489322148,
          -3.502703794286461,
          -4.253002647336492,
          1.9264599860168232,
          3.265570873037925,
          -1.898260438495484,
          -4.271848755776791,
          -4.045466403131639,
          -4.20109349007455,
          -4.896800358551991,
          -3.780702451660428,
          10.448891423087156,
          -20.00235259771008,
          -2.1016469424070543,
          2.78219220675056,
          -1.7324048842761126,
          -5.644937487194451,
          -0.047241223588457615,
          4.44280890926308,
          -0.7058961633140743,
          3.3574632305237007,
          -5.716756737858946,
          0.13658547782027064,
          -4.020779570925779,
          1.3901616958389411,
          3.8794298375875176,
          4.823592407023762,
          0.2431969603359878,
          -5.1597531502908875,
          -2.6111530636441174,
          7.206352275968827,
          1.5815186992243433,
          -1.2891126147120318,
          4.965461224619693,
          5.088448187464538,
          4.339422105129371,
          -2.431356051212372,
          -4.0934418136430395,
          -48.60068057131024,
          10.486280350177777,
          -5.8290231521109455,
          2.2798702476358965,
          0.5523978328791017,
          -5.392704195445296,
          -0.05551846160976126,
          -2.7915650244963057,
          0.00844404645559571,
          4.259147003311158,
          -1.5515109001446579,
          2.854178502355479,
          3.7363448693336085,
          0.7923542034787303,
          0.7297225606894777,
          0.2955792313332779,
          -3.7431827982686947,
          -0.12907141215497653,
          22.135166173835927,
          -0.7707340354728291,
          -4.774436421572201,
          -4.598617663984941,
          -0.1366514144687816,
          0.303305208427318,
          -1.0790491882927853,
          10.056968063385623,
          -1.2552673998883925,
          -3.7693561282297825,
          1.0720190490966743,
          -1.4111568853942398,
          -1.887336428391185,
          -7.031447417238086,
          9.718708255649636,
          -0.887010068075611,
          -3.2592568845986634,
          -2.8572692431419586,
          5.281400410399618,
          4.7141043592399665,
          3.768033164976641,
          0.9769517579837448,
          -2.8499665279849804,
          -3.039446294026778,
          10.315403171458636,
          -6.571247260234611,
          -0.05583755298923876,
          -2.8387407580169732,
          -1.392923200890447,
          12.050371042171703,
          -1.810108871471856,
          -3.479460006559421,
          7.056547319085551,
          -0.012533158681685919,
          -3.9691376002007868,
          4.610547248076189,
          0.5040672778939239,
          -3.6515373315125625,
          -5.126182717468145,
          -2.219326023170945,
          -4.97748505805505,
          -2.3312967278776853,
          14.338636663316555,
          4.499670213312475,
          -3.7705662786561387
         ],
         "yaxis": "y"
        }
       ],
       "layout": {
        "autosize": true,
        "legend": {
         "title": {
          "text": "type"
         },
         "tracegroupgap": 0
        },
        "margin": {
         "t": 60
        },
        "template": {
         "data": {
          "bar": [
           {
            "error_x": {
             "color": "#2a3f5f"
            },
            "error_y": {
             "color": "#2a3f5f"
            },
            "marker": {
             "line": {
              "color": "#E5ECF6",
              "width": 0.5
             },
             "pattern": {
              "fillmode": "overlay",
              "size": 10,
              "solidity": 0.2
             }
            },
            "type": "bar"
           }
          ],
          "barpolar": [
           {
            "marker": {
             "line": {
              "color": "#E5ECF6",
              "width": 0.5
             },
             "pattern": {
              "fillmode": "overlay",
              "size": 10,
              "solidity": 0.2
             }
            },
            "type": "barpolar"
           }
          ],
          "carpet": [
           {
            "aaxis": {
             "endlinecolor": "#2a3f5f",
             "gridcolor": "white",
             "linecolor": "white",
             "minorgridcolor": "white",
             "startlinecolor": "#2a3f5f"
            },
            "baxis": {
             "endlinecolor": "#2a3f5f",
             "gridcolor": "white",
             "linecolor": "white",
             "minorgridcolor": "white",
             "startlinecolor": "#2a3f5f"
            },
            "type": "carpet"
           }
          ],
          "choropleth": [
           {
            "colorbar": {
             "outlinewidth": 0,
             "ticks": ""
            },
            "type": "choropleth"
           }
          ],
          "contour": [
           {
            "colorbar": {
             "outlinewidth": 0,
             "ticks": ""
            },
            "colorscale": [
             [
              0,
              "#0d0887"
             ],
             [
              0.1111111111111111,
              "#46039f"
             ],
             [
              0.2222222222222222,
              "#7201a8"
             ],
             [
              0.3333333333333333,
              "#9c179e"
             ],
             [
              0.4444444444444444,
              "#bd3786"
             ],
             [
              0.5555555555555556,
              "#d8576b"
             ],
             [
              0.6666666666666666,
              "#ed7953"
             ],
             [
              0.7777777777777778,
              "#fb9f3a"
             ],
             [
              0.8888888888888888,
              "#fdca26"
             ],
             [
              1,
              "#f0f921"
             ]
            ],
            "type": "contour"
           }
          ],
          "contourcarpet": [
           {
            "colorbar": {
             "outlinewidth": 0,
             "ticks": ""
            },
            "type": "contourcarpet"
           }
          ],
          "heatmap": [
           {
            "colorbar": {
             "outlinewidth": 0,
             "ticks": ""
            },
            "colorscale": [
             [
              0,
              "#0d0887"
             ],
             [
              0.1111111111111111,
              "#46039f"
             ],
             [
              0.2222222222222222,
              "#7201a8"
             ],
             [
              0.3333333333333333,
              "#9c179e"
             ],
             [
              0.4444444444444444,
              "#bd3786"
             ],
             [
              0.5555555555555556,
              "#d8576b"
             ],
             [
              0.6666666666666666,
              "#ed7953"
             ],
             [
              0.7777777777777778,
              "#fb9f3a"
             ],
             [
              0.8888888888888888,
              "#fdca26"
             ],
             [
              1,
              "#f0f921"
             ]
            ],
            "type": "heatmap"
           }
          ],
          "heatmapgl": [
           {
            "colorbar": {
             "outlinewidth": 0,
             "ticks": ""
            },
            "colorscale": [
             [
              0,
              "#0d0887"
             ],
             [
              0.1111111111111111,
              "#46039f"
             ],
             [
              0.2222222222222222,
              "#7201a8"
             ],
             [
              0.3333333333333333,
              "#9c179e"
             ],
             [
              0.4444444444444444,
              "#bd3786"
             ],
             [
              0.5555555555555556,
              "#d8576b"
             ],
             [
              0.6666666666666666,
              "#ed7953"
             ],
             [
              0.7777777777777778,
              "#fb9f3a"
             ],
             [
              0.8888888888888888,
              "#fdca26"
             ],
             [
              1,
              "#f0f921"
             ]
            ],
            "type": "heatmapgl"
           }
          ],
          "histogram": [
           {
            "marker": {
             "pattern": {
              "fillmode": "overlay",
              "size": 10,
              "solidity": 0.2
             }
            },
            "type": "histogram"
           }
          ],
          "histogram2d": [
           {
            "colorbar": {
             "outlinewidth": 0,
             "ticks": ""
            },
            "colorscale": [
             [
              0,
              "#0d0887"
             ],
             [
              0.1111111111111111,
              "#46039f"
             ],
             [
              0.2222222222222222,
              "#7201a8"
             ],
             [
              0.3333333333333333,
              "#9c179e"
             ],
             [
              0.4444444444444444,
              "#bd3786"
             ],
             [
              0.5555555555555556,
              "#d8576b"
             ],
             [
              0.6666666666666666,
              "#ed7953"
             ],
             [
              0.7777777777777778,
              "#fb9f3a"
             ],
             [
              0.8888888888888888,
              "#fdca26"
             ],
             [
              1,
              "#f0f921"
             ]
            ],
            "type": "histogram2d"
           }
          ],
          "histogram2dcontour": [
           {
            "colorbar": {
             "outlinewidth": 0,
             "ticks": ""
            },
            "colorscale": [
             [
              0,
              "#0d0887"
             ],
             [
              0.1111111111111111,
              "#46039f"
             ],
             [
              0.2222222222222222,
              "#7201a8"
             ],
             [
              0.3333333333333333,
              "#9c179e"
             ],
             [
              0.4444444444444444,
              "#bd3786"
             ],
             [
              0.5555555555555556,
              "#d8576b"
             ],
             [
              0.6666666666666666,
              "#ed7953"
             ],
             [
              0.7777777777777778,
              "#fb9f3a"
             ],
             [
              0.8888888888888888,
              "#fdca26"
             ],
             [
              1,
              "#f0f921"
             ]
            ],
            "type": "histogram2dcontour"
           }
          ],
          "mesh3d": [
           {
            "colorbar": {
             "outlinewidth": 0,
             "ticks": ""
            },
            "type": "mesh3d"
           }
          ],
          "parcoords": [
           {
            "line": {
             "colorbar": {
              "outlinewidth": 0,
              "ticks": ""
             }
            },
            "type": "parcoords"
           }
          ],
          "pie": [
           {
            "automargin": true,
            "type": "pie"
           }
          ],
          "scatter": [
           {
            "fillpattern": {
             "fillmode": "overlay",
             "size": 10,
             "solidity": 0.2
            },
            "type": "scatter"
           }
          ],
          "scatter3d": [
           {
            "line": {
             "colorbar": {
              "outlinewidth": 0,
              "ticks": ""
             }
            },
            "marker": {
             "colorbar": {
              "outlinewidth": 0,
              "ticks": ""
             }
            },
            "type": "scatter3d"
           }
          ],
          "scattercarpet": [
           {
            "marker": {
             "colorbar": {
              "outlinewidth": 0,
              "ticks": ""
             }
            },
            "type": "scattercarpet"
           }
          ],
          "scattergeo": [
           {
            "marker": {
             "colorbar": {
              "outlinewidth": 0,
              "ticks": ""
             }
            },
            "type": "scattergeo"
           }
          ],
          "scattergl": [
           {
            "marker": {
             "colorbar": {
              "outlinewidth": 0,
              "ticks": ""
             }
            },
            "type": "scattergl"
           }
          ],
          "scattermapbox": [
           {
            "marker": {
             "colorbar": {
              "outlinewidth": 0,
              "ticks": ""
             }
            },
            "type": "scattermapbox"
           }
          ],
          "scatterpolar": [
           {
            "marker": {
             "colorbar": {
              "outlinewidth": 0,
              "ticks": ""
             }
            },
            "type": "scatterpolar"
           }
          ],
          "scatterpolargl": [
           {
            "marker": {
             "colorbar": {
              "outlinewidth": 0,
              "ticks": ""
             }
            },
            "type": "scatterpolargl"
           }
          ],
          "scatterternary": [
           {
            "marker": {
             "colorbar": {
              "outlinewidth": 0,
              "ticks": ""
             }
            },
            "type": "scatterternary"
           }
          ],
          "surface": [
           {
            "colorbar": {
             "outlinewidth": 0,
             "ticks": ""
            },
            "colorscale": [
             [
              0,
              "#0d0887"
             ],
             [
              0.1111111111111111,
              "#46039f"
             ],
             [
              0.2222222222222222,
              "#7201a8"
             ],
             [
              0.3333333333333333,
              "#9c179e"
             ],
             [
              0.4444444444444444,
              "#bd3786"
             ],
             [
              0.5555555555555556,
              "#d8576b"
             ],
             [
              0.6666666666666666,
              "#ed7953"
             ],
             [
              0.7777777777777778,
              "#fb9f3a"
             ],
             [
              0.8888888888888888,
              "#fdca26"
             ],
             [
              1,
              "#f0f921"
             ]
            ],
            "type": "surface"
           }
          ],
          "table": [
           {
            "cells": {
             "fill": {
              "color": "#EBF0F8"
             },
             "line": {
              "color": "white"
             }
            },
            "header": {
             "fill": {
              "color": "#C8D4E3"
             },
             "line": {
              "color": "white"
             }
            },
            "type": "table"
           }
          ]
         },
         "layout": {
          "annotationdefaults": {
           "arrowcolor": "#2a3f5f",
           "arrowhead": 0,
           "arrowwidth": 1
          },
          "autotypenumbers": "strict",
          "coloraxis": {
           "colorbar": {
            "outlinewidth": 0,
            "ticks": ""
           }
          },
          "colorscale": {
           "diverging": [
            [
             0,
             "#8e0152"
            ],
            [
             0.1,
             "#c51b7d"
            ],
            [
             0.2,
             "#de77ae"
            ],
            [
             0.3,
             "#f1b6da"
            ],
            [
             0.4,
             "#fde0ef"
            ],
            [
             0.5,
             "#f7f7f7"
            ],
            [
             0.6,
             "#e6f5d0"
            ],
            [
             0.7,
             "#b8e186"
            ],
            [
             0.8,
             "#7fbc41"
            ],
            [
             0.9,
             "#4d9221"
            ],
            [
             1,
             "#276419"
            ]
           ],
           "sequential": [
            [
             0,
             "#0d0887"
            ],
            [
             0.1111111111111111,
             "#46039f"
            ],
            [
             0.2222222222222222,
             "#7201a8"
            ],
            [
             0.3333333333333333,
             "#9c179e"
            ],
            [
             0.4444444444444444,
             "#bd3786"
            ],
            [
             0.5555555555555556,
             "#d8576b"
            ],
            [
             0.6666666666666666,
             "#ed7953"
            ],
            [
             0.7777777777777778,
             "#fb9f3a"
            ],
            [
             0.8888888888888888,
             "#fdca26"
            ],
            [
             1,
             "#f0f921"
            ]
           ],
           "sequentialminus": [
            [
             0,
             "#0d0887"
            ],
            [
             0.1111111111111111,
             "#46039f"
            ],
            [
             0.2222222222222222,
             "#7201a8"
            ],
            [
             0.3333333333333333,
             "#9c179e"
            ],
            [
             0.4444444444444444,
             "#bd3786"
            ],
            [
             0.5555555555555556,
             "#d8576b"
            ],
            [
             0.6666666666666666,
             "#ed7953"
            ],
            [
             0.7777777777777778,
             "#fb9f3a"
            ],
            [
             0.8888888888888888,
             "#fdca26"
            ],
            [
             1,
             "#f0f921"
            ]
           ]
          },
          "colorway": [
           "#636efa",
           "#EF553B",
           "#00cc96",
           "#ab63fa",
           "#FFA15A",
           "#19d3f3",
           "#FF6692",
           "#B6E880",
           "#FF97FF",
           "#FECB52"
          ],
          "font": {
           "color": "#2a3f5f"
          },
          "geo": {
           "bgcolor": "white",
           "lakecolor": "white",
           "landcolor": "#E5ECF6",
           "showlakes": true,
           "showland": true,
           "subunitcolor": "white"
          },
          "hoverlabel": {
           "align": "left"
          },
          "hovermode": "closest",
          "mapbox": {
           "style": "light"
          },
          "paper_bgcolor": "white",
          "plot_bgcolor": "#E5ECF6",
          "polar": {
           "angularaxis": {
            "gridcolor": "white",
            "linecolor": "white",
            "ticks": ""
           },
           "bgcolor": "#E5ECF6",
           "radialaxis": {
            "gridcolor": "white",
            "linecolor": "white",
            "ticks": ""
           }
          },
          "scene": {
           "xaxis": {
            "backgroundcolor": "#E5ECF6",
            "gridcolor": "white",
            "gridwidth": 2,
            "linecolor": "white",
            "showbackground": true,
            "ticks": "",
            "zerolinecolor": "white"
           },
           "yaxis": {
            "backgroundcolor": "#E5ECF6",
            "gridcolor": "white",
            "gridwidth": 2,
            "linecolor": "white",
            "showbackground": true,
            "ticks": "",
            "zerolinecolor": "white"
           },
           "zaxis": {
            "backgroundcolor": "#E5ECF6",
            "gridcolor": "white",
            "gridwidth": 2,
            "linecolor": "white",
            "showbackground": true,
            "ticks": "",
            "zerolinecolor": "white"
           }
          },
          "shapedefaults": {
           "line": {
            "color": "#2a3f5f"
           }
          },
          "ternary": {
           "aaxis": {
            "gridcolor": "white",
            "linecolor": "white",
            "ticks": ""
           },
           "baxis": {
            "gridcolor": "white",
            "linecolor": "white",
            "ticks": ""
           },
           "bgcolor": "#E5ECF6",
           "caxis": {
            "gridcolor": "white",
            "linecolor": "white",
            "ticks": ""
           }
          },
          "title": {
           "x": 0.05
          },
          "xaxis": {
           "automargin": true,
           "gridcolor": "white",
           "linecolor": "white",
           "ticks": "",
           "title": {
            "standoff": 15
           },
           "zerolinecolor": "white",
           "zerolinewidth": 2
          },
          "yaxis": {
           "automargin": true,
           "gridcolor": "white",
           "linecolor": "white",
           "ticks": "",
           "title": {
            "standoff": 15
           },
           "zerolinecolor": "white",
           "zerolinewidth": 2
          }
         }
        },
        "xaxis": {
         "anchor": "y",
         "autorange": true,
         "domain": [
          0,
          1
         ],
         "range": [
          "2023-10-17 01:11:59.4313",
          "2023-10-23 17:48:00.5687"
         ],
         "title": {
          "text": "date_time"
         },
         "type": "date"
        },
        "yaxis": {
         "anchor": "x",
         "autorange": true,
         "domain": [
          0,
          1
         ],
         "range": [
          -54.077603088322874,
          27.61208869084856
         ],
         "title": {
          "text": "femman_pm25"
         },
         "type": "linear"
        }
       }
      },
      "image/png": "[encoded data removed]",
      "text/html": [
       "<div>                            <div id=\"9aa06f5b-658e-4fc1-87a3-3cee6d98800e\" class=\"plotly-graph-div\" style=\"height:525px; width:100%;\"></div>            <script type=\"text/javascript\">                require([\"plotly\"], function(Plotly) {                    window.PLOTLYENV=window.PLOTLYENV || {};                                    if (document.getElementById(\"9aa06f5b-658e-4fc1-87a3-3cee6d98800e\")) {                    Plotly.newPlot(                        \"9aa06f5b-658e-4fc1-87a3-3cee6d98800e\",                        [{\"hovertemplate\":\"type=actual\\u003cbr\\u003edate_time=%{x}\\u003cbr\\u003efemman_pm25=%{y}\\u003cextra\\u003e\\u003c\\u002fextra\\u003e\",\"legendgroup\":\"actual\",\"marker\":{\"color\":\"#636efa\",\"symbol\":\"circle\"},\"mode\":\"markers\",\"name\":\"actual\",\"orientation\":\"v\",\"showlegend\":true,\"x\":[\"2023-10-18T01:00:00+00:00\",\"2023-10-20T02:00:00+00:00\",\"2023-10-22T04:00:00+00:00\",\"2023-10-21T17:00:00+00:00\",\"2023-10-21T10:00:00+00:00\",\"2023-10-20T16:00:00+00:00\",\"2023-10-21T00:00:00+00:00\",\"2023-10-18T08:00:00+00:00\",\"2023-10-18T15:00:00+00:00\",\"2023-10-23T05:00:00+00:00\",\"2023-10-22T11:00:00+00:00\",\"2023-10-22T10:00:00+00:00\",\"2023-10-18T02:00:00+00:00\",\"2023-10-18T23:00:00+00:00\",\"2023-10-17T22:00:00+00:00\",\"2023-10-22T03:00:00+00:00\",\"2023-10-19T02:00:00+00:00\",\"2023-10-19T18:00:00+00:00\",\"2023-10-19T03:00:00+00:00\",\"2023-10-22T12:00:00+00:00\",\"2023-10-19T04:00:00+00:00\",\"2023-10-21T02:00:00+00:00\",\"2023-10-18T07:00:00+00:00\",\"2023-10-17T21:00:00+00:00\",\"2023-10-21T03:00:00+00:00\",\"2023-10-20T01:00:00+00:00\",\"2023-10-21T11:00:00+00:00\",\"2023-10-20T10:00:00+00:00\",\"2023-10-17T14:00:00+00:00\",\"2023-10-23T04:00:00+00:00\",\"2023-10-19T17:00:00+00:00\",\"2023-10-20T23:00:00+00:00\",\"2023-10-22T00:00:00+00:00\",\"2023-10-18T03:00:00+00:00\",\"2023-10-20T14:00:00+00:00\",\"2023-10-18T22:00:00+00:00\",\"2023-10-19T08:00:00+00:00\",\"2023-10-20T09:00:00+00:00\",\"2023-10-19T23:00:00+00:00\",\"2023-10-20T00:00:00+00:00\",\"2023-10-19T01:00:00+00:00\",\"2023-10-17T20:00:00+00:00\",\"2023-10-20T15:00:00+00:00\",\"2023-10-20T22:00:00+00:00\",\"2023-10-22T01:00:00+00:00\",\"2023-10-20T08:00:00+00:00\",\"2023-10-23T01:00:00+00:00\",\"2023-10-18T14:00:00+00:00\",\"2023-10-21T16:00:00+00:00\",\"2023-10-18T21:00:00+00:00\",\"2023-10-19T22:00:00+00:00\",\"2023-10-21T09:00:00+00:00\",\"2023-10-21T15:00:00+00:00\",\"2023-10-21T23:00:00+00:00\",\"2023-10-17T13:00:00+00:00\",\"2023-10-19T15:00:00+00:00\",\"2023-10-19T16:00:00+00:00\",\"2023-10-23T02:00:00+00:00\",\"2023-10-21T22:00:00+00:00\",\"2023-10-20T21:00:00+00:00\",\"2023-10-22T02:00:00+00:00\",\"2023-10-22T23:00:00+00:00\",\"2023-10-18T06:00:00+00:00\",\"2023-10-23T03:00:00+00:00\",\"2023-10-21T01:00:00+00:00\",\"2023-10-19T09:00:00+00:00\",\"2023-10-20T13:00:00+00:00\",\"2023-10-23T00:00:00+00:00\",\"2023-10-22T20:00:00+00:00\",\"2023-10-17T12:00:00+00:00\",\"2023-10-19T07:00:00+00:00\",\"2023-10-21T08:00:00+00:00\",\"2023-10-20T06:00:00+00:00\",\"2023-10-23T09:00:00+00:00\",\"2023-10-22T18:00:00+00:00\",\"2023-10-21T20:00:00+00:00\",\"2023-10-18T12:00:00+00:00\",\"2023-10-17T10:00:00+00:00\",\"2023-10-18T11:00:00+00:00\",\"2023-10-18T04:00:00+00:00\",\"2023-10-19T21:00:00+00:00\",\"2023-10-20T12:00:00+00:00\",\"2023-10-19T13:00:00+00:00\",\"2023-10-21T07:00:00+00:00\",\"2023-10-17T11:00:00+00:00\",\"2023-10-18T05:00:00+00:00\",\"2023-10-20T20:00:00+00:00\",\"2023-10-18T13:00:00+00:00\",\"2023-10-20T07:00:00+00:00\",\"2023-10-18T20:00:00+00:00\",\"2023-10-19T12:00:00+00:00\",\"2023-10-19T20:00:00+00:00\",\"2023-10-22T22:00:00+00:00\",\"2023-10-22T21:00:00+00:00\",\"2023-10-21T21:00:00+00:00\",\"2023-10-19T14:00:00+00:00\",\"2023-10-22T16:00:00+00:00\",\"2023-10-20T05:00:00+00:00\",\"2023-10-23T06:00:00+00:00\",\"2023-10-18T10:00:00+00:00\",\"2023-10-22T15:00:00+00:00\",\"2023-10-19T11:00:00+00:00\",\"2023-10-21T19:00:00+00:00\",\"2023-10-22T09:00:00+00:00\",\"2023-10-22T08:00:00+00:00\",\"2023-10-23T07:00:00+00:00\",\"2023-10-17T19:00:00+00:00\",\"2023-10-22T17:00:00+00:00\",\"2023-10-20T18:00:00+00:00\",\"2023-10-23T08:00:00+00:00\",\"2023-10-18T19:00:00+00:00\",\"2023-10-21T14:00:00+00:00\",\"2023-10-20T19:00:00+00:00\",\"2023-10-17T18:00:00+00:00\",\"2023-10-19T06:00:00+00:00\",\"2023-10-19T10:00:00+00:00\",\"2023-10-21T13:00:00+00:00\",\"2023-10-17T23:00:00+00:00\",\"2023-10-18T00:00:00+00:00\",\"2023-10-18T16:00:00+00:00\",\"2023-10-22T19:00:00+00:00\",\"2023-10-19T00:00:00+00:00\",\"2023-10-22T14:00:00+00:00\",\"2023-10-17T17:00:00+00:00\",\"2023-10-20T03:00:00+00:00\",\"2023-10-22T05:00:00+00:00\",\"2023-10-20T04:00:00+00:00\",\"2023-10-22T06:00:00+00:00\",\"2023-10-17T16:00:00+00:00\",\"2023-10-22T13:00:00+00:00\",\"2023-10-21T05:00:00+00:00\",\"2023-10-17T15:00:00+00:00\",\"2023-10-18T18:00:00+00:00\",\"2023-10-21T18:00:00+00:00\",\"2023-10-20T17:00:00+00:00\",\"2023-10-18T17:00:00+00:00\",\"2023-10-21T12:00:00+00:00\",\"2023-10-19T05:00:00+00:00\",\"2023-10-22T07:00:00+00:00\",\"2023-10-21T04:00:00+00:00\",\"2023-10-21T06:00:00+00:00\",\"2023-10-18T09:00:00+00:00\",\"2023-10-20T11:00:00+00:00\",\"2023-10-19T19:00:00+00:00\",null,null,null,null,null,null,null,null,null,null,null,null,null,null,null,null,null,null,null,null,null,null,null,null],\"xaxis\":\"x\",\"y\":[1.6068,0.82135,2.2133,7.63495,8.1292,1.97525,6.60815,3.31727,4.26082,5.7729,3.95397,2.30827,3.09985,4.81887,1.53408,-0.928067,-1.3823,-0.885201,-0.657451,0.852,5.48197,4.3994,4.30943,9.8278,7.7718,0.828383,4.34555,0.741016,0.606649,0.700001,0.737316,1.34222,0.0999335,-0.14915,3.17807,-0.555917,-1.17098,0.699667,0.0698667,0.17155,2.16425,-0.215584,0.557866,0.457433,2.8026,2.74072,2.6218,1.35098,1.53848,-0.1513,1.86138,1.08133,0.6822,1.49263,1.3734,-0.280167,3.527,0.0587666,3.02137,0.801867,1.01275,1.47067,2.07598,3.7439,-0.357083,-1.76708,2.14677,1.3564,3.31365,2.15388,1.13613,3.17755,3.2877,3.83805,0.644116,2.02797,0.1896,1.32213,0.119033,4.59845,1.13695,-1.7163,0.240483,-0.227317,0.64665,-0.428383,-0.514183,-1.01393,0.0228668,2.12852,0.8298,1.41695,2.86582,-0.15385,0.804116,1.78515,2.89495,2.21242,0.976851,1.7488,2.19402,-0.5108,2.11435,3.5245,0.132133,-0.741266,2.29297,4.52554,0.878533,-1.8595,1.58572,-1.32353,2.33,-1.18788,-0.935984,1.3743,0.296751,-1.33753,2.12063,1.2844,-1.27487,2.82857,0.719584,0.546433,0.68875,1.2188,2.37325,1.42523,4.47915,3.34943,5.22095,5.08578,4.50273,5.67851,3.79305,2.49235,5.55843,4.21435,4.2591,1.99663,1.14047,-0.274416,2.48928,5.56399,5.68045,7.6442,9.3177,7.10143,5.63785,3.59529,4.8876,6.3861,4.26154,4.22838,0.548867,0.8839,2.91715,1.45613,-0.134183,5.1183,0.420249,0.323267,3.96393,1.37055,0.103916,-0.53035,2.14482,-0.752106],\"yaxis\":\"y\",\"type\":\"scatter\"},{\"hovertemplate\":\"type=predication\\u003cbr\\u003edate_time=%{x}\\u003cbr\\u003efemman_pm25=%{y}\\u003cextra\\u003e\\u003c\\u002fextra\\u003e\",\"legendgroup\":\"predication\",\"marker\":{\"color\":\"#EF553B\",\"symbol\":\"circle\"},\"mode\":\"markers\",\"name\":\"predication\",\"orientation\":\"v\",\"showlegend\":true,\"x\":[\"2023-10-18T01:00:00+00:00\",\"2023-10-20T02:00:00+00:00\",\"2023-10-22T04:00:00+00:00\",\"2023-10-21T17:00:00+00:00\",\"2023-10-21T10:00:00+00:00\",\"2023-10-20T16:00:00+00:00\",\"2023-10-21T00:00:00+00:00\",\"2023-10-18T08:00:00+00:00\",\"2023-10-18T15:00:00+00:00\",\"2023-10-23T05:00:00+00:00\",\"2023-10-22T11:00:00+00:00\",\"2023-10-22T10:00:00+00:00\",\"2023-10-18T02:00:00+00:00\",\"2023-10-18T23:00:00+00:00\",\"2023-10-17T22:00:00+00:00\",\"2023-10-22T03:00:00+00:00\",\"2023-10-19T02:00:00+00:00\",\"2023-10-19T18:00:00+00:00\",\"2023-10-19T03:00:00+00:00\",\"2023-10-22T12:00:00+00:00\",\"2023-10-19T04:00:00+00:00\",\"2023-10-21T02:00:00+00:00\",\"2023-10-18T07:00:00+00:00\",\"2023-10-17T21:00:00+00:00\",\"2023-10-21T03:00:00+00:00\",\"2023-10-20T01:00:00+00:00\",\"2023-10-21T11:00:00+00:00\",\"2023-10-20T10:00:00+00:00\",\"2023-10-17T14:00:00+00:00\",\"2023-10-23T04:00:00+00:00\",\"2023-10-19T17:00:00+00:00\",\"2023-10-20T23:00:00+00:00\",\"2023-10-22T00:00:00+00:00\",\"2023-10-18T03:00:00+00:00\",\"2023-10-20T14:00:00+00:00\",\"2023-10-18T22:00:00+00:00\",\"2023-10-19T08:00:00+00:00\",\"2023-10-20T09:00:00+00:00\",\"2023-10-19T23:00:00+00:00\",\"2023-10-20T00:00:00+00:00\",\"2023-10-19T01:00:00+00:00\",\"2023-10-17T20:00:00+00:00\",\"2023-10-20T15:00:00+00:00\",\"2023-10-20T22:00:00+00:00\",\"2023-10-22T01:00:00+00:00\",\"2023-10-20T08:00:00+00:00\",\"2023-10-23T01:00:00+00:00\",\"2023-10-18T14:00:00+00:00\",\"2023-10-21T16:00:00+00:00\",\"2023-10-18T21:00:00+00:00\",\"2023-10-19T22:00:00+00:00\",\"2023-10-21T09:00:00+00:00\",\"2023-10-21T15:00:00+00:00\",\"2023-10-21T23:00:00+00:00\",\"2023-10-17T13:00:00+00:00\",\"2023-10-19T15:00:00+00:00\",\"2023-10-19T16:00:00+00:00\",\"2023-10-23T02:00:00+00:00\",\"2023-10-21T22:00:00+00:00\",\"2023-10-20T21:00:00+00:00\",\"2023-10-22T02:00:00+00:00\",\"2023-10-22T23:00:00+00:00\",\"2023-10-18T06:00:00+00:00\",\"2023-10-23T03:00:00+00:00\",\"2023-10-21T01:00:00+00:00\",\"2023-10-19T09:00:00+00:00\",\"2023-10-20T13:00:00+00:00\",\"2023-10-23T00:00:00+00:00\",\"2023-10-22T20:00:00+00:00\",\"2023-10-17T12:00:00+00:00\",\"2023-10-19T07:00:00+00:00\",\"2023-10-21T08:00:00+00:00\",\"2023-10-20T06:00:00+00:00\",\"2023-10-23T09:00:00+00:00\",\"2023-10-22T18:00:00+00:00\",\"2023-10-21T20:00:00+00:00\",\"2023-10-18T12:00:00+00:00\",\"2023-10-17T10:00:00+00:00\",\"2023-10-18T11:00:00+00:00\",\"2023-10-18T04:00:00+00:00\",\"2023-10-19T21:00:00+00:00\",\"2023-10-20T12:00:00+00:00\",\"2023-10-19T13:00:00+00:00\",\"2023-10-21T07:00:00+00:00\",\"2023-10-17T11:00:00+00:00\",\"2023-10-18T05:00:00+00:00\",\"2023-10-20T20:00:00+00:00\",\"2023-10-18T13:00:00+00:00\",\"2023-10-20T07:00:00+00:00\",\"2023-10-18T20:00:00+00:00\",\"2023-10-19T12:00:00+00:00\",\"2023-10-19T20:00:00+00:00\",\"2023-10-22T22:00:00+00:00\",\"2023-10-22T21:00:00+00:00\",\"2023-10-21T21:00:00+00:00\",\"2023-10-19T14:00:00+00:00\",\"2023-10-22T16:00:00+00:00\",\"2023-10-20T05:00:00+00:00\",\"2023-10-23T06:00:00+00:00\",\"2023-10-18T10:00:00+00:00\",\"2023-10-22T15:00:00+00:00\",\"2023-10-19T11:00:00+00:00\",\"2023-10-21T19:00:00+00:00\",\"2023-10-22T09:00:00+00:00\",\"2023-10-22T08:00:00+00:00\",\"2023-10-23T07:00:00+00:00\",\"2023-10-17T19:00:00+00:00\",\"2023-10-22T17:00:00+00:00\",\"2023-10-20T18:00:00+00:00\",\"2023-10-23T08:00:00+00:00\",\"2023-10-18T19:00:00+00:00\",\"2023-10-21T14:00:00+00:00\",\"2023-10-20T19:00:00+00:00\",\"2023-10-17T18:00:00+00:00\",\"2023-10-19T06:00:00+00:00\",\"2023-10-19T10:00:00+00:00\",\"2023-10-21T13:00:00+00:00\",\"2023-10-17T23:00:00+00:00\",\"2023-10-18T00:00:00+00:00\",\"2023-10-18T16:00:00+00:00\",\"2023-10-22T19:00:00+00:00\",\"2023-10-19T00:00:00+00:00\",\"2023-10-22T14:00:00+00:00\",\"2023-10-17T17:00:00+00:00\",\"2023-10-20T03:00:00+00:00\",\"2023-10-22T05:00:00+00:00\",\"2023-10-20T04:00:00+00:00\",\"2023-10-22T06:00:00+00:00\",\"2023-10-17T16:00:00+00:00\",\"2023-10-22T13:00:00+00:00\",\"2023-10-21T05:00:00+00:00\",\"2023-10-17T15:00:00+00:00\",\"2023-10-18T18:00:00+00:00\",\"2023-10-21T18:00:00+00:00\",\"2023-10-20T17:00:00+00:00\",\"2023-10-18T17:00:00+00:00\",\"2023-10-21T12:00:00+00:00\",\"2023-10-19T05:00:00+00:00\",\"2023-10-22T07:00:00+00:00\",\"2023-10-21T04:00:00+00:00\",\"2023-10-21T06:00:00+00:00\",\"2023-10-18T09:00:00+00:00\",\"2023-10-20T11:00:00+00:00\",\"2023-10-19T19:00:00+00:00\"],\"xaxis\":\"x\",\"y\":[2.0632536381056727,-5.810281833727766,-2.394210068902119,-0.28293784117644805,-2.3447565567513227,-8.076183165434381,-2.3584457785307045,6.74813727749966,2.786558958430673,0.19273761173032966,1.2692301424153278,-2.996923892396781,1.3372853564943519,-3.429279537430391,6.486144185238588,-3.2610016486921687,-1.083211607870485,-0.7601835092978959,-4.161097015244227,-1.4467953997813439,-4.923647842599088,-5.7569019500116845,2.4373294061892157,7.59371362509293,-4.011292254569954,-1.4800976651181639,-3.6173622920875292,3.126742474209175,12.173661604540177,3.361288676098466,-5.811088178161919,-1.576302240988177,-1.2014700478292717,-0.31196600683227693,0.3238251868897333,-5.042570154058431,-1.2407243639441763,-1.1142616929840177,-4.647775498953104,-2.881589144396525,-3.0287284993166175,8.265047146373517,-6.146760118913896,-2.757632489322148,-3.502703794286461,-4.253002647336492,1.9264599860168232,3.265570873037925,-1.898260438495484,-4.271848755776791,-4.045466403131639,-4.20109349007455,-4.896800358551991,-3.780702451660428,10.448891423087156,-20.00235259771008,-2.1016469424070543,2.78219220675056,-1.7324048842761126,-5.644937487194451,-0.047241223588457615,4.44280890926308,-0.7058961633140743,3.3574632305237007,-5.716756737858946,0.13658547782027064,-4.020779570925779,1.3901616958389411,3.8794298375875176,4.823592407023762,0.2431969603359878,-5.1597531502908875,-2.6111530636441174,7.206352275968827,1.5815186992243433,-1.2891126147120318,4.965461224619693,5.088448187464538,4.339422105129371,-2.431356051212372,-4.0934418136430395,-48.60068057131024,10.486280350177777,-5.8290231521109455,2.2798702476358965,0.5523978328791017,-5.392704195445296,-0.05551846160976126,-2.7915650244963057,0.00844404645559571,4.259147003311158,-1.5515109001446579,2.854178502355479,3.7363448693336085,0.7923542034787303,0.7297225606894777,0.2955792313332779,-3.7431827982686947,-0.12907141215497653,22.135166173835927,-0.7707340354728291,-4.774436421572201,-4.598617663984941,-0.1366514144687816,0.303305208427318,-1.0790491882927853,10.056968063385623,-1.2552673998883925,-3.7693561282297825,1.0720190490966743,-1.4111568853942398,-1.887336428391185,-7.031447417238086,9.718708255649636,-0.887010068075611,-3.2592568845986634,-2.8572692431419586,5.281400410399618,4.7141043592399665,3.768033164976641,0.9769517579837448,-2.8499665279849804,-3.039446294026778,10.315403171458636,-6.571247260234611,-0.05583755298923876,-2.8387407580169732,-1.392923200890447,12.050371042171703,-1.810108871471856,-3.479460006559421,7.056547319085551,-0.012533158681685919,-3.9691376002007868,4.610547248076189,0.5040672778939239,-3.6515373315125625,-5.126182717468145,-2.219326023170945,-4.97748505805505,-2.3312967278776853,14.338636663316555,4.499670213312475,-3.7705662786561387],\"yaxis\":\"y\",\"type\":\"scatter\"}],                        {\"template\":{\"data\":{\"histogram2dcontour\":[{\"type\":\"histogram2dcontour\",\"colorbar\":{\"outlinewidth\":0,\"ticks\":\"\"},\"colorscale\":[[0.0,\"#0d0887\"],[0.1111111111111111,\"#46039f\"],[0.2222222222222222,\"#7201a8\"],[0.3333333333333333,\"#9c179e\"],[0.4444444444444444,\"#bd3786\"],[0.5555555555555556,\"#d8576b\"],[0.6666666666666666,\"#ed7953\"],[0.7777777777777778,\"#fb9f3a\"],[0.8888888888888888,\"#fdca26\"],[1.0,\"#f0f921\"]]}],\"choropleth\":[{\"type\":\"choropleth\",\"colorbar\":{\"outlinewidth\":0,\"ticks\":\"\"}}],\"histogram2d\":[{\"type\":\"histogram2d\",\"colorbar\":{\"outlinewidth\":0,\"ticks\":\"\"},\"colorscale\":[[0.0,\"#0d0887\"],[0.1111111111111111,\"#46039f\"],[0.2222222222222222,\"#7201a8\"],[0.3333333333333333,\"#9c179e\"],[0.4444444444444444,\"#bd3786\"],[0.5555555555555556,\"#d8576b\"],[0.6666666666666666,\"#ed7953\"],[0.7777777777777778,\"#fb9f3a\"],[0.8888888888888888,\"#fdca26\"],[1.0,\"#f0f921\"]]}],\"heatmap\":[{\"type\":\"heatmap\",\"colorbar\":{\"outlinewidth\":0,\"ticks\":\"\"},\"colorscale\":[[0.0,\"#0d0887\"],[0.1111111111111111,\"#46039f\"],[0.2222222222222222,\"#7201a8\"],[0.3333333333333333,\"#9c179e\"],[0.4444444444444444,\"#bd3786\"],[0.5555555555555556,\"#d8576b\"],[0.6666666666666666,\"#ed7953\"],[0.7777777777777778,\"#fb9f3a\"],[0.8888888888888888,\"#fdca26\"],[1.0,\"#f0f921\"]]}],\"heatmapgl\":[{\"type\":\"heatmapgl\",\"colorbar\":{\"outlinewidth\":0,\"ticks\":\"\"},\"colorscale\":[[0.0,\"#0d0887\"],[0.1111111111111111,\"#46039f\"],[0.2222222222222222,\"#7201a8\"],[0.3333333333333333,\"#9c179e\"],[0.4444444444444444,\"#bd3786\"],[0.5555555555555556,\"#d8576b\"],[0.6666666666666666,\"#ed7953\"],[0.7777777777777778,\"#fb9f3a\"],[0.8888888888888888,\"#fdca26\"],[1.0,\"#f0f921\"]]}],\"contourcarpet\":[{\"type\":\"contourcarpet\",\"colorbar\":{\"outlinewidth\":0,\"ticks\":\"\"}}],\"contour\":[{\"type\":\"contour\",\"colorbar\":{\"outlinewidth\":0,\"ticks\":\"\"},\"colorscale\":[[0.0,\"#0d0887\"],[0.1111111111111111,\"#46039f\"],[0.2222222222222222,\"#7201a8\"],[0.3333333333333333,\"#9c179e\"],[0.4444444444444444,\"#bd3786\"],[0.5555555555555556,\"#d8576b\"],[0.6666666666666666,\"#ed7953\"],[0.7777777777777778,\"#fb9f3a\"],[0.8888888888888888,\"#fdca26\"],[1.0,\"#f0f921\"]]}],\"surface\":[{\"type\":\"surface\",\"colorbar\":{\"outlinewidth\":0,\"ticks\":\"\"},\"colorscale\":[[0.0,\"#0d0887\"],[0.1111111111111111,\"#46039f\"],[0.2222222222222222,\"#7201a8\"],[0.3333333333333333,\"#9c179e\"],[0.4444444444444444,\"#bd3786\"],[0.5555555555555556,\"#d8576b\"],[0.6666666666666666,\"#ed7953\"],[0.7777777777777778,\"#fb9f3a\"],[0.8888888888888888,\"#fdca26\"],[1.0,\"#f0f921\"]]}],\"mesh3d\":[{\"type\":\"mesh3d\",\"colorbar\":{\"outlinewidth\":0,\"ticks\":\"\"}}],\"scatter\":[{\"fillpattern\":{\"fillmode\":\"overlay\",\"size\":10,\"solidity\":0.2},\"type\":\"scatter\"}],\"parcoords\":[{\"type\":\"parcoords\",\"line\":{\"colorbar\":{\"outlinewidth\":0,\"ticks\":\"\"}}}],\"scatterpolargl\":[{\"type\":\"scatterpolargl\",\"marker\":{\"colorbar\":{\"outlinewidth\":0,\"ticks\":\"\"}}}],\"bar\":[{\"error_x\":{\"color\":\"#2a3f5f\"},\"error_y\":{\"color\":\"#2a3f5f\"},\"marker\":{\"line\":{\"color\":\"#E5ECF6\",\"width\":0.5},\"pattern\":{\"fillmode\":\"overlay\",\"size\":10,\"solidity\":0.2}},\"type\":\"bar\"}],\"scattergeo\":[{\"type\":\"scattergeo\",\"marker\":{\"colorbar\":{\"outlinewidth\":0,\"ticks\":\"\"}}}],\"scatterpolar\":[{\"type\":\"scatterpolar\",\"marker\":{\"colorbar\":{\"outlinewidth\":0,\"ticks\":\"\"}}}],\"histogram\":[{\"marker\":{\"pattern\":{\"fillmode\":\"overlay\",\"size\":10,\"solidity\":0.2}},\"type\":\"histogram\"}],\"scattergl\":[{\"type\":\"scattergl\",\"marker\":{\"colorbar\":{\"outlinewidth\":0,\"ticks\":\"\"}}}],\"scatter3d\":[{\"type\":\"scatter3d\",\"line\":{\"colorbar\":{\"outlinewidth\":0,\"ticks\":\"\"}},\"marker\":{\"colorbar\":{\"outlinewidth\":0,\"ticks\":\"\"}}}],\"scattermapbox\":[{\"type\":\"scattermapbox\",\"marker\":{\"colorbar\":{\"outlinewidth\":0,\"ticks\":\"\"}}}],\"scatterternary\":[{\"type\":\"scatterternary\",\"marker\":{\"colorbar\":{\"outlinewidth\":0,\"ticks\":\"\"}}}],\"scattercarpet\":[{\"type\":\"scattercarpet\",\"marker\":{\"colorbar\":{\"outlinewidth\":0,\"ticks\":\"\"}}}],\"carpet\":[{\"aaxis\":{\"endlinecolor\":\"#2a3f5f\",\"gridcolor\":\"white\",\"linecolor\":\"white\",\"minorgridcolor\":\"white\",\"startlinecolor\":\"#2a3f5f\"},\"baxis\":{\"endlinecolor\":\"#2a3f5f\",\"gridcolor\":\"white\",\"linecolor\":\"white\",\"minorgridcolor\":\"white\",\"startlinecolor\":\"#2a3f5f\"},\"type\":\"carpet\"}],\"table\":[{\"cells\":{\"fill\":{\"color\":\"#EBF0F8\"},\"line\":{\"color\":\"white\"}},\"header\":{\"fill\":{\"color\":\"#C8D4E3\"},\"line\":{\"color\":\"white\"}},\"type\":\"table\"}],\"barpolar\":[{\"marker\":{\"line\":{\"color\":\"#E5ECF6\",\"width\":0.5},\"pattern\":{\"fillmode\":\"overlay\",\"size\":10,\"solidity\":0.2}},\"type\":\"barpolar\"}],\"pie\":[{\"automargin\":true,\"type\":\"pie\"}]},\"layout\":{\"autotypenumbers\":\"strict\",\"colorway\":[\"#636efa\",\"#EF553B\",\"#00cc96\",\"#ab63fa\",\"#FFA15A\",\"#19d3f3\",\"#FF6692\",\"#B6E880\",\"#FF97FF\",\"#FECB52\"],\"font\":{\"color\":\"#2a3f5f\"},\"hovermode\":\"closest\",\"hoverlabel\":{\"align\":\"left\"},\"paper_bgcolor\":\"white\",\"plot_bgcolor\":\"#E5ECF6\",\"polar\":{\"bgcolor\":\"#E5ECF6\",\"angularaxis\":{\"gridcolor\":\"white\",\"linecolor\":\"white\",\"ticks\":\"\"},\"radialaxis\":{\"gridcolor\":\"white\",\"linecolor\":\"white\",\"ticks\":\"\"}},\"ternary\":{\"bgcolor\":\"#E5ECF6\",\"aaxis\":{\"gridcolor\":\"white\",\"linecolor\":\"white\",\"ticks\":\"\"},\"baxis\":{\"gridcolor\":\"white\",\"linecolor\":\"white\",\"ticks\":\"\"},\"caxis\":{\"gridcolor\":\"white\",\"linecolor\":\"white\",\"ticks\":\"\"}},\"coloraxis\":{\"colorbar\":{\"outlinewidth\":0,\"ticks\":\"\"}},\"colorscale\":{\"sequential\":[[0.0,\"#0d0887\"],[0.1111111111111111,\"#46039f\"],[0.2222222222222222,\"#7201a8\"],[0.3333333333333333,\"#9c179e\"],[0.4444444444444444,\"#bd3786\"],[0.5555555555555556,\"#d8576b\"],[0.6666666666666666,\"#ed7953\"],[0.7777777777777778,\"#fb9f3a\"],[0.8888888888888888,\"#fdca26\"],[1.0,\"#f0f921\"]],\"sequentialminus\":[[0.0,\"#0d0887\"],[0.1111111111111111,\"#46039f\"],[0.2222222222222222,\"#7201a8\"],[0.3333333333333333,\"#9c179e\"],[0.4444444444444444,\"#bd3786\"],[0.5555555555555556,\"#d8576b\"],[0.6666666666666666,\"#ed7953\"],[0.7777777777777778,\"#fb9f3a\"],[0.8888888888888888,\"#fdca26\"],[1.0,\"#f0f921\"]],\"diverging\":[[0,\"#8e0152\"],[0.1,\"#c51b7d\"],[0.2,\"#de77ae\"],[0.3,\"#f1b6da\"],[0.4,\"#fde0ef\"],[0.5,\"#f7f7f7\"],[0.6,\"#e6f5d0\"],[0.7,\"#b8e186\"],[0.8,\"#7fbc41\"],[0.9,\"#4d9221\"],[1,\"#276419\"]]},\"xaxis\":{\"gridcolor\":\"white\",\"linecolor\":\"white\",\"ticks\":\"\",\"title\":{\"standoff\":15},\"zerolinecolor\":\"white\",\"automargin\":true,\"zerolinewidth\":2},\"yaxis\":{\"gridcolor\":\"white\",\"linecolor\":\"white\",\"ticks\":\"\",\"title\":{\"standoff\":15},\"zerolinecolor\":\"white\",\"automargin\":true,\"zerolinewidth\":2},\"scene\":{\"xaxis\":{\"backgroundcolor\":\"#E5ECF6\",\"gridcolor\":\"white\",\"linecolor\":\"white\",\"showbackground\":true,\"ticks\":\"\",\"zerolinecolor\":\"white\",\"gridwidth\":2},\"yaxis\":{\"backgroundcolor\":\"#E5ECF6\",\"gridcolor\":\"white\",\"linecolor\":\"white\",\"showbackground\":true,\"ticks\":\"\",\"zerolinecolor\":\"white\",\"gridwidth\":2},\"zaxis\":{\"backgroundcolor\":\"#E5ECF6\",\"gridcolor\":\"white\",\"linecolor\":\"white\",\"showbackground\":true,\"ticks\":\"\",\"zerolinecolor\":\"white\",\"gridwidth\":2}},\"shapedefaults\":{\"line\":{\"color\":\"#2a3f5f\"}},\"annotationdefaults\":{\"arrowcolor\":\"#2a3f5f\",\"arrowhead\":0,\"arrowwidth\":1},\"geo\":{\"bgcolor\":\"white\",\"landcolor\":\"#E5ECF6\",\"subunitcolor\":\"white\",\"showland\":true,\"showlakes\":true,\"lakecolor\":\"white\"},\"title\":{\"x\":0.05},\"mapbox\":{\"style\":\"light\"}}},\"xaxis\":{\"anchor\":\"y\",\"domain\":[0.0,1.0],\"title\":{\"text\":\"date_time\"}},\"yaxis\":{\"anchor\":\"x\",\"domain\":[0.0,1.0],\"title\":{\"text\":\"femman_pm25\"}},\"legend\":{\"title\":{\"text\":\"type\"},\"tracegroupgap\":0},\"margin\":{\"t\":60}},                        {\"responsive\": true}                    ).then(function(){\n",
       "                            \n",
       "var gd = document.getElementById('9aa06f5b-658e-4fc1-87a3-3cee6d98800e');\n",
       "var x = new MutationObserver(function (mutations, observer) {{\n",
       "        var display = window.getComputedStyle(gd).display;\n",
       "        if (!display || display === 'none') {{\n",
       "            console.log([gd, 'removed!']);\n",
       "            Plotly.purge(gd);\n",
       "            observer.disconnect();\n",
       "        }}\n",
       "}});\n",
       "\n",
       "// Listen for the removal of the full notebook cells\n",
       "var notebookContainer = gd.closest('#notebook-container');\n",
       "if (notebookContainer) {{\n",
       "    x.observe(notebookContainer, {childList: true});\n",
       "}}\n",
       "\n",
       "// Listen for the clearing of the current output cell\n",
       "var outputEl = gd.closest('.output');\n",
       "if (outputEl) {{\n",
       "    x.observe(outputEl, {childList: true});\n",
       "}}\n",
       "\n",
       "                        })                };                });            </script>        </div>"
      ]
     },
     "metadata": {},
     "output_type": "display_data"
    }
   ],
   "source": [
    "import plotly.express as px\n",
    "\n",
    "fig = px.scatter(new_df, x=\"date_time\", y=\"femman_pm25\", color=\"type\")\n",
    "fig.show()"
   ]
  },
  {
   "cell_type": "code",
   "execution_count": 175,
   "id": "3153460f-d247-4fe3-b373-6b4c94011231",
   "metadata": {},
   "outputs": [
    {
     "data": {
      "text/plain": [
       "0       1.606800\n",
       "1       0.821350\n",
       "2       2.213300\n",
       "3       7.634950\n",
       "4       8.129200\n",
       "         ...    \n",
       "139    -4.977485\n",
       "140    -2.331297\n",
       "141    14.338637\n",
       "142     4.499670\n",
       "143    -3.770566\n",
       "Name: femman_pm25, Length: 312, dtype: float64"
      ]
     },
     "execution_count": 175,
     "metadata": {},
     "output_type": "execute_result"
    }
   ],
   "source": [
    "new_df[\"femman_pm25\"].astype(float)"
   ]
  },
  {
   "cell_type": "markdown",
   "id": "c19323dc-d0e9-4f78-8be1-42764273a559",
   "metadata": {},
   "source": [
    "# Test code"
   ]
  },
  {
   "cell_type": "code",
   "execution_count": 1001,
   "id": "c7b69123-28ca-4b31-a393-06907850b369",
   "metadata": {},
   "outputs": [
    {
     "name": "stdout",
     "output_type": "stream",
     "text": [
      "Connection closed.\n",
      "Connected. Call `.close()` to terminate connection gracefully.\n",
      "\n",
      "Logged in to project, explore it here https://c.app.hopsworks.ai:443/p/140436\n",
      "Connected. Call `.close()` to terminate connection gracefully.\n"
     ]
    }
   ],
   "source": [
    "project = hopsworks.login(api_key_file=\"api_key\")\n",
    "fs = project.get_feature_store()\n",
    "FEAURE_GROUP_VERSION = 1"
   ]
  },
  {
   "cell_type": "code",
   "execution_count": 1002,
   "id": "fedfd447-64e0-4e77-9411-f878a078e185",
   "metadata": {},
   "outputs": [
    {
     "ename": "RestAPIError",
     "evalue": "Metadata operation error: (url: https://c.app.hopsworks.ai/hopsworks-api/api/project/140436/featurestores/140355/featureview). Server response: \nHTTP code: 404, HTTP reason: Not Found, body: b'{\"errorCode\":270009,\"usrMsg\":\"Could not find feature group with ID null\",\"errorMsg\":\"Featuregroup wasn\\'t found.\"}', error code: 270009, error msg: Featuregroup wasn't found., user msg: Could not find feature group with ID null",
     "output_type": "error",
     "traceback": [
      "\u001b[0;31m---------------------------------------------------------------------------\u001b[0m",
      "\u001b[0;31mRestAPIError\u001b[0m                              Traceback (most recent call last)",
      "Cell \u001b[0;32mIn[1002], line 12\u001b[0m\n\u001b[1;32m     11\u001b[0m \u001b[38;5;28;01mtry\u001b[39;00m:\n\u001b[0;32m---> 12\u001b[0m     fv \u001b[38;5;241m=\u001b[39m \u001b[43mfs\u001b[49m\u001b[38;5;241;43m.\u001b[39;49m\u001b[43mget_feature_view\u001b[49m\u001b[43m(\u001b[49m\u001b[43mname\u001b[49m\u001b[38;5;241;43m=\u001b[39;49m\u001b[38;5;124;43m\"\u001b[39;49m\u001b[38;5;124;43mpredicted_air_quality_regression_fv\u001b[39;49m\u001b[38;5;124;43m\"\u001b[39;49m\u001b[43m,\u001b[49m\u001b[43m \u001b[49m\u001b[43mversion\u001b[49m\u001b[38;5;241;43m=\u001b[39;49m\u001b[43mFEAURE_GROUP_VERSION\u001b[49m\u001b[43m)\u001b[49m\n\u001b[1;32m     13\u001b[0m \u001b[38;5;28;01mexcept\u001b[39;00m:\n",
      "File \u001b[0;32m~/anaconda3/envs/venv_ml/lib/python3.9/site-packages/hsfs/feature_store.py:1555\u001b[0m, in \u001b[0;36mFeatureStore.get_feature_view\u001b[0;34m(self, name, version)\u001b[0m\n\u001b[1;32m   1554\u001b[0m     version \u001b[38;5;241m=\u001b[39m \u001b[38;5;28mself\u001b[39m\u001b[38;5;241m.\u001b[39mDEFAULT_VERSION\n\u001b[0;32m-> 1555\u001b[0m \u001b[38;5;28;01mreturn\u001b[39;00m \u001b[38;5;28;43mself\u001b[39;49m\u001b[38;5;241;43m.\u001b[39;49m\u001b[43m_feature_view_engine\u001b[49m\u001b[38;5;241;43m.\u001b[39;49m\u001b[43mget\u001b[49m\u001b[43m(\u001b[49m\u001b[43mname\u001b[49m\u001b[43m,\u001b[49m\u001b[43m \u001b[49m\u001b[43mversion\u001b[49m\u001b[43m)\u001b[49m\n",
      "File \u001b[0;32m~/anaconda3/envs/venv_ml/lib/python3.9/site-packages/hsfs/core/feature_view_engine.py:96\u001b[0m, in \u001b[0;36mFeatureViewEngine.get\u001b[0;34m(self, name, version)\u001b[0m\n\u001b[1;32m     95\u001b[0m \u001b[38;5;28;01mif\u001b[39;00m version:\n\u001b[0;32m---> 96\u001b[0m     fv \u001b[38;5;241m=\u001b[39m \u001b[38;5;28;43mself\u001b[39;49m\u001b[38;5;241;43m.\u001b[39;49m\u001b[43m_feature_view_api\u001b[49m\u001b[38;5;241;43m.\u001b[39;49m\u001b[43mget_by_name_version\u001b[49m\u001b[43m(\u001b[49m\u001b[43mname\u001b[49m\u001b[43m,\u001b[49m\u001b[43m \u001b[49m\u001b[43mversion\u001b[49m\u001b[43m)\u001b[49m\n\u001b[1;32m     97\u001b[0m     \u001b[38;5;28mself\u001b[39m\u001b[38;5;241m.\u001b[39mattach_transformation_function(fv)\n",
      "File \u001b[0;32m~/anaconda3/envs/venv_ml/lib/python3.9/site-packages/hsfs/core/feature_view_api.py:113\u001b[0m, in \u001b[0;36mFeatureViewApi.get_by_name_version\u001b[0;34m(self, name, version)\u001b[0m\n\u001b[1;32m    112\u001b[0m \u001b[38;5;28;01melse\u001b[39;00m:\n\u001b[0;32m--> 113\u001b[0m     \u001b[38;5;28;01mraise\u001b[39;00m e\n",
      "File \u001b[0;32m~/anaconda3/envs/venv_ml/lib/python3.9/site-packages/hsfs/core/feature_view_api.py:101\u001b[0m, in \u001b[0;36mFeatureViewApi.get_by_name_version\u001b[0;34m(self, name, version)\u001b[0m\n\u001b[1;32m     99\u001b[0m \u001b[38;5;28;01mtry\u001b[39;00m:\n\u001b[1;32m    100\u001b[0m     \u001b[38;5;28;01mreturn\u001b[39;00m feature_view\u001b[38;5;241m.\u001b[39mFeatureView\u001b[38;5;241m.\u001b[39mfrom_response_json(\n\u001b[0;32m--> 101\u001b[0m         \u001b[38;5;28;43mself\u001b[39;49m\u001b[38;5;241;43m.\u001b[39;49m\u001b[43m_client\u001b[49m\u001b[38;5;241;43m.\u001b[39;49m\u001b[43m_send_request\u001b[49m\u001b[43m(\u001b[49m\n\u001b[1;32m    102\u001b[0m \u001b[43m            \u001b[49m\u001b[38;5;28;43mself\u001b[39;49m\u001b[38;5;241;43m.\u001b[39;49m\u001b[43m_GET\u001b[49m\u001b[43m,\u001b[49m\u001b[43m \u001b[49m\u001b[43mpath\u001b[49m\u001b[43m,\u001b[49m\u001b[43m \u001b[49m\u001b[43m{\u001b[49m\u001b[38;5;124;43m\"\u001b[39;49m\u001b[38;5;124;43mexpand\u001b[39;49m\u001b[38;5;124;43m\"\u001b[39;49m\u001b[43m:\u001b[49m\u001b[43m \u001b[49m\u001b[43m[\u001b[49m\u001b[38;5;124;43m\"\u001b[39;49m\u001b[38;5;124;43mquery\u001b[39;49m\u001b[38;5;124;43m\"\u001b[39;49m\u001b[43m,\u001b[49m\u001b[43m \u001b[49m\u001b[38;5;124;43m\"\u001b[39;49m\u001b[38;5;124;43mfeatures\u001b[39;49m\u001b[38;5;124;43m\"\u001b[39;49m\u001b[43m]\u001b[49m\u001b[43m}\u001b[49m\n\u001b[1;32m    103\u001b[0m \u001b[43m        \u001b[49m\u001b[43m)\u001b[49m\n\u001b[1;32m    104\u001b[0m     )\n\u001b[1;32m    105\u001b[0m \u001b[38;5;28;01mexcept\u001b[39;00m RestAPIError \u001b[38;5;28;01mas\u001b[39;00m e:\n",
      "File \u001b[0;32m~/anaconda3/envs/venv_ml/lib/python3.9/site-packages/hsfs/decorators.py:35\u001b[0m, in \u001b[0;36mconnected.<locals>.if_connected\u001b[0;34m(inst, *args, **kwargs)\u001b[0m\n\u001b[1;32m     34\u001b[0m     \u001b[38;5;28;01mraise\u001b[39;00m NoHopsworksConnectionError\n\u001b[0;32m---> 35\u001b[0m \u001b[38;5;28;01mreturn\u001b[39;00m \u001b[43mfn\u001b[49m\u001b[43m(\u001b[49m\u001b[43minst\u001b[49m\u001b[43m,\u001b[49m\u001b[43m \u001b[49m\u001b[38;5;241;43m*\u001b[39;49m\u001b[43margs\u001b[49m\u001b[43m,\u001b[49m\u001b[43m \u001b[49m\u001b[38;5;241;43m*\u001b[39;49m\u001b[38;5;241;43m*\u001b[39;49m\u001b[43mkwargs\u001b[49m\u001b[43m)\u001b[49m\n",
      "File \u001b[0;32m~/anaconda3/envs/venv_ml/lib/python3.9/site-packages/hsfs/client/base.py:179\u001b[0m, in \u001b[0;36mClient._send_request\u001b[0;34m(self, method, path_params, query_params, headers, data, stream, files)\u001b[0m\n\u001b[1;32m    178\u001b[0m \u001b[38;5;28;01mif\u001b[39;00m response\u001b[38;5;241m.\u001b[39mstatus_code \u001b[38;5;241m/\u001b[39m\u001b[38;5;241m/\u001b[39m \u001b[38;5;241m100\u001b[39m \u001b[38;5;241m!=\u001b[39m \u001b[38;5;241m2\u001b[39m:\n\u001b[0;32m--> 179\u001b[0m     \u001b[38;5;28;01mraise\u001b[39;00m exceptions\u001b[38;5;241m.\u001b[39mRestAPIError(url, response)\n\u001b[1;32m    181\u001b[0m \u001b[38;5;28;01mif\u001b[39;00m stream:\n",
      "\u001b[0;31mRestAPIError\u001b[0m: Metadata operation error: (url: https://c.app.hopsworks.ai/hopsworks-api/api/project/140436/featurestores/140355/featureview/predicted_air_quality_regression_fv/version/1). Server response: \nHTTP code: 404, HTTP reason: Not Found, body: b'{\"errorCode\":270181,\"usrMsg\":\"There exists no feature view with the name predicted_air_quality_regression_fv and version 1.\",\"errorMsg\":\"Feature view wasn\\'t found.\"}', error code: 270181, error msg: Feature view wasn't found., user msg: There exists no feature view with the name predicted_air_quality_regression_fv and version 1.",
      "\nDuring handling of the above exception, another exception occurred:\n",
      "\u001b[0;31mRestAPIError\u001b[0m                              Traceback (most recent call last)",
      "Cell \u001b[0;32mIn[1002], line 14\u001b[0m\n\u001b[1;32m     12\u001b[0m     fv \u001b[38;5;241m=\u001b[39m fs\u001b[38;5;241m.\u001b[39mget_feature_view(name\u001b[38;5;241m=\u001b[39m\u001b[38;5;124m\"\u001b[39m\u001b[38;5;124mpredicted_air_quality_regression_fv\u001b[39m\u001b[38;5;124m\"\u001b[39m, version\u001b[38;5;241m=\u001b[39mFEAURE_GROUP_VERSION)\n\u001b[1;32m     13\u001b[0m \u001b[38;5;28;01mexcept\u001b[39;00m:\n\u001b[0;32m---> 14\u001b[0m     fv \u001b[38;5;241m=\u001b[39m \u001b[43mfs\u001b[49m\u001b[38;5;241;43m.\u001b[39;49m\u001b[43mcreate_feature_view\u001b[49m\u001b[43m(\u001b[49m\u001b[43mname\u001b[49m\u001b[38;5;241;43m=\u001b[39;49m\u001b[38;5;124;43m\"\u001b[39;49m\u001b[38;5;124;43mpredicted_air_quality_regression_fv\u001b[39;49m\u001b[38;5;124;43m\"\u001b[39;49m\u001b[43m,\u001b[49m\n\u001b[1;32m     15\u001b[0m \u001b[43m                                       \u001b[49m\u001b[43mquery\u001b[49m\u001b[38;5;241;43m=\u001b[39;49m\u001b[43mquery\u001b[49m\u001b[43m,\u001b[49m\n\u001b[1;32m     16\u001b[0m \u001b[43m                                       \u001b[49m\u001b[43mversion\u001b[49m\u001b[38;5;241;43m=\u001b[39;49m\u001b[43mFEAURE_GROUP_VERSION\u001b[49m\u001b[43m,\u001b[49m\n\u001b[1;32m     17\u001b[0m \u001b[43m                                        \u001b[49m\u001b[43mlabels\u001b[49m\u001b[38;5;241;43m=\u001b[39;49m\u001b[43m[\u001b[49m\u001b[43m]\u001b[49m\u001b[43m,\u001b[49m\n\u001b[1;32m     18\u001b[0m \u001b[43m                                       \u001b[49m\u001b[43m)\u001b[49m\n",
      "File \u001b[0;32m~/anaconda3/envs/venv_ml/lib/python3.9/site-packages/hsfs/feature_store.py:1454\u001b[0m, in \u001b[0;36mFeatureStore.create_feature_view\u001b[0;34m(self, name, query, version, description, labels, transformation_functions)\u001b[0m\n\u001b[1;32m   1372\u001b[0m \u001b[38;5;250m\u001b[39m\u001b[38;5;124;03m\"\"\"Create a feature view metadata object and saved it to hopsworks.\u001b[39;00m\n\u001b[1;32m   1373\u001b[0m \n\u001b[1;32m   1374\u001b[0m \u001b[38;5;124;03m!!! example\u001b[39;00m\n\u001b[0;32m   (...)\u001b[0m\n\u001b[1;32m   1443\u001b[0m \u001b[38;5;124;03m    `FeatureView`: The feature view metadata object.\u001b[39;00m\n\u001b[1;32m   1444\u001b[0m \u001b[38;5;124;03m\"\"\"\u001b[39;00m\n\u001b[1;32m   1445\u001b[0m feat_view \u001b[38;5;241m=\u001b[39m feature_view\u001b[38;5;241m.\u001b[39mFeatureView(\n\u001b[1;32m   1446\u001b[0m     name\u001b[38;5;241m=\u001b[39mname,\n\u001b[1;32m   1447\u001b[0m     query\u001b[38;5;241m=\u001b[39mquery,\n\u001b[0;32m   (...)\u001b[0m\n\u001b[1;32m   1452\u001b[0m     transformation_functions\u001b[38;5;241m=\u001b[39mtransformation_functions,\n\u001b[1;32m   1453\u001b[0m )\n\u001b[0;32m-> 1454\u001b[0m \u001b[38;5;28;01mreturn\u001b[39;00m \u001b[38;5;28;43mself\u001b[39;49m\u001b[38;5;241;43m.\u001b[39;49m\u001b[43m_feature_view_engine\u001b[49m\u001b[38;5;241;43m.\u001b[39;49m\u001b[43msave\u001b[49m\u001b[43m(\u001b[49m\u001b[43mfeat_view\u001b[49m\u001b[43m)\u001b[49m\n",
      "File \u001b[0;32m~/anaconda3/envs/venv_ml/lib/python3.9/site-packages/hsfs/core/feature_view_engine.py:82\u001b[0m, in \u001b[0;36mFeatureViewEngine.save\u001b[0;34m(self, feature_view_obj)\u001b[0m\n\u001b[1;32m     74\u001b[0m         feature_view_obj\u001b[38;5;241m.\u001b[39m_features\u001b[38;5;241m.\u001b[39mappend(\n\u001b[1;32m     75\u001b[0m             training_dataset_feature\u001b[38;5;241m.\u001b[39mTrainingDatasetFeature(\n\u001b[1;32m     76\u001b[0m                 name\u001b[38;5;241m=\u001b[39mfeature\u001b[38;5;241m.\u001b[39mname,\n\u001b[0;32m   (...)\u001b[0m\n\u001b[1;32m     79\u001b[0m             )\n\u001b[1;32m     80\u001b[0m         )\n\u001b[1;32m     81\u001b[0m \u001b[38;5;28mself\u001b[39m\u001b[38;5;241m.\u001b[39m_transformation_function_engine\u001b[38;5;241m.\u001b[39mattach_transformation_fn(feature_view_obj)\n\u001b[0;32m---> 82\u001b[0m updated_fv \u001b[38;5;241m=\u001b[39m \u001b[38;5;28;43mself\u001b[39;49m\u001b[38;5;241;43m.\u001b[39;49m\u001b[43m_feature_view_api\u001b[49m\u001b[38;5;241;43m.\u001b[39;49m\u001b[43mpost\u001b[49m\u001b[43m(\u001b[49m\u001b[43mfeature_view_obj\u001b[49m\u001b[43m)\u001b[49m\n\u001b[1;32m     83\u001b[0m \u001b[38;5;28mself\u001b[39m\u001b[38;5;241m.\u001b[39mattach_transformation_function(updated_fv)\n\u001b[1;32m     84\u001b[0m \u001b[38;5;28mprint\u001b[39m(\n\u001b[1;32m     85\u001b[0m     \u001b[38;5;124m\"\u001b[39m\u001b[38;5;124mFeature view created successfully, explore it at \u001b[39m\u001b[38;5;130;01m\\n\u001b[39;00m\u001b[38;5;124m\"\u001b[39m\n\u001b[1;32m     86\u001b[0m     \u001b[38;5;241m+\u001b[39m \u001b[38;5;28mself\u001b[39m\u001b[38;5;241m.\u001b[39m_get_feature_view_url(updated_fv)\n\u001b[1;32m     87\u001b[0m )\n",
      "File \u001b[0;32m~/anaconda3/envs/venv_ml/lib/python3.9/site-packages/hsfs/core/feature_view_api.py:60\u001b[0m, in \u001b[0;36mFeatureViewApi.post\u001b[0;34m(self, feature_view_obj)\u001b[0m\n\u001b[1;32m     57\u001b[0m \u001b[38;5;28;01mdef\u001b[39;00m \u001b[38;5;21mpost\u001b[39m(\u001b[38;5;28mself\u001b[39m, feature_view_obj):\n\u001b[1;32m     58\u001b[0m     headers \u001b[38;5;241m=\u001b[39m {\u001b[38;5;124m\"\u001b[39m\u001b[38;5;124mcontent-type\u001b[39m\u001b[38;5;124m\"\u001b[39m: \u001b[38;5;124m\"\u001b[39m\u001b[38;5;124mapplication/json\u001b[39m\u001b[38;5;124m\"\u001b[39m}\n\u001b[1;32m     59\u001b[0m     \u001b[38;5;28;01mreturn\u001b[39;00m feature_view_obj\u001b[38;5;241m.\u001b[39mupdate_from_response_json(\n\u001b[0;32m---> 60\u001b[0m         \u001b[38;5;28;43mself\u001b[39;49m\u001b[38;5;241;43m.\u001b[39;49m\u001b[43m_client\u001b[49m\u001b[38;5;241;43m.\u001b[39;49m\u001b[43m_send_request\u001b[49m\u001b[43m(\u001b[49m\n\u001b[1;32m     61\u001b[0m \u001b[43m            \u001b[49m\u001b[38;5;28;43mself\u001b[39;49m\u001b[38;5;241;43m.\u001b[39;49m\u001b[43m_POST\u001b[49m\u001b[43m,\u001b[49m\n\u001b[1;32m     62\u001b[0m \u001b[43m            \u001b[49m\u001b[38;5;28;43mself\u001b[39;49m\u001b[38;5;241;43m.\u001b[39;49m\u001b[43m_base_path\u001b[49m\u001b[43m,\u001b[49m\n\u001b[1;32m     63\u001b[0m \u001b[43m            \u001b[49m\u001b[43mheaders\u001b[49m\u001b[38;5;241;43m=\u001b[39;49m\u001b[43mheaders\u001b[49m\u001b[43m,\u001b[49m\n\u001b[1;32m     64\u001b[0m \u001b[43m            \u001b[49m\u001b[43mdata\u001b[49m\u001b[38;5;241;43m=\u001b[39;49m\u001b[43mfeature_view_obj\u001b[49m\u001b[38;5;241;43m.\u001b[39;49m\u001b[43mjson\u001b[49m\u001b[43m(\u001b[49m\u001b[43m)\u001b[49m\u001b[43m,\u001b[49m\n\u001b[1;32m     65\u001b[0m \u001b[43m        \u001b[49m\u001b[43m)\u001b[49m\n\u001b[1;32m     66\u001b[0m     )\n",
      "File \u001b[0;32m~/anaconda3/envs/venv_ml/lib/python3.9/site-packages/hsfs/decorators.py:35\u001b[0m, in \u001b[0;36mconnected.<locals>.if_connected\u001b[0;34m(inst, *args, **kwargs)\u001b[0m\n\u001b[1;32m     33\u001b[0m \u001b[38;5;28;01mif\u001b[39;00m \u001b[38;5;129;01mnot\u001b[39;00m inst\u001b[38;5;241m.\u001b[39m_connected:\n\u001b[1;32m     34\u001b[0m     \u001b[38;5;28;01mraise\u001b[39;00m NoHopsworksConnectionError\n\u001b[0;32m---> 35\u001b[0m \u001b[38;5;28;01mreturn\u001b[39;00m \u001b[43mfn\u001b[49m\u001b[43m(\u001b[49m\u001b[43minst\u001b[49m\u001b[43m,\u001b[49m\u001b[43m \u001b[49m\u001b[38;5;241;43m*\u001b[39;49m\u001b[43margs\u001b[49m\u001b[43m,\u001b[49m\u001b[43m \u001b[49m\u001b[38;5;241;43m*\u001b[39;49m\u001b[38;5;241;43m*\u001b[39;49m\u001b[43mkwargs\u001b[49m\u001b[43m)\u001b[49m\n",
      "File \u001b[0;32m~/anaconda3/envs/venv_ml/lib/python3.9/site-packages/hsfs/client/base.py:179\u001b[0m, in \u001b[0;36mClient._send_request\u001b[0;34m(self, method, path_params, query_params, headers, data, stream, files)\u001b[0m\n\u001b[1;32m    176\u001b[0m     response \u001b[38;5;241m=\u001b[39m \u001b[38;5;28mself\u001b[39m\u001b[38;5;241m.\u001b[39m_session\u001b[38;5;241m.\u001b[39msend(prepped, verify\u001b[38;5;241m=\u001b[39m\u001b[38;5;28mself\u001b[39m\u001b[38;5;241m.\u001b[39m_verify, stream\u001b[38;5;241m=\u001b[39mstream)\n\u001b[1;32m    178\u001b[0m \u001b[38;5;28;01mif\u001b[39;00m response\u001b[38;5;241m.\u001b[39mstatus_code \u001b[38;5;241m/\u001b[39m\u001b[38;5;241m/\u001b[39m \u001b[38;5;241m100\u001b[39m \u001b[38;5;241m!=\u001b[39m \u001b[38;5;241m2\u001b[39m:\n\u001b[0;32m--> 179\u001b[0m     \u001b[38;5;28;01mraise\u001b[39;00m exceptions\u001b[38;5;241m.\u001b[39mRestAPIError(url, response)\n\u001b[1;32m    181\u001b[0m \u001b[38;5;28;01mif\u001b[39;00m stream:\n\u001b[1;32m    182\u001b[0m     \u001b[38;5;28;01mreturn\u001b[39;00m response\n",
      "\u001b[0;31mRestAPIError\u001b[0m: Metadata operation error: (url: https://c.app.hopsworks.ai/hopsworks-api/api/project/140436/featurestores/140355/featureview). Server response: \nHTTP code: 404, HTTP reason: Not Found, body: b'{\"errorCode\":270009,\"usrMsg\":\"Could not find feature group with ID null\",\"errorMsg\":\"Featuregroup wasn\\'t found.\"}', error code: 270009, error msg: Featuregroup wasn't found., user msg: Could not find feature group with ID null"
     ]
    }
   ],
   "source": [
    "try:\n",
    "    predicated_regression_fg = fs.get_feature_group(name=\"predicted_air_quality_regression\",version=FEAURE_GROUP_VERSION)\n",
    "except:\n",
    "    predicated_regression_fg = fs.create_feature_group(name=\"predicted_air_quality_regression\",\n",
    "                                            version=FEAURE_GROUP_VERSION,\n",
    "                                            description=\"Predicted air quality in Gothenburg\",\n",
    "                                            online_enabled=True,\n",
    "                                            primary_key=[\"date_time_str\"],\n",
    "                                            event_time='date_time')\n",
    "query = predicated_regression_fg.select_all()\n",
    "try:\n",
    "    fv = fs.get_feature_view(name=\"predicted_air_quality_regression_fv\", version=FEAURE_GROUP_VERSION)\n",
    "except:\n",
    "    fv = fs.create_feature_view(name=\"predicted_air_quality_regression_fv\",\n",
    "                                       query=query,\n",
    "                                       version=FEAURE_GROUP_VERSION,\n",
    "                                        labels=[],\n",
    "                                       )"
   ]
  },
  {
   "cell_type": "code",
   "execution_count": 1011,
   "id": "260e0538-18f4-488d-9d2f-4f1be8362a49",
   "metadata": {},
   "outputs": [
    {
     "name": "stdout",
     "output_type": "stream",
     "text": [
      "Connected. Call `.close()` to terminate connection gracefully.\n"
     ]
    },
    {
     "name": "stderr",
     "output_type": "stream",
     "text": [
      "/Users/manu/anaconda3/envs/venv_ml/lib/python3.9/site-packages/hsfs/feature_store.py:139: VersionWarning:\n",
      "\n",
      "No version provided for getting feature group `cleaned_air_quality_data`, defaulting to `1`.\n",
      "\n"
     ]
    }
   ],
   "source": [
    "fs = project.get_feature_store()\n",
    "fg = fs.get_feature_group(\"cleaned_air_quality_data\")\n",
    "query = fg.select_all()\n",
    "transformations = {feature.name: fs.get_transformation_function(name=\"min_max_scaler\") \\\n",
    "                   for feature in fg.features if feature.name not in ['femman_pm25', \"date_time\", \"date_time_str\"]}\n",
    "fv = fs.get_or_create_feature_view(name=\"air_qaulity_baseline_fv_2\",\n",
    "                                   query=query,\n",
    "                                   version=1,\n",
    "                                    labels=['femman_pm25']\n",
    "                                   )"
   ]
  },
  {
   "cell_type": "markdown",
   "id": "0659cd4e-03f1-4d50-a481-96fd83807bd2",
   "metadata": {},
   "source": [
    "# Errors"
   ]
  },
  {
   "cell_type": "code",
   "execution_count": 632,
   "id": "7ae58006-ba0b-4037-b3de-8d1a8c2172fc",
   "metadata": {},
   "outputs": [
    {
     "name": "stdout",
     "output_type": "stream",
     "text": [
      "Connection closed.\n",
      "Connected. Call `.close()` to terminate connection gracefully.\n",
      "\n",
      "Logged in to project, explore it here https://c.app.hopsworks.ai:443/p/140436\n",
      "Connected. Call `.close()` to terminate connection gracefully.\n"
     ]
    },
    {
     "name": "stderr",
     "output_type": "stream",
     "text": [
      "/Users/manu/anaconda3/envs/venv_ml/lib/python3.9/site-packages/hsfs/feature_store.py:139: VersionWarning:\n",
      "\n",
      "No version provided for getting feature group `cleaned_air_quality_data`, defaulting to `1`.\n",
      "\n"
     ]
    },
    {
     "ename": "KeyError",
     "evalue": "'value'",
     "output_type": "error",
     "traceback": [
      "\u001b[0;31m---------------------------------------------------------------------------\u001b[0m",
      "\u001b[0;31mRestAPIError\u001b[0m                              Traceback (most recent call last)",
      "File \u001b[0;32m~/anaconda3/envs/venv_ml/lib/python3.9/site-packages/hsfs/feature_store.py:1502\u001b[0m, in \u001b[0;36mFeatureStore.get_or_create_feature_view\u001b[0;34m(self, name, query, version, description, labels, transformation_functions)\u001b[0m\n\u001b[1;32m   1501\u001b[0m \u001b[38;5;28;01mtry\u001b[39;00m:\n\u001b[0;32m-> 1502\u001b[0m     \u001b[38;5;28;01mreturn\u001b[39;00m \u001b[38;5;28;43mself\u001b[39;49m\u001b[38;5;241;43m.\u001b[39;49m\u001b[43m_feature_view_engine\u001b[49m\u001b[38;5;241;43m.\u001b[39;49m\u001b[43mget\u001b[49m\u001b[43m(\u001b[49m\u001b[43mname\u001b[49m\u001b[43m,\u001b[49m\u001b[43m \u001b[49m\u001b[43mversion\u001b[49m\u001b[43m)\u001b[49m\n\u001b[1;32m   1503\u001b[0m \u001b[38;5;28;01mexcept\u001b[39;00m exceptions\u001b[38;5;241m.\u001b[39mRestAPIError \u001b[38;5;28;01mas\u001b[39;00m e:\n",
      "File \u001b[0;32m~/anaconda3/envs/venv_ml/lib/python3.9/site-packages/hsfs/core/feature_view_engine.py:96\u001b[0m, in \u001b[0;36mFeatureViewEngine.get\u001b[0;34m(self, name, version)\u001b[0m\n\u001b[1;32m     95\u001b[0m \u001b[38;5;28;01mif\u001b[39;00m version:\n\u001b[0;32m---> 96\u001b[0m     fv \u001b[38;5;241m=\u001b[39m \u001b[38;5;28;43mself\u001b[39;49m\u001b[38;5;241;43m.\u001b[39;49m\u001b[43m_feature_view_api\u001b[49m\u001b[38;5;241;43m.\u001b[39;49m\u001b[43mget_by_name_version\u001b[49m\u001b[43m(\u001b[49m\u001b[43mname\u001b[49m\u001b[43m,\u001b[49m\u001b[43m \u001b[49m\u001b[43mversion\u001b[49m\u001b[43m)\u001b[49m\n\u001b[1;32m     97\u001b[0m     \u001b[38;5;28mself\u001b[39m\u001b[38;5;241m.\u001b[39mattach_transformation_function(fv)\n",
      "File \u001b[0;32m~/anaconda3/envs/venv_ml/lib/python3.9/site-packages/hsfs/core/feature_view_api.py:113\u001b[0m, in \u001b[0;36mFeatureViewApi.get_by_name_version\u001b[0;34m(self, name, version)\u001b[0m\n\u001b[1;32m    112\u001b[0m \u001b[38;5;28;01melse\u001b[39;00m:\n\u001b[0;32m--> 113\u001b[0m     \u001b[38;5;28;01mraise\u001b[39;00m e\n",
      "File \u001b[0;32m~/anaconda3/envs/venv_ml/lib/python3.9/site-packages/hsfs/core/feature_view_api.py:101\u001b[0m, in \u001b[0;36mFeatureViewApi.get_by_name_version\u001b[0;34m(self, name, version)\u001b[0m\n\u001b[1;32m     99\u001b[0m \u001b[38;5;28;01mtry\u001b[39;00m:\n\u001b[1;32m    100\u001b[0m     \u001b[38;5;28;01mreturn\u001b[39;00m feature_view\u001b[38;5;241m.\u001b[39mFeatureView\u001b[38;5;241m.\u001b[39mfrom_response_json(\n\u001b[0;32m--> 101\u001b[0m         \u001b[38;5;28;43mself\u001b[39;49m\u001b[38;5;241;43m.\u001b[39;49m\u001b[43m_client\u001b[49m\u001b[38;5;241;43m.\u001b[39;49m\u001b[43m_send_request\u001b[49m\u001b[43m(\u001b[49m\n\u001b[1;32m    102\u001b[0m \u001b[43m            \u001b[49m\u001b[38;5;28;43mself\u001b[39;49m\u001b[38;5;241;43m.\u001b[39;49m\u001b[43m_GET\u001b[49m\u001b[43m,\u001b[49m\u001b[43m \u001b[49m\u001b[43mpath\u001b[49m\u001b[43m,\u001b[49m\u001b[43m \u001b[49m\u001b[43m{\u001b[49m\u001b[38;5;124;43m\"\u001b[39;49m\u001b[38;5;124;43mexpand\u001b[39;49m\u001b[38;5;124;43m\"\u001b[39;49m\u001b[43m:\u001b[49m\u001b[43m \u001b[49m\u001b[43m[\u001b[49m\u001b[38;5;124;43m\"\u001b[39;49m\u001b[38;5;124;43mquery\u001b[39;49m\u001b[38;5;124;43m\"\u001b[39;49m\u001b[43m,\u001b[49m\u001b[43m \u001b[49m\u001b[38;5;124;43m\"\u001b[39;49m\u001b[38;5;124;43mfeatures\u001b[39;49m\u001b[38;5;124;43m\"\u001b[39;49m\u001b[43m]\u001b[49m\u001b[43m}\u001b[49m\n\u001b[1;32m    103\u001b[0m \u001b[43m        \u001b[49m\u001b[43m)\u001b[49m\n\u001b[1;32m    104\u001b[0m     )\n\u001b[1;32m    105\u001b[0m \u001b[38;5;28;01mexcept\u001b[39;00m RestAPIError \u001b[38;5;28;01mas\u001b[39;00m e:\n",
      "File \u001b[0;32m~/anaconda3/envs/venv_ml/lib/python3.9/site-packages/hsfs/decorators.py:35\u001b[0m, in \u001b[0;36mconnected.<locals>.if_connected\u001b[0;34m(inst, *args, **kwargs)\u001b[0m\n\u001b[1;32m     34\u001b[0m     \u001b[38;5;28;01mraise\u001b[39;00m NoHopsworksConnectionError\n\u001b[0;32m---> 35\u001b[0m \u001b[38;5;28;01mreturn\u001b[39;00m \u001b[43mfn\u001b[49m\u001b[43m(\u001b[49m\u001b[43minst\u001b[49m\u001b[43m,\u001b[49m\u001b[43m \u001b[49m\u001b[38;5;241;43m*\u001b[39;49m\u001b[43margs\u001b[49m\u001b[43m,\u001b[49m\u001b[43m \u001b[49m\u001b[38;5;241;43m*\u001b[39;49m\u001b[38;5;241;43m*\u001b[39;49m\u001b[43mkwargs\u001b[49m\u001b[43m)\u001b[49m\n",
      "File \u001b[0;32m~/anaconda3/envs/venv_ml/lib/python3.9/site-packages/hsfs/client/base.py:179\u001b[0m, in \u001b[0;36mClient._send_request\u001b[0;34m(self, method, path_params, query_params, headers, data, stream, files)\u001b[0m\n\u001b[1;32m    178\u001b[0m \u001b[38;5;28;01mif\u001b[39;00m response\u001b[38;5;241m.\u001b[39mstatus_code \u001b[38;5;241m/\u001b[39m\u001b[38;5;241m/\u001b[39m \u001b[38;5;241m100\u001b[39m \u001b[38;5;241m!=\u001b[39m \u001b[38;5;241m2\u001b[39m:\n\u001b[0;32m--> 179\u001b[0m     \u001b[38;5;28;01mraise\u001b[39;00m exceptions\u001b[38;5;241m.\u001b[39mRestAPIError(url, response)\n\u001b[1;32m    181\u001b[0m \u001b[38;5;28;01mif\u001b[39;00m stream:\n",
      "\u001b[0;31mRestAPIError\u001b[0m: Metadata operation error: (url: https://c.app.hopsworks.ai/hopsworks-api/api/project/140436/featurestores/140355/featureview/air_qaulity_baseline_fv_3/version/1). Server response: \nHTTP code: 404, HTTP reason: Not Found, body: b'{\"errorCode\":270181,\"usrMsg\":\"There exists no feature view with the name air_qaulity_baseline_fv_3 and version 1.\",\"errorMsg\":\"Feature view wasn\\'t found.\"}', error code: 270181, error msg: Feature view wasn't found., user msg: There exists no feature view with the name air_qaulity_baseline_fv_3 and version 1.",
      "\nDuring handling of the above exception, another exception occurred:\n",
      "\u001b[0;31mKeyError\u001b[0m                                  Traceback (most recent call last)",
      "Cell \u001b[0;32mIn[632], line 9\u001b[0m\n\u001b[1;32m      4\u001b[0m query \u001b[38;5;241m=\u001b[39m data_fg\u001b[38;5;241m.\u001b[39mselect_all()\u001b[38;5;241m.\u001b[39m\\\n\u001b[1;32m      5\u001b[0m             join(regression_prediction_fg\u001b[38;5;241m.\u001b[39mselect([\u001b[38;5;124m'\u001b[39m\u001b[38;5;124mpredicted_femman_pm25\u001b[39m\u001b[38;5;124m'\u001b[39m]), on\u001b[38;5;241m=\u001b[39m\u001b[38;5;124m\"\u001b[39m\u001b[38;5;124mdate_time\u001b[39m\u001b[38;5;124m\"\u001b[39m, join_type \u001b[38;5;241m=\u001b[39m \u001b[38;5;124m\"\u001b[39m\u001b[38;5;124mleft\u001b[39m\u001b[38;5;124m\"\u001b[39m)\u001b[38;5;241m.\u001b[39m\\\n\u001b[1;32m      6\u001b[0m             \u001b[38;5;28mfilter\u001b[39m(regression_prediction_fg\u001b[38;5;241m.\u001b[39mpredicted_femman_pm25 \u001b[38;5;241m==\u001b[39m \u001b[38;5;28;01mNone\u001b[39;00m)\n\u001b[1;32m      7\u001b[0m transformations \u001b[38;5;241m=\u001b[39m {feature\u001b[38;5;241m.\u001b[39mname: fs\u001b[38;5;241m.\u001b[39mget_transformation_function(name\u001b[38;5;241m=\u001b[39m\u001b[38;5;124m\"\u001b[39m\u001b[38;5;124mmin_max_scaler\u001b[39m\u001b[38;5;124m\"\u001b[39m) \\\n\u001b[1;32m      8\u001b[0m                    \u001b[38;5;28;01mfor\u001b[39;00m feature \u001b[38;5;129;01min\u001b[39;00m fg\u001b[38;5;241m.\u001b[39mfeatures \u001b[38;5;28;01mif\u001b[39;00m feature\u001b[38;5;241m.\u001b[39mname \u001b[38;5;129;01mnot\u001b[39;00m \u001b[38;5;129;01min\u001b[39;00m [\u001b[38;5;124m'\u001b[39m\u001b[38;5;124mfemman_pm25\u001b[39m\u001b[38;5;124m'\u001b[39m, \u001b[38;5;124m\"\u001b[39m\u001b[38;5;124mdate_time\u001b[39m\u001b[38;5;124m\"\u001b[39m, \u001b[38;5;124m\"\u001b[39m\u001b[38;5;124mdate_time_str\u001b[39m\u001b[38;5;124m\"\u001b[39m]}\n\u001b[0;32m----> 9\u001b[0m fv \u001b[38;5;241m=\u001b[39m \u001b[43mfs\u001b[49m\u001b[38;5;241;43m.\u001b[39;49m\u001b[43mget_or_create_feature_view\u001b[49m\u001b[43m(\u001b[49m\u001b[43mname\u001b[49m\u001b[38;5;241;43m=\u001b[39;49m\u001b[38;5;124;43m\"\u001b[39;49m\u001b[38;5;124;43mair_qaulity_baseline_fv_3\u001b[39;49m\u001b[38;5;124;43m\"\u001b[39;49m\u001b[43m,\u001b[49m\n\u001b[1;32m     10\u001b[0m \u001b[43m                                   \u001b[49m\u001b[43mquery\u001b[49m\u001b[38;5;241;43m=\u001b[39;49m\u001b[43mquery\u001b[49m\u001b[43m,\u001b[49m\n\u001b[1;32m     11\u001b[0m \u001b[43m                                   \u001b[49m\u001b[43mversion\u001b[49m\u001b[38;5;241;43m=\u001b[39;49m\u001b[38;5;241;43m1\u001b[39;49m\u001b[43m,\u001b[49m\n\u001b[1;32m     12\u001b[0m \u001b[43m                                    \u001b[49m\u001b[43mlabels\u001b[49m\u001b[38;5;241;43m=\u001b[39;49m\u001b[43m[\u001b[49m\u001b[38;5;124;43m'\u001b[39;49m\u001b[38;5;124;43mfemman_pm25\u001b[39;49m\u001b[38;5;124;43m'\u001b[39;49m\u001b[43m]\u001b[49m\u001b[43m,\u001b[49m\n\u001b[1;32m     13\u001b[0m \u001b[43m                                   \u001b[49m\u001b[43mtransformation_functions\u001b[49m\u001b[38;5;241;43m=\u001b[39;49m\u001b[43mtransformations\u001b[49m\n\u001b[1;32m     14\u001b[0m \u001b[43m                                  \u001b[49m\u001b[43m)\u001b[49m\n",
      "File \u001b[0;32m~/anaconda3/envs/venv_ml/lib/python3.9/site-packages/hsfs/feature_store.py:1508\u001b[0m, in \u001b[0;36mFeatureStore.get_or_create_feature_view\u001b[0;34m(self, name, query, version, description, labels, transformation_functions)\u001b[0m\n\u001b[1;32m   1503\u001b[0m \u001b[38;5;28;01mexcept\u001b[39;00m exceptions\u001b[38;5;241m.\u001b[39mRestAPIError \u001b[38;5;28;01mas\u001b[39;00m e:\n\u001b[1;32m   1504\u001b[0m     \u001b[38;5;28;01mif\u001b[39;00m (\n\u001b[1;32m   1505\u001b[0m         e\u001b[38;5;241m.\u001b[39mresponse\u001b[38;5;241m.\u001b[39mjson()\u001b[38;5;241m.\u001b[39mget(\u001b[38;5;124m\"\u001b[39m\u001b[38;5;124merrorCode\u001b[39m\u001b[38;5;124m\"\u001b[39m, \u001b[38;5;124m\"\u001b[39m\u001b[38;5;124m\"\u001b[39m) \u001b[38;5;241m==\u001b[39m \u001b[38;5;241m270181\u001b[39m\n\u001b[1;32m   1506\u001b[0m         \u001b[38;5;129;01mand\u001b[39;00m e\u001b[38;5;241m.\u001b[39mresponse\u001b[38;5;241m.\u001b[39mstatus_code \u001b[38;5;241m==\u001b[39m \u001b[38;5;241m404\u001b[39m\n\u001b[1;32m   1507\u001b[0m     ):\n\u001b[0;32m-> 1508\u001b[0m         \u001b[38;5;28;01mreturn\u001b[39;00m \u001b[38;5;28;43mself\u001b[39;49m\u001b[38;5;241;43m.\u001b[39;49m\u001b[43mcreate_feature_view\u001b[49m\u001b[43m(\u001b[49m\n\u001b[1;32m   1509\u001b[0m \u001b[43m            \u001b[49m\u001b[43mname\u001b[49m\u001b[38;5;241;43m=\u001b[39;49m\u001b[43mname\u001b[49m\u001b[43m,\u001b[49m\n\u001b[1;32m   1510\u001b[0m \u001b[43m            \u001b[49m\u001b[43mquery\u001b[49m\u001b[38;5;241;43m=\u001b[39;49m\u001b[43mquery\u001b[49m\u001b[43m,\u001b[49m\n\u001b[1;32m   1511\u001b[0m \u001b[43m            \u001b[49m\u001b[43mversion\u001b[49m\u001b[38;5;241;43m=\u001b[39;49m\u001b[43mversion\u001b[49m\u001b[43m,\u001b[49m\n\u001b[1;32m   1512\u001b[0m \u001b[43m            \u001b[49m\u001b[43mdescription\u001b[49m\u001b[38;5;241;43m=\u001b[39;49m\u001b[43mdescription\u001b[49m\u001b[43m,\u001b[49m\n\u001b[1;32m   1513\u001b[0m \u001b[43m            \u001b[49m\u001b[43mlabels\u001b[49m\u001b[38;5;241;43m=\u001b[39;49m\u001b[43mlabels\u001b[49m\u001b[43m,\u001b[49m\n\u001b[1;32m   1514\u001b[0m \u001b[43m            \u001b[49m\u001b[43mtransformation_functions\u001b[49m\u001b[38;5;241;43m=\u001b[39;49m\u001b[43mtransformation_functions\u001b[49m\u001b[43m,\u001b[49m\n\u001b[1;32m   1515\u001b[0m \u001b[43m        \u001b[49m\u001b[43m)\u001b[49m\n\u001b[1;32m   1516\u001b[0m     \u001b[38;5;28;01melse\u001b[39;00m:\n\u001b[1;32m   1517\u001b[0m         \u001b[38;5;28;01mraise\u001b[39;00m e\n",
      "File \u001b[0;32m~/anaconda3/envs/venv_ml/lib/python3.9/site-packages/hsfs/feature_store.py:1454\u001b[0m, in \u001b[0;36mFeatureStore.create_feature_view\u001b[0;34m(self, name, query, version, description, labels, transformation_functions)\u001b[0m\n\u001b[1;32m   1372\u001b[0m \u001b[38;5;250m\u001b[39m\u001b[38;5;124;03m\"\"\"Create a feature view metadata object and saved it to hopsworks.\u001b[39;00m\n\u001b[1;32m   1373\u001b[0m \n\u001b[1;32m   1374\u001b[0m \u001b[38;5;124;03m!!! example\u001b[39;00m\n\u001b[0;32m   (...)\u001b[0m\n\u001b[1;32m   1443\u001b[0m \u001b[38;5;124;03m    `FeatureView`: The feature view metadata object.\u001b[39;00m\n\u001b[1;32m   1444\u001b[0m \u001b[38;5;124;03m\"\"\"\u001b[39;00m\n\u001b[1;32m   1445\u001b[0m feat_view \u001b[38;5;241m=\u001b[39m feature_view\u001b[38;5;241m.\u001b[39mFeatureView(\n\u001b[1;32m   1446\u001b[0m     name\u001b[38;5;241m=\u001b[39mname,\n\u001b[1;32m   1447\u001b[0m     query\u001b[38;5;241m=\u001b[39mquery,\n\u001b[0;32m   (...)\u001b[0m\n\u001b[1;32m   1452\u001b[0m     transformation_functions\u001b[38;5;241m=\u001b[39mtransformation_functions,\n\u001b[1;32m   1453\u001b[0m )\n\u001b[0;32m-> 1454\u001b[0m \u001b[38;5;28;01mreturn\u001b[39;00m \u001b[38;5;28;43mself\u001b[39;49m\u001b[38;5;241;43m.\u001b[39;49m\u001b[43m_feature_view_engine\u001b[49m\u001b[38;5;241;43m.\u001b[39;49m\u001b[43msave\u001b[49m\u001b[43m(\u001b[49m\u001b[43mfeat_view\u001b[49m\u001b[43m)\u001b[49m\n",
      "File \u001b[0;32m~/anaconda3/envs/venv_ml/lib/python3.9/site-packages/hsfs/core/feature_view_engine.py:82\u001b[0m, in \u001b[0;36mFeatureViewEngine.save\u001b[0;34m(self, feature_view_obj)\u001b[0m\n\u001b[1;32m     74\u001b[0m         feature_view_obj\u001b[38;5;241m.\u001b[39m_features\u001b[38;5;241m.\u001b[39mappend(\n\u001b[1;32m     75\u001b[0m             training_dataset_feature\u001b[38;5;241m.\u001b[39mTrainingDatasetFeature(\n\u001b[1;32m     76\u001b[0m                 name\u001b[38;5;241m=\u001b[39mfeature\u001b[38;5;241m.\u001b[39mname,\n\u001b[0;32m   (...)\u001b[0m\n\u001b[1;32m     79\u001b[0m             )\n\u001b[1;32m     80\u001b[0m         )\n\u001b[1;32m     81\u001b[0m \u001b[38;5;28mself\u001b[39m\u001b[38;5;241m.\u001b[39m_transformation_function_engine\u001b[38;5;241m.\u001b[39mattach_transformation_fn(feature_view_obj)\n\u001b[0;32m---> 82\u001b[0m updated_fv \u001b[38;5;241m=\u001b[39m \u001b[38;5;28;43mself\u001b[39;49m\u001b[38;5;241;43m.\u001b[39;49m\u001b[43m_feature_view_api\u001b[49m\u001b[38;5;241;43m.\u001b[39;49m\u001b[43mpost\u001b[49m\u001b[43m(\u001b[49m\u001b[43mfeature_view_obj\u001b[49m\u001b[43m)\u001b[49m\n\u001b[1;32m     83\u001b[0m \u001b[38;5;28mself\u001b[39m\u001b[38;5;241m.\u001b[39mattach_transformation_function(updated_fv)\n\u001b[1;32m     84\u001b[0m \u001b[38;5;28mprint\u001b[39m(\n\u001b[1;32m     85\u001b[0m     \u001b[38;5;124m\"\u001b[39m\u001b[38;5;124mFeature view created successfully, explore it at \u001b[39m\u001b[38;5;130;01m\\n\u001b[39;00m\u001b[38;5;124m\"\u001b[39m\n\u001b[1;32m     86\u001b[0m     \u001b[38;5;241m+\u001b[39m \u001b[38;5;28mself\u001b[39m\u001b[38;5;241m.\u001b[39m_get_feature_view_url(updated_fv)\n\u001b[1;32m     87\u001b[0m )\n",
      "File \u001b[0;32m~/anaconda3/envs/venv_ml/lib/python3.9/site-packages/hsfs/core/feature_view_api.py:59\u001b[0m, in \u001b[0;36mFeatureViewApi.post\u001b[0;34m(self, feature_view_obj)\u001b[0m\n\u001b[1;32m     57\u001b[0m \u001b[38;5;28;01mdef\u001b[39;00m \u001b[38;5;21mpost\u001b[39m(\u001b[38;5;28mself\u001b[39m, feature_view_obj):\n\u001b[1;32m     58\u001b[0m     headers \u001b[38;5;241m=\u001b[39m {\u001b[38;5;124m\"\u001b[39m\u001b[38;5;124mcontent-type\u001b[39m\u001b[38;5;124m\"\u001b[39m: \u001b[38;5;124m\"\u001b[39m\u001b[38;5;124mapplication/json\u001b[39m\u001b[38;5;124m\"\u001b[39m}\n\u001b[0;32m---> 59\u001b[0m     \u001b[38;5;28;01mreturn\u001b[39;00m \u001b[43mfeature_view_obj\u001b[49m\u001b[38;5;241;43m.\u001b[39;49m\u001b[43mupdate_from_response_json\u001b[49m\u001b[43m(\u001b[49m\n\u001b[1;32m     60\u001b[0m \u001b[43m        \u001b[49m\u001b[38;5;28;43mself\u001b[39;49m\u001b[38;5;241;43m.\u001b[39;49m\u001b[43m_client\u001b[49m\u001b[38;5;241;43m.\u001b[39;49m\u001b[43m_send_request\u001b[49m\u001b[43m(\u001b[49m\n\u001b[1;32m     61\u001b[0m \u001b[43m            \u001b[49m\u001b[38;5;28;43mself\u001b[39;49m\u001b[38;5;241;43m.\u001b[39;49m\u001b[43m_POST\u001b[49m\u001b[43m,\u001b[49m\n\u001b[1;32m     62\u001b[0m \u001b[43m            \u001b[49m\u001b[38;5;28;43mself\u001b[39;49m\u001b[38;5;241;43m.\u001b[39;49m\u001b[43m_base_path\u001b[49m\u001b[43m,\u001b[49m\n\u001b[1;32m     63\u001b[0m \u001b[43m            \u001b[49m\u001b[43mheaders\u001b[49m\u001b[38;5;241;43m=\u001b[39;49m\u001b[43mheaders\u001b[49m\u001b[43m,\u001b[49m\n\u001b[1;32m     64\u001b[0m \u001b[43m            \u001b[49m\u001b[43mdata\u001b[49m\u001b[38;5;241;43m=\u001b[39;49m\u001b[43mfeature_view_obj\u001b[49m\u001b[38;5;241;43m.\u001b[39;49m\u001b[43mjson\u001b[49m\u001b[43m(\u001b[49m\u001b[43m)\u001b[49m\u001b[43m,\u001b[49m\n\u001b[1;32m     65\u001b[0m \u001b[43m        \u001b[49m\u001b[43m)\u001b[49m\n\u001b[1;32m     66\u001b[0m \u001b[43m    \u001b[49m\u001b[43m)\u001b[49m\n",
      "File \u001b[0;32m~/anaconda3/envs/venv_ml/lib/python3.9/site-packages/hsfs/feature_view.py:2418\u001b[0m, in \u001b[0;36mFeatureView.update_from_response_json\u001b[0;34m(self, json_dict)\u001b[0m\n\u001b[1;32m   2417\u001b[0m \u001b[38;5;28;01mdef\u001b[39;00m \u001b[38;5;21mupdate_from_response_json\u001b[39m(\u001b[38;5;28mself\u001b[39m, json_dict):\n\u001b[0;32m-> 2418\u001b[0m     other \u001b[38;5;241m=\u001b[39m \u001b[38;5;28;43mself\u001b[39;49m\u001b[38;5;241;43m.\u001b[39;49m\u001b[43mfrom_response_json\u001b[49m\u001b[43m(\u001b[49m\u001b[43mjson_dict\u001b[49m\u001b[43m)\u001b[49m\n\u001b[1;32m   2419\u001b[0m     \u001b[38;5;28;01mfor\u001b[39;00m key \u001b[38;5;129;01min\u001b[39;00m [\n\u001b[1;32m   2420\u001b[0m         \u001b[38;5;124m\"\u001b[39m\u001b[38;5;124mname\u001b[39m\u001b[38;5;124m\"\u001b[39m,\n\u001b[1;32m   2421\u001b[0m         \u001b[38;5;124m\"\u001b[39m\u001b[38;5;124mdescription\u001b[39m\u001b[38;5;124m\"\u001b[39m,\n\u001b[0;32m   (...)\u001b[0m\n\u001b[1;32m   2428\u001b[0m         \u001b[38;5;124m\"\u001b[39m\u001b[38;5;124mserving_keys\u001b[39m\u001b[38;5;124m\"\u001b[39m,\n\u001b[1;32m   2429\u001b[0m     ]:\n\u001b[1;32m   2430\u001b[0m         \u001b[38;5;28mself\u001b[39m\u001b[38;5;241m.\u001b[39m_update_attribute_if_present(\u001b[38;5;28mself\u001b[39m, other, key)\n",
      "File \u001b[0;32m~/anaconda3/envs/venv_ml/lib/python3.9/site-packages/hsfs/feature_view.py:2398\u001b[0m, in \u001b[0;36mFeatureView.from_response_json\u001b[0;34m(cls, json_dict)\u001b[0m\n\u001b[1;32m   2393\u001b[0m \u001b[38;5;28;01mif\u001b[39;00m serving_keys \u001b[38;5;129;01mis\u001b[39;00m \u001b[38;5;129;01mnot\u001b[39;00m \u001b[38;5;28;01mNone\u001b[39;00m:\n\u001b[1;32m   2394\u001b[0m     serving_keys \u001b[38;5;241m=\u001b[39m [ServingKey\u001b[38;5;241m.\u001b[39mfrom_response_json(sk) \u001b[38;5;28;01mfor\u001b[39;00m sk \u001b[38;5;129;01min\u001b[39;00m serving_keys]\n\u001b[1;32m   2395\u001b[0m fv \u001b[38;5;241m=\u001b[39m \u001b[38;5;28mcls\u001b[39m(\n\u001b[1;32m   2396\u001b[0m     \u001b[38;5;28mid\u001b[39m\u001b[38;5;241m=\u001b[39mjson_decamelized\u001b[38;5;241m.\u001b[39mget(\u001b[38;5;124m\"\u001b[39m\u001b[38;5;124mid\u001b[39m\u001b[38;5;124m\"\u001b[39m, \u001b[38;5;28;01mNone\u001b[39;00m),\n\u001b[1;32m   2397\u001b[0m     name\u001b[38;5;241m=\u001b[39mjson_decamelized[\u001b[38;5;124m\"\u001b[39m\u001b[38;5;124mname\u001b[39m\u001b[38;5;124m\"\u001b[39m],\n\u001b[0;32m-> 2398\u001b[0m     query\u001b[38;5;241m=\u001b[39m\u001b[43mquery\u001b[49m\u001b[38;5;241;43m.\u001b[39;49m\u001b[43mQuery\u001b[49m\u001b[38;5;241;43m.\u001b[39;49m\u001b[43mfrom_response_json\u001b[49m\u001b[43m(\u001b[49m\u001b[43mjson_decamelized\u001b[49m\u001b[43m[\u001b[49m\u001b[38;5;124;43m\"\u001b[39;49m\u001b[38;5;124;43mquery\u001b[39;49m\u001b[38;5;124;43m\"\u001b[39;49m\u001b[43m]\u001b[49m\u001b[43m)\u001b[49m,\n\u001b[1;32m   2399\u001b[0m     featurestore_id\u001b[38;5;241m=\u001b[39mjson_decamelized[\u001b[38;5;124m\"\u001b[39m\u001b[38;5;124mfeaturestore_id\u001b[39m\u001b[38;5;124m\"\u001b[39m],\n\u001b[1;32m   2400\u001b[0m     version\u001b[38;5;241m=\u001b[39mjson_decamelized\u001b[38;5;241m.\u001b[39mget(\u001b[38;5;124m\"\u001b[39m\u001b[38;5;124mversion\u001b[39m\u001b[38;5;124m\"\u001b[39m, \u001b[38;5;28;01mNone\u001b[39;00m),\n\u001b[1;32m   2401\u001b[0m     description\u001b[38;5;241m=\u001b[39mjson_decamelized\u001b[38;5;241m.\u001b[39mget(\u001b[38;5;124m\"\u001b[39m\u001b[38;5;124mdescription\u001b[39m\u001b[38;5;124m\"\u001b[39m, \u001b[38;5;28;01mNone\u001b[39;00m),\n\u001b[1;32m   2402\u001b[0m     featurestore_name\u001b[38;5;241m=\u001b[39mjson_decamelized\u001b[38;5;241m.\u001b[39mget(\u001b[38;5;124m\"\u001b[39m\u001b[38;5;124mfeaturestore_name\u001b[39m\u001b[38;5;124m\"\u001b[39m, \u001b[38;5;28;01mNone\u001b[39;00m),\n\u001b[1;32m   2403\u001b[0m     serving_keys\u001b[38;5;241m=\u001b[39mserving_keys,\n\u001b[1;32m   2404\u001b[0m )\n\u001b[1;32m   2405\u001b[0m features \u001b[38;5;241m=\u001b[39m json_decamelized\u001b[38;5;241m.\u001b[39mget(\u001b[38;5;124m\"\u001b[39m\u001b[38;5;124mfeatures\u001b[39m\u001b[38;5;124m\"\u001b[39m, [])\n\u001b[1;32m   2406\u001b[0m \u001b[38;5;28;01mif\u001b[39;00m features:\n",
      "File \u001b[0;32m~/anaconda3/envs/venv_ml/lib/python3.9/site-packages/hsfs/constructor/query.py:456\u001b[0m, in \u001b[0;36mQuery.from_response_json\u001b[0;34m(cls, json_dict)\u001b[0m\n\u001b[1;32m    452\u001b[0m \u001b[38;5;28;01melse\u001b[39;00m:\n\u001b[1;32m    453\u001b[0m     feature_group_obj \u001b[38;5;241m=\u001b[39m feature_group\u001b[38;5;241m.\u001b[39mFeatureGroup\u001b[38;5;241m.\u001b[39mfrom_response_json(\n\u001b[1;32m    454\u001b[0m         feature_group_json\n\u001b[1;32m    455\u001b[0m     )\n\u001b[0;32m--> 456\u001b[0m \u001b[38;5;28;01mreturn\u001b[39;00m \u001b[38;5;28;43mcls\u001b[39;49m\u001b[43m(\u001b[49m\n\u001b[1;32m    457\u001b[0m \u001b[43m    \u001b[49m\u001b[43mleft_feature_group\u001b[49m\u001b[38;5;241;43m=\u001b[39;49m\u001b[43mfeature_group_obj\u001b[49m\u001b[43m,\u001b[49m\n\u001b[1;32m    458\u001b[0m \u001b[43m    \u001b[49m\u001b[43mleft_features\u001b[49m\u001b[38;5;241;43m=\u001b[39;49m\u001b[43mjson_decamelized\u001b[49m\u001b[43m[\u001b[49m\u001b[38;5;124;43m\"\u001b[39;49m\u001b[38;5;124;43mleft_features\u001b[39;49m\u001b[38;5;124;43m\"\u001b[39;49m\u001b[43m]\u001b[49m\u001b[43m,\u001b[49m\n\u001b[1;32m    459\u001b[0m \u001b[43m    \u001b[49m\u001b[43mfeature_store_name\u001b[49m\u001b[38;5;241;43m=\u001b[39;49m\u001b[43mjson_decamelized\u001b[49m\u001b[38;5;241;43m.\u001b[39;49m\u001b[43mget\u001b[49m\u001b[43m(\u001b[49m\u001b[38;5;124;43m\"\u001b[39;49m\u001b[38;5;124;43mfeature_store_name\u001b[39;49m\u001b[38;5;124;43m\"\u001b[39;49m\u001b[43m,\u001b[49m\u001b[43m \u001b[49m\u001b[38;5;28;43;01mNone\u001b[39;49;00m\u001b[43m)\u001b[49m\u001b[43m,\u001b[49m\n\u001b[1;32m    460\u001b[0m \u001b[43m    \u001b[49m\u001b[43mfeature_store_id\u001b[49m\u001b[38;5;241;43m=\u001b[39;49m\u001b[43mjson_decamelized\u001b[49m\u001b[38;5;241;43m.\u001b[39;49m\u001b[43mget\u001b[49m\u001b[43m(\u001b[49m\u001b[38;5;124;43m\"\u001b[39;49m\u001b[38;5;124;43mfeature_store_id\u001b[39;49m\u001b[38;5;124;43m\"\u001b[39;49m\u001b[43m,\u001b[49m\u001b[43m \u001b[49m\u001b[38;5;28;43;01mNone\u001b[39;49;00m\u001b[43m)\u001b[49m\u001b[43m,\u001b[49m\n\u001b[1;32m    461\u001b[0m \u001b[43m    \u001b[49m\u001b[43mleft_feature_group_start_time\u001b[49m\u001b[38;5;241;43m=\u001b[39;49m\u001b[43mjson_decamelized\u001b[49m\u001b[38;5;241;43m.\u001b[39;49m\u001b[43mget\u001b[49m\u001b[43m(\u001b[49m\n\u001b[1;32m    462\u001b[0m \u001b[43m        \u001b[49m\u001b[38;5;124;43m\"\u001b[39;49m\u001b[38;5;124;43mleft_feature_group_start_time\u001b[39;49m\u001b[38;5;124;43m\"\u001b[39;49m\u001b[43m,\u001b[49m\u001b[43m \u001b[49m\u001b[38;5;28;43;01mNone\u001b[39;49;00m\n\u001b[1;32m    463\u001b[0m \u001b[43m    \u001b[49m\u001b[43m)\u001b[49m\u001b[43m,\u001b[49m\n\u001b[1;32m    464\u001b[0m \u001b[43m    \u001b[49m\u001b[43mleft_feature_group_end_time\u001b[49m\u001b[38;5;241;43m=\u001b[39;49m\u001b[43mjson_decamelized\u001b[49m\u001b[38;5;241;43m.\u001b[39;49m\u001b[43mget\u001b[49m\u001b[43m(\u001b[49m\n\u001b[1;32m    465\u001b[0m \u001b[43m        \u001b[49m\u001b[38;5;124;43m\"\u001b[39;49m\u001b[38;5;124;43mleft_feature_group_end_time\u001b[39;49m\u001b[38;5;124;43m\"\u001b[39;49m\u001b[43m,\u001b[49m\u001b[43m \u001b[49m\u001b[38;5;28;43;01mNone\u001b[39;49;00m\n\u001b[1;32m    466\u001b[0m \u001b[43m    \u001b[49m\u001b[43m)\u001b[49m\u001b[43m,\u001b[49m\n\u001b[1;32m    467\u001b[0m \u001b[43m    \u001b[49m\u001b[43mjoins\u001b[49m\u001b[38;5;241;43m=\u001b[39;49m\u001b[43m[\u001b[49m\n\u001b[1;32m    468\u001b[0m \u001b[43m        \u001b[49m\u001b[43mjoin\u001b[49m\u001b[38;5;241;43m.\u001b[39;49m\u001b[43mJoin\u001b[49m\u001b[38;5;241;43m.\u001b[39;49m\u001b[43mfrom_response_json\u001b[49m\u001b[43m(\u001b[49m\u001b[43m_join\u001b[49m\u001b[43m)\u001b[49m\n\u001b[1;32m    469\u001b[0m \u001b[43m        \u001b[49m\u001b[38;5;28;43;01mfor\u001b[39;49;00m\u001b[43m \u001b[49m\u001b[43m_join\u001b[49m\u001b[43m \u001b[49m\u001b[38;5;129;43;01min\u001b[39;49;00m\u001b[43m \u001b[49m\u001b[43mjson_decamelized\u001b[49m\u001b[38;5;241;43m.\u001b[39;49m\u001b[43mget\u001b[49m\u001b[43m(\u001b[49m\u001b[38;5;124;43m\"\u001b[39;49m\u001b[38;5;124;43mjoins\u001b[39;49m\u001b[38;5;124;43m\"\u001b[39;49m\u001b[43m,\u001b[49m\u001b[43m \u001b[49m\u001b[43m[\u001b[49m\u001b[43m]\u001b[49m\u001b[43m)\u001b[49m\n\u001b[1;32m    470\u001b[0m \u001b[43m    \u001b[49m\u001b[43m]\u001b[49m\u001b[43m,\u001b[49m\n\u001b[1;32m    471\u001b[0m \u001b[43m    \u001b[49m\u001b[38;5;28;43mfilter\u001b[39;49m\u001b[38;5;241;43m=\u001b[39;49m\u001b[43mjson_decamelized\u001b[49m\u001b[38;5;241;43m.\u001b[39;49m\u001b[43mget\u001b[49m\u001b[43m(\u001b[49m\u001b[38;5;124;43m\"\u001b[39;49m\u001b[38;5;124;43mfilter\u001b[39;49m\u001b[38;5;124;43m\"\u001b[39;49m\u001b[43m,\u001b[49m\u001b[43m \u001b[49m\u001b[38;5;28;43;01mNone\u001b[39;49;00m\u001b[43m)\u001b[49m\u001b[43m,\u001b[49m\n\u001b[1;32m    472\u001b[0m \u001b[43m\u001b[49m\u001b[43m)\u001b[49m\n",
      "File \u001b[0;32m~/anaconda3/envs/venv_ml/lib/python3.9/site-packages/hsfs/constructor/query.py:65\u001b[0m, in \u001b[0;36mQuery.__init__\u001b[0;34m(self, left_feature_group, left_features, feature_store_name, feature_store_id, left_feature_group_start_time, left_feature_group_end_time, joins, filter)\u001b[0m\n\u001b[1;32m     63\u001b[0m \u001b[38;5;28mself\u001b[39m\u001b[38;5;241m.\u001b[39m_left_feature_group_end_time \u001b[38;5;241m=\u001b[39m left_feature_group_end_time\n\u001b[1;32m     64\u001b[0m \u001b[38;5;28mself\u001b[39m\u001b[38;5;241m.\u001b[39m_joins \u001b[38;5;241m=\u001b[39m joins \u001b[38;5;129;01mor\u001b[39;00m []\n\u001b[0;32m---> 65\u001b[0m \u001b[38;5;28mself\u001b[39m\u001b[38;5;241m.\u001b[39m_filter \u001b[38;5;241m=\u001b[39m \u001b[43mLogic\u001b[49m\u001b[38;5;241;43m.\u001b[39;49m\u001b[43mfrom_response_json\u001b[49m\u001b[43m(\u001b[49m\u001b[38;5;28;43mfilter\u001b[39;49m\u001b[43m)\u001b[49m\n\u001b[1;32m     66\u001b[0m \u001b[38;5;28mself\u001b[39m\u001b[38;5;241m.\u001b[39m_python_engine \u001b[38;5;241m=\u001b[39m \u001b[38;5;28;01mTrue\u001b[39;00m \u001b[38;5;28;01mif\u001b[39;00m engine\u001b[38;5;241m.\u001b[39mget_type() \u001b[38;5;241m==\u001b[39m \u001b[38;5;124m\"\u001b[39m\u001b[38;5;124mpython\u001b[39m\u001b[38;5;124m\"\u001b[39m \u001b[38;5;28;01melse\u001b[39;00m \u001b[38;5;28;01mFalse\u001b[39;00m\n\u001b[1;32m     67\u001b[0m \u001b[38;5;28mself\u001b[39m\u001b[38;5;241m.\u001b[39m_query_constructor_api \u001b[38;5;241m=\u001b[39m query_constructor_api\u001b[38;5;241m.\u001b[39mQueryConstructorApi()\n",
      "File \u001b[0;32m~/anaconda3/envs/venv_ml/lib/python3.9/site-packages/hsfs/constructor/filter.py:120\u001b[0m, in \u001b[0;36mLogic.from_response_json\u001b[0;34m(cls, json_dict)\u001b[0m\n\u001b[1;32m    115\u001b[0m \u001b[38;5;28;01mif\u001b[39;00m json_dict \u001b[38;5;129;01mis\u001b[39;00m \u001b[38;5;28;01mNone\u001b[39;00m:\n\u001b[1;32m    116\u001b[0m     \u001b[38;5;28;01mreturn\u001b[39;00m \u001b[38;5;28;01mNone\u001b[39;00m\n\u001b[1;32m    118\u001b[0m \u001b[38;5;28;01mreturn\u001b[39;00m \u001b[38;5;28mcls\u001b[39m(\n\u001b[1;32m    119\u001b[0m     \u001b[38;5;28mtype\u001b[39m\u001b[38;5;241m=\u001b[39mjson_dict[\u001b[38;5;124m\"\u001b[39m\u001b[38;5;124mtype\u001b[39m\u001b[38;5;124m\"\u001b[39m] \u001b[38;5;28;01mif\u001b[39;00m \u001b[38;5;124m\"\u001b[39m\u001b[38;5;124mtype\u001b[39m\u001b[38;5;124m\"\u001b[39m \u001b[38;5;129;01min\u001b[39;00m json_dict \u001b[38;5;28;01melse\u001b[39;00m \u001b[38;5;28;01mNone\u001b[39;00m,\n\u001b[0;32m--> 120\u001b[0m     left_f\u001b[38;5;241m=\u001b[39m\u001b[43mFilter\u001b[49m\u001b[38;5;241;43m.\u001b[39;49m\u001b[43mfrom_response_json\u001b[49m\u001b[43m(\u001b[49m\u001b[43mjson_dict\u001b[49m\u001b[38;5;241;43m.\u001b[39;49m\u001b[43mget\u001b[49m\u001b[43m(\u001b[49m\u001b[38;5;124;43m\"\u001b[39;49m\u001b[38;5;124;43mleft_filter\u001b[39;49m\u001b[38;5;124;43m\"\u001b[39;49m\u001b[43m,\u001b[49m\u001b[43m \u001b[49m\u001b[38;5;28;43;01mNone\u001b[39;49;00m\u001b[43m)\u001b[49m\u001b[43m)\u001b[49m,\n\u001b[1;32m    121\u001b[0m     right_f\u001b[38;5;241m=\u001b[39mFilter\u001b[38;5;241m.\u001b[39mfrom_response_json(json_dict\u001b[38;5;241m.\u001b[39mget(\u001b[38;5;124m\"\u001b[39m\u001b[38;5;124mright_filter\u001b[39m\u001b[38;5;124m\"\u001b[39m, \u001b[38;5;28;01mNone\u001b[39;00m)),\n\u001b[1;32m    122\u001b[0m     left_l\u001b[38;5;241m=\u001b[39mLogic\u001b[38;5;241m.\u001b[39mfrom_response_json(json_dict\u001b[38;5;241m.\u001b[39mget(\u001b[38;5;124m\"\u001b[39m\u001b[38;5;124mleft_logic\u001b[39m\u001b[38;5;124m\"\u001b[39m, \u001b[38;5;28;01mNone\u001b[39;00m)),\n\u001b[1;32m    123\u001b[0m     right_l\u001b[38;5;241m=\u001b[39mLogic\u001b[38;5;241m.\u001b[39mfrom_response_json(json_dict\u001b[38;5;241m.\u001b[39mget(\u001b[38;5;124m\"\u001b[39m\u001b[38;5;124mright_logic\u001b[39m\u001b[38;5;124m\"\u001b[39m, \u001b[38;5;28;01mNone\u001b[39;00m)),\n\u001b[1;32m    124\u001b[0m )\n",
      "File \u001b[0;32m~/anaconda3/envs/venv_ml/lib/python3.9/site-packages/hsfs/constructor/filter.py:45\u001b[0m, in \u001b[0;36mFilter.from_response_json\u001b[0;34m(cls, json_dict)\u001b[0m\n\u001b[1;32m     39\u001b[0m \u001b[38;5;28;01mif\u001b[39;00m json_dict \u001b[38;5;129;01mis\u001b[39;00m \u001b[38;5;28;01mNone\u001b[39;00m:\n\u001b[1;32m     40\u001b[0m     \u001b[38;5;28;01mreturn\u001b[39;00m \u001b[38;5;28;01mNone\u001b[39;00m\n\u001b[1;32m     42\u001b[0m \u001b[38;5;28;01mreturn\u001b[39;00m \u001b[38;5;28mcls\u001b[39m(\n\u001b[1;32m     43\u001b[0m     feature\u001b[38;5;241m=\u001b[39mfeature\u001b[38;5;241m.\u001b[39mFeature\u001b[38;5;241m.\u001b[39mfrom_response_json(json_dict[\u001b[38;5;124m\"\u001b[39m\u001b[38;5;124mfeature\u001b[39m\u001b[38;5;124m\"\u001b[39m]),\n\u001b[1;32m     44\u001b[0m     condition\u001b[38;5;241m=\u001b[39mjson_dict[\u001b[38;5;124m\"\u001b[39m\u001b[38;5;124mcondition\u001b[39m\u001b[38;5;124m\"\u001b[39m],\n\u001b[0;32m---> 45\u001b[0m     value\u001b[38;5;241m=\u001b[39m\u001b[43mjson_dict\u001b[49m\u001b[43m[\u001b[49m\u001b[38;5;124;43m\"\u001b[39;49m\u001b[38;5;124;43mvalue\u001b[39;49m\u001b[38;5;124;43m\"\u001b[39;49m\u001b[43m]\u001b[49m,\n\u001b[1;32m     46\u001b[0m )\n",
      "\u001b[0;31mKeyError\u001b[0m: 'value'"
     ]
    }
   ],
   "source": [
    "project = hopsworks.login(api_key_file=\"api_key\")\n",
    "fs = project.get_feature_store()\n",
    "fg = fs.get_feature_group(\"cleaned_air_quality_data\")\n",
    "query = data_fg.select_all().\\\n",
    "            join(regression_prediction_fg.select(['predicted_femman_pm25']), on=\"date_time\", join_type = \"left\").\\\n",
    "            filter(regression_prediction_fg.predicted_femman_pm25 == None)\n",
    "transformations = {feature.name: fs.get_transformation_function(name=\"min_max_scaler\") \\\n",
    "                   for feature in fg.features if feature.name not in ['femman_pm25', \"date_time\", \"date_time_str\"]}\n",
    "fv = fs.get_or_create_feature_view(name=\"air_qaulity_baseline_fv_3\",\n",
    "                                   query=query,\n",
    "                                   version=1,\n",
    "                                    labels=['femman_pm25'],\n",
    "                                   transformation_functions=transformations\n",
    "                                  )"
   ]
  }
 ],
 "metadata": {
  "kernelspec": {
   "display_name": "Python 3 (ipykernel)",
   "language": "python",
   "name": "python3"
  },
  "language_info": {
   "codemirror_mode": {
    "name": "ipython",
    "version": 3
   },
   "file_extension": ".py",
   "mimetype": "text/x-python",
   "name": "python",
   "nbconvert_exporter": "python",
   "pygments_lexer": "ipython3",
   "version": "3.9.18"
  }
 },
 "nbformat": 4,
 "nbformat_minor": 5
}
