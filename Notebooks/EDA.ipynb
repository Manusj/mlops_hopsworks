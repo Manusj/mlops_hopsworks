{
 "cells": [
  {
   "cell_type": "code",
   "execution_count": 1,
   "id": "84824703-2b3e-49b8-b9b5-bc89df9dae8b",
   "metadata": {},
   "outputs": [],
   "source": [
    "import pandas as pd\n",
    "import numpy as np\n",
    "import requests\n",
    "import hopsworks\n",
    "import joblib"
   ]
  },
  {
   "cell_type": "code",
   "execution_count": null,
   "id": "bca5e873-6e5f-4c0f-970c-3db857f49085",
   "metadata": {},
   "outputs": [],
   "source": [
    "%load_ext autoreload\n",
    "%autoreload 2"
   ]
  },
  {
   "cell_type": "markdown",
   "id": "4a2207db-37e3-468f-ac90-d6c912965779",
   "metadata": {},
   "source": [
    "# Importing Air Qualtiy Dataset for Gothenburg year 2023\n",
    "##### From https://goteborg.se/wps/portal/start/kommun-och-politik/sa-arbetar-goteborgs-stad-med/digitalisering/oppna-data/sok-oppna-data/oppna-data---datamangd#esc_entry=690&esc_context=6"
   ]
  },
  {
   "cell_type": "markdown",
   "id": "6de5ef7d-d3b1-4ed5-8aa8-28ceede52cdd",
   "metadata": {},
   "source": [
    "# EDA"
   ]
  },
  {
   "cell_type": "code",
   "execution_count": 67,
   "id": "4646f914-f651-455b-be41-b8bc863a26cd",
   "metadata": {},
   "outputs": [],
   "source": [
    "from air_pred.utils import data_preprocessing\n",
    "import great_expectations as ge\n",
    "def value_not_null(expectation_suite, column_name):\n",
    "    expectation_suite.add_expectation(ge.core.ExpectationConfiguration(\n",
    "                                        expectation_type=\"expect_column_values_to_not_be_null\",\n",
    "                                        kwargs={\n",
    "                                            \"column\": column_name,\n",
    "                                        }\n",
    "                                        ))"
   ]
  },
  {
   "cell_type": "code",
   "execution_count": 68,
   "id": "72096c0e-6fb2-4022-9fad-60632785fe57",
   "metadata": {},
   "outputs": [],
   "source": [
    "fg = fs.get_or_create_feature_group(name=\"air_quality_data\",\n",
    "                                        version=FEAURE_GROUP_VERSION,\n",
    "                                        description=\"Uncleaned raw data for air quality in Gothenburg\",\n",
    "                                        online_enabled=False,\n",
    "                                        primary_key=[\"date_time\"],\n",
    "                                        event_time='date_time')\n",
    "df = pd.read_csv(\"air_quality_2023.csv\", skipinitialspace = True)\n",
    "processed_df = data_preprocessing.create_date_time_feature(df)\n",
    "#fg.insert(processed_df, wait=True, write_options={\"wait_for_job\":True}"
   ]
  },
  {
   "cell_type": "code",
   "execution_count": 79,
   "id": "00c44a3c-ce8c-492d-9c41-82529e76b6c5",
   "metadata": {},
   "outputs": [
    {
     "name": "stdout",
     "output_type": "stream",
     "text": [
      "Feature Group created successfully, explore it at \n",
      "https://c.app.hopsworks.ai:443/p/140436/fs/140355/fg/159091\n"
     ]
    },
    {
     "data": {
      "application/vnd.jupyter.widget-view+json": {
       "model_id": "8a335185afd74551bd771e663c6ddc3e",
       "version_major": 2,
       "version_minor": 0
      },
      "text/plain": [
       "Uploading Dataframe: 0.00% |          | Rows 0/7089 | Elapsed Time: 00:00 | Remaining Time: ?"
      ]
     },
     "metadata": {},
     "output_type": "display_data"
    },
    {
     "name": "stdout",
     "output_type": "stream",
     "text": [
      "Launching job: cleaned_air_quality_data_1_offline_fg_materialization\n",
      "Job started successfully, you can follow the progress at \n",
      "https://c.app.hopsworks.ai/p/140436/jobs/named/cleaned_air_quality_data_1_offline_fg_materialization/executions\n"
     ]
    },
    {
     "data": {
      "text/plain": [
       "(<hsfs.core.job.Job at 0x167118d90>, None)"
      ]
     },
     "execution_count": 79,
     "metadata": {},
     "output_type": "execute_result"
    }
   ],
   "source": [
    "clean_data_fg = fs.get_or_create_feature_group(name=\"cleaned_air_quality_data\",\n",
    "                                            version=FEAURE_GROUP_VERSION,\n",
    "                                            description=\"Cleaned raw data for air quality in Gothenburg\",\n",
    "                                            online_enabled=True,\n",
    "                                            primary_key=[\"date_time_str\"],\n",
    "                                            event_time='date_time')\n",
    "expectation_suite = ge.core.ExpectationSuite(expectation_suite_name=\"cleaned_air_quality_fg\")\n",
    "\n",
    "cleneddf = data_preprocessing.clean_data(processed_df)\n",
    "\n",
    "for feature in cleneddf.columns:\n",
    "    value_not_null(expectation_suite, feature)\n",
    "    \n",
    "if clean_data_fg.get_expectation_suite is None:\n",
    "    clean_data_fg.save_expectation_suite(expectation_suite, run_validation=True, validation_ingestion_policy=\"STRICT\")\n",
    "# Must do backfill also\n",
    "\n",
    "clean_data_fg.insert(cleneddf, wait=True, write_options={\"wait_for_job\":True})"
   ]
  },
  {
   "cell_type": "code",
   "execution_count": 80,
   "id": "c72f8b76-1653-400c-9720-454805f0df10",
   "metadata": {},
   "outputs": [],
   "source": [
    "es = clean_data_fg.get_expectation_suite()"
   ]
  },
  {
   "cell_type": "code",
   "execution_count": 81,
   "id": "e5093606-6c97-4f27-ac46-a51bbfa695f1",
   "metadata": {},
   "outputs": [],
   "source": [
    "es"
   ]
  },
  {
   "cell_type": "code",
   "execution_count": null,
   "id": "9e749707-bb0e-43d0-9805-e2a86e6a3d47",
   "metadata": {},
   "outputs": [],
   "source": []
  }
 ],
 "metadata": {
  "kernelspec": {
   "display_name": "Python 3 (ipykernel)",
   "language": "python",
   "name": "python3"
  },
  "language_info": {
   "codemirror_mode": {
    "name": "ipython",
    "version": 3
   },
   "file_extension": ".py",
   "mimetype": "text/x-python",
   "name": "python",
   "nbconvert_exporter": "python",
   "pygments_lexer": "ipython3",
   "version": "3.9.18"
  }
 },
 "nbformat": 4,
 "nbformat_minor": 5
}
